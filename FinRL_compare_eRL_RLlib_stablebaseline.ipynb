{
 "cells": [
  {
   "cell_type": "markdown",
   "metadata": {
    "id": "skemZ68ZZMdx"
   },
   "source": [
    "# FinRL: Compare ElegantRL, RLlib, and Stablebaselines3"
   ]
  },
  {
   "cell_type": "markdown",
   "metadata": {
    "id": "c3XX4MO9UxNx"
   },
   "source": [
    "## Install DRL libraries: FinRL, ElegantRL, RLlib"
   ]
  },
  {
   "cell_type": "code",
   "execution_count": 1,
   "metadata": {
    "colab": {
     "base_uri": "https://localhost:8080/"
    },
    "id": "VtxFMjnLDy3Q",
    "outputId": "64754e5f-376a-4ee5-a202-6e5ae976ef2f"
   },
   "outputs": [
    {
     "name": "stdout",
     "output_type": "stream",
     "text": [
      "Collecting git+https://github.com/AI4Finance-LLC/ElegantRL.git\r\n",
      "  Cloning https://github.com/AI4Finance-LLC/ElegantRL.git to /tmp/pip-req-build-rvxypt1e\r\n",
      "  Running command git clone -q https://github.com/AI4Finance-LLC/ElegantRL.git /tmp/pip-req-build-rvxypt1e\r\n",
      "  Resolved https://github.com/AI4Finance-LLC/ElegantRL.git to commit 79e2b54a506acc248291ce0c5e6c8558459fdc72\r\n",
      "Requirement already satisfied: gym in /home/jens/miniconda3/envs/FinRL/lib/python3.8/site-packages (from elegantrl==0.3.1) (0.20.0)\r\n",
      "Requirement already satisfied: matplotlib in /home/jens/miniconda3/envs/FinRL/lib/python3.8/site-packages (from elegantrl==0.3.1) (3.4.3)\r\n",
      "Requirement already satisfied: numpy in /home/jens/miniconda3/envs/FinRL/lib/python3.8/site-packages (from elegantrl==0.3.1) (1.21.2)\r\n",
      "Requirement already satisfied: pybullet in /home/jens/miniconda3/envs/FinRL/lib/python3.8/site-packages (from elegantrl==0.3.1) (3.1.9)\r\n",
      "Requirement already satisfied: torch in /home/jens/miniconda3/envs/FinRL/lib/python3.8/site-packages (from elegantrl==0.3.1) (1.9.1+cu111)\r\n",
      "Requirement already satisfied: opencv-python in /home/jens/miniconda3/envs/FinRL/lib/python3.8/site-packages (from elegantrl==0.3.1) (4.5.3.56)\r\n",
      "Collecting box2d-py\r\n",
      "  Using cached box2d-py-2.3.8.tar.gz (374 kB)\r\n",
      "Requirement already satisfied: cloudpickle>=1.2.0 in /home/jens/miniconda3/envs/FinRL/lib/python3.8/site-packages (from gym->elegantrl==0.3.1) (2.0.0)\r\n",
      "Requirement already satisfied: pyparsing>=2.2.1 in /home/jens/miniconda3/envs/FinRL/lib/python3.8/site-packages (from matplotlib->elegantrl==0.3.1) (2.4.7)\r\n",
      "Requirement already satisfied: python-dateutil>=2.7 in /home/jens/miniconda3/envs/FinRL/lib/python3.8/site-packages (from matplotlib->elegantrl==0.3.1) (2.8.2)\r\n",
      "Requirement already satisfied: kiwisolver>=1.0.1 in /home/jens/miniconda3/envs/FinRL/lib/python3.8/site-packages (from matplotlib->elegantrl==0.3.1) (1.3.2)\r\n",
      "Requirement already satisfied: cycler>=0.10 in /home/jens/miniconda3/envs/FinRL/lib/python3.8/site-packages (from matplotlib->elegantrl==0.3.1) (0.10.0)\r\n",
      "Requirement already satisfied: pillow>=6.2.0 in /home/jens/miniconda3/envs/FinRL/lib/python3.8/site-packages (from matplotlib->elegantrl==0.3.1) (8.3.2)\r\n",
      "Requirement already satisfied: six in /home/jens/miniconda3/envs/FinRL/lib/python3.8/site-packages (from cycler>=0.10->matplotlib->elegantrl==0.3.1) (1.16.0)\r\n",
      "Requirement already satisfied: typing-extensions in /home/jens/miniconda3/envs/FinRL/lib/python3.8/site-packages (from torch->elegantrl==0.3.1) (3.10.0.2)\r\n",
      "Building wheels for collected packages: elegantrl, box2d-py\r\n",
      "  Building wheel for elegantrl (setup.py) ... \u001B[?25l-\b \bdone\r\n",
      "\u001B[?25h  Created wheel for elegantrl: filename=elegantrl-0.3.1-py3-none-any.whl size=72851 sha256=f484367949e21a12d835e109d7e018fc722600948bc0e7578474926a7a8797ed\r\n",
      "  Stored in directory: /tmp/pip-ephem-wheel-cache-gy0n2mkw/wheels/c6/92/ff/a33a5349cdaf5699ec7d33f9f94c247a9ba3bc1476be7c4dc6\r\n",
      "  Building wheel for box2d-py (setup.py) ... \u001B[?25l-\b \berror\r\n",
      "\u001B[31m  ERROR: Command errored out with exit status 1:\r\n",
      "   command: /home/jens/miniconda3/envs/FinRL/bin/python -u -c 'import io, os, sys, setuptools, tokenize; sys.argv[0] = '\"'\"'/tmp/pip-install-6_54do8_/box2d-py_8b3781eda58b42d79f7cbc421681dac1/setup.py'\"'\"'; __file__='\"'\"'/tmp/pip-install-6_54do8_/box2d-py_8b3781eda58b42d79f7cbc421681dac1/setup.py'\"'\"';f = getattr(tokenize, '\"'\"'open'\"'\"', open)(__file__) if os.path.exists(__file__) else io.StringIO('\"'\"'from setuptools import setup; setup()'\"'\"');code = f.read().replace('\"'\"'\\r\\n'\"'\"', '\"'\"'\\n'\"'\"');f.close();exec(compile(code, __file__, '\"'\"'exec'\"'\"'))' bdist_wheel -d /tmp/pip-wheel-_auh967i\r\n",
      "       cwd: /tmp/pip-install-6_54do8_/box2d-py_8b3781eda58b42d79f7cbc421681dac1/\r\n",
      "  Complete output (17 lines):\r\n",
      "  Using setuptools (version 58.0.4).\r\n",
      "  running bdist_wheel\r\n",
      "  running build\r\n",
      "  running build_py\r\n",
      "  creating build\r\n",
      "  creating build/lib.linux-x86_64-3.8\r\n",
      "  creating build/lib.linux-x86_64-3.8/Box2D\r\n",
      "  copying library/Box2D/Box2D.py -> build/lib.linux-x86_64-3.8/Box2D\r\n",
      "  copying library/Box2D/__init__.py -> build/lib.linux-x86_64-3.8/Box2D\r\n",
      "  creating build/lib.linux-x86_64-3.8/Box2D/b2\r\n",
      "  copying library/Box2D/b2/__init__.py -> build/lib.linux-x86_64-3.8/Box2D/b2\r\n",
      "  running build_ext\r\n",
      "  building 'Box2D._Box2D' extension\r\n",
      "  swigging Box2D/Box2D.i to Box2D/Box2D_wrap.cpp\r\n",
      "  swig -python -c++ -IBox2D -small -O -includeall -ignoremissing -w201 -globals b2Globals -outdir library/Box2D -keyword -w511 -D_SWIG_KWARGS -o Box2D/Box2D_wrap.cpp Box2D/Box2D.i\r\n",
      "  unable to execute 'swig': No such file or directory\r\n",
      "  error: command 'swig' failed with exit status 1\r\n",
      "  ----------------------------------------\u001B[0m\r\n",
      "\u001B[31m  ERROR: Failed building wheel for box2d-py\u001B[0m\r\n",
      "\u001B[?25h  Running setup.py clean for box2d-py\r\n",
      "Successfully built elegantrl\r\n",
      "Failed to build box2d-py\r\n",
      "Installing collected packages: box2d-py, elegantrl\r\n",
      "    Running setup.py install for box2d-py ... \u001B[?25l-\b \berror\r\n",
      "\u001B[31m    ERROR: Command errored out with exit status 1:\r\n",
      "     command: /home/jens/miniconda3/envs/FinRL/bin/python -u -c 'import io, os, sys, setuptools, tokenize; sys.argv[0] = '\"'\"'/tmp/pip-install-6_54do8_/box2d-py_8b3781eda58b42d79f7cbc421681dac1/setup.py'\"'\"'; __file__='\"'\"'/tmp/pip-install-6_54do8_/box2d-py_8b3781eda58b42d79f7cbc421681dac1/setup.py'\"'\"';f = getattr(tokenize, '\"'\"'open'\"'\"', open)(__file__) if os.path.exists(__file__) else io.StringIO('\"'\"'from setuptools import setup; setup()'\"'\"');code = f.read().replace('\"'\"'\\r\\n'\"'\"', '\"'\"'\\n'\"'\"');f.close();exec(compile(code, __file__, '\"'\"'exec'\"'\"'))' install --record /tmp/pip-record-gyve7_50/install-record.txt --single-version-externally-managed --compile --install-headers /home/jens/miniconda3/envs/FinRL/include/python3.8/box2d-py\r\n",
      "         cwd: /tmp/pip-install-6_54do8_/box2d-py_8b3781eda58b42d79f7cbc421681dac1/\r\n",
      "    Complete output (17 lines):\r\n",
      "    Using setuptools (version 58.0.4).\r\n",
      "    running install\r\n",
      "    running build\r\n",
      "    running build_py\r\n",
      "    creating build\r\n",
      "    creating build/lib.linux-x86_64-3.8\r\n",
      "    creating build/lib.linux-x86_64-3.8/Box2D\r\n",
      "    copying library/Box2D/Box2D.py -> build/lib.linux-x86_64-3.8/Box2D\r\n",
      "    copying library/Box2D/__init__.py -> build/lib.linux-x86_64-3.8/Box2D\r\n",
      "    creating build/lib.linux-x86_64-3.8/Box2D/b2\r\n",
      "    copying library/Box2D/b2/__init__.py -> build/lib.linux-x86_64-3.8/Box2D/b2\r\n",
      "    running build_ext\r\n",
      "    building 'Box2D._Box2D' extension\r\n",
      "    swigging Box2D/Box2D.i to Box2D/Box2D_wrap.cpp\r\n",
      "    swig -python -c++ -IBox2D -small -O -includeall -ignoremissing -w201 -globals b2Globals -outdir library/Box2D -keyword -w511 -D_SWIG_KWARGS -o Box2D/Box2D_wrap.cpp Box2D/Box2D.i\r\n",
      "    unable to execute 'swig': No such file or directory\r\n",
      "    error: command 'swig' failed with exit status 1\r\n",
      "    ----------------------------------------\u001B[0m\r\n",
      "\u001B[31mERROR: Command errored out with exit status 1: /home/jens/miniconda3/envs/FinRL/bin/python -u -c 'import io, os, sys, setuptools, tokenize; sys.argv[0] = '\"'\"'/tmp/pip-install-6_54do8_/box2d-py_8b3781eda58b42d79f7cbc421681dac1/setup.py'\"'\"'; __file__='\"'\"'/tmp/pip-install-6_54do8_/box2d-py_8b3781eda58b42d79f7cbc421681dac1/setup.py'\"'\"';f = getattr(tokenize, '\"'\"'open'\"'\"', open)(__file__) if os.path.exists(__file__) else io.StringIO('\"'\"'from setuptools import setup; setup()'\"'\"');code = f.read().replace('\"'\"'\\r\\n'\"'\"', '\"'\"'\\n'\"'\"');f.close();exec(compile(code, __file__, '\"'\"'exec'\"'\"'))' install --record /tmp/pip-record-gyve7_50/install-record.txt --single-version-externally-managed --compile --install-headers /home/jens/miniconda3/envs/FinRL/include/python3.8/box2d-py Check the logs for full command output.\u001B[0m\r\n",
      "\u001B[?25hRequirement already satisfied: ray[default] in /home/jens/miniconda3/envs/FinRL/lib/python3.8/site-packages (1.6.0)\r\n",
      "Requirement already satisfied: protobuf>=3.15.3 in /home/jens/miniconda3/envs/FinRL/lib/python3.8/site-packages (from ray[default]) (3.17.3)\r\n",
      "Requirement already satisfied: redis>=3.5.0 in /home/jens/miniconda3/envs/FinRL/lib/python3.8/site-packages (from ray[default]) (3.5.3)\r\n",
      "Requirement already satisfied: msgpack<2.0.0,>=1.0.0 in /home/jens/miniconda3/envs/FinRL/lib/python3.8/site-packages (from ray[default]) (1.0.2)\r\n",
      "Requirement already satisfied: grpcio>=1.28.1 in /home/jens/miniconda3/envs/FinRL/lib/python3.8/site-packages (from ray[default]) (1.41.0)\r\n",
      "Requirement already satisfied: numpy>=1.16 in /home/jens/miniconda3/envs/FinRL/lib/python3.8/site-packages (from ray[default]) (1.21.2)\r\n",
      "Requirement already satisfied: attrs in /home/jens/miniconda3/envs/FinRL/lib/python3.8/site-packages (from ray[default]) (21.2.0)\r\n",
      "Requirement already satisfied: click>=7.0 in /home/jens/miniconda3/envs/FinRL/lib/python3.8/site-packages (from ray[default]) (8.0.1)\r\n",
      "Requirement already satisfied: filelock in /home/jens/miniconda3/envs/FinRL/lib/python3.8/site-packages (from ray[default]) (3.2.1)\r\n",
      "Requirement already satisfied: pyyaml in /home/jens/miniconda3/envs/FinRL/lib/python3.8/site-packages (from ray[default]) (5.4.1)\r\n",
      "Requirement already satisfied: py-spy>=0.2.0 in /home/jens/miniconda3/envs/FinRL/lib/python3.8/site-packages (from ray[default]) (0.3.10)\r\n",
      "Requirement already satisfied: colorful in /home/jens/miniconda3/envs/FinRL/lib/python3.8/site-packages (from ray[default]) (0.5.4)\r\n",
      "Requirement already satisfied: prometheus-client>=0.7.1 in /home/jens/miniconda3/envs/FinRL/lib/python3.8/site-packages (from ray[default]) (0.11.0)\r\n",
      "Requirement already satisfied: gpustat in /home/jens/miniconda3/envs/FinRL/lib/python3.8/site-packages (from ray[default]) (0.6.0)\r\n",
      "Requirement already satisfied: requests in /home/jens/miniconda3/envs/FinRL/lib/python3.8/site-packages (from ray[default]) (2.26.0)\r\n",
      "Requirement already satisfied: jsonschema in /home/jens/miniconda3/envs/FinRL/lib/python3.8/site-packages (from ray[default]) (3.2.0)\r\n",
      "Requirement already satisfied: opencensus in /home/jens/miniconda3/envs/FinRL/lib/python3.8/site-packages (from ray[default]) (0.7.13)\r\n",
      "Requirement already satisfied: aioredis<2 in /home/jens/miniconda3/envs/FinRL/lib/python3.8/site-packages (from ray[default]) (1.3.1)\r\n",
      "Requirement already satisfied: aiohttp-cors in /home/jens/miniconda3/envs/FinRL/lib/python3.8/site-packages (from ray[default]) (0.7.0)\r\n",
      "Requirement already satisfied: aiohttp in /home/jens/miniconda3/envs/FinRL/lib/python3.8/site-packages (from ray[default]) (3.7.4)\r\n",
      "Requirement already satisfied: hiredis in /home/jens/miniconda3/envs/FinRL/lib/python3.8/site-packages (from aioredis<2->ray[default]) (2.0.0)\r\n",
      "Requirement already satisfied: async-timeout in /home/jens/miniconda3/envs/FinRL/lib/python3.8/site-packages (from aioredis<2->ray[default]) (3.0.1)\r\n",
      "Requirement already satisfied: six>=1.5.2 in /home/jens/miniconda3/envs/FinRL/lib/python3.8/site-packages (from grpcio>=1.28.1->ray[default]) (1.16.0)\r\n",
      "Requirement already satisfied: multidict<7.0,>=4.5 in /home/jens/miniconda3/envs/FinRL/lib/python3.8/site-packages (from aiohttp->ray[default]) (5.1.0)\r\n",
      "Requirement already satisfied: chardet<4.0,>=2.0 in /home/jens/miniconda3/envs/FinRL/lib/python3.8/site-packages (from aiohttp->ray[default]) (3.0.4)\r\n",
      "Requirement already satisfied: typing-extensions>=3.6.5 in /home/jens/miniconda3/envs/FinRL/lib/python3.8/site-packages (from aiohttp->ray[default]) (3.10.0.2)\r\n",
      "Requirement already satisfied: yarl<2.0,>=1.0 in /home/jens/miniconda3/envs/FinRL/lib/python3.8/site-packages (from aiohttp->ray[default]) (1.6.3)\r\n",
      "Requirement already satisfied: idna>=2.0 in /home/jens/miniconda3/envs/FinRL/lib/python3.8/site-packages (from yarl<2.0,>=1.0->aiohttp->ray[default]) (3.2)\r\n",
      "Requirement already satisfied: psutil in /home/jens/miniconda3/envs/FinRL/lib/python3.8/site-packages (from gpustat->ray[default]) (5.8.0)\r\n",
      "Requirement already satisfied: nvidia-ml-py3>=7.352.0 in /home/jens/miniconda3/envs/FinRL/lib/python3.8/site-packages (from gpustat->ray[default]) (7.352.0)\r\n",
      "Requirement already satisfied: blessings>=1.6 in /home/jens/miniconda3/envs/FinRL/lib/python3.8/site-packages (from gpustat->ray[default]) (1.7)\r\n",
      "Requirement already satisfied: pyrsistent>=0.14.0 in /home/jens/miniconda3/envs/FinRL/lib/python3.8/site-packages (from jsonschema->ray[default]) (0.17.3)\r\n",
      "Requirement already satisfied: setuptools in /home/jens/miniconda3/envs/FinRL/lib/python3.8/site-packages (from jsonschema->ray[default]) (58.0.4)\r\n",
      "Requirement already satisfied: google-api-core<2.0.0,>=1.0.0 in /home/jens/miniconda3/envs/FinRL/lib/python3.8/site-packages (from opencensus->ray[default]) (1.31.3)\r\n",
      "Requirement already satisfied: opencensus-context==0.1.2 in /home/jens/miniconda3/envs/FinRL/lib/python3.8/site-packages (from opencensus->ray[default]) (0.1.2)\r\n",
      "Requirement already satisfied: pytz in /home/jens/miniconda3/envs/FinRL/lib/python3.8/site-packages (from google-api-core<2.0.0,>=1.0.0->opencensus->ray[default]) (2021.3)\r\n",
      "Requirement already satisfied: google-auth<2.0dev,>=1.25.0 in /home/jens/miniconda3/envs/FinRL/lib/python3.8/site-packages (from google-api-core<2.0.0,>=1.0.0->opencensus->ray[default]) (1.35.0)\r\n",
      "Requirement already satisfied: googleapis-common-protos<2.0dev,>=1.6.0 in /home/jens/miniconda3/envs/FinRL/lib/python3.8/site-packages (from google-api-core<2.0.0,>=1.0.0->opencensus->ray[default]) (1.53.0)\r\n",
      "Requirement already satisfied: packaging>=14.3 in /home/jens/miniconda3/envs/FinRL/lib/python3.8/site-packages (from google-api-core<2.0.0,>=1.0.0->opencensus->ray[default]) (21.0)\r\n",
      "Requirement already satisfied: pyasn1-modules>=0.2.1 in /home/jens/miniconda3/envs/FinRL/lib/python3.8/site-packages (from google-auth<2.0dev,>=1.25.0->google-api-core<2.0.0,>=1.0.0->opencensus->ray[default]) (0.2.8)\r\n",
      "Requirement already satisfied: cachetools<5.0,>=2.0.0 in /home/jens/miniconda3/envs/FinRL/lib/python3.8/site-packages (from google-auth<2.0dev,>=1.25.0->google-api-core<2.0.0,>=1.0.0->opencensus->ray[default]) (4.2.4)\r\n",
      "Requirement already satisfied: rsa<5,>=3.1.4 in /home/jens/miniconda3/envs/FinRL/lib/python3.8/site-packages (from google-auth<2.0dev,>=1.25.0->google-api-core<2.0.0,>=1.0.0->opencensus->ray[default]) (4.7.2)\r\n",
      "Requirement already satisfied: pyparsing>=2.0.2 in /home/jens/miniconda3/envs/FinRL/lib/python3.8/site-packages (from packaging>=14.3->google-api-core<2.0.0,>=1.0.0->opencensus->ray[default]) (2.4.7)\r\n",
      "Requirement already satisfied: pyasn1<0.5.0,>=0.4.6 in /home/jens/miniconda3/envs/FinRL/lib/python3.8/site-packages (from pyasn1-modules>=0.2.1->google-auth<2.0dev,>=1.25.0->google-api-core<2.0.0,>=1.0.0->opencensus->ray[default]) (0.4.8)\r\n",
      "Requirement already satisfied: urllib3<1.27,>=1.21.1 in /home/jens/miniconda3/envs/FinRL/lib/python3.8/site-packages (from requests->ray[default]) (1.26.7)\r\n",
      "Requirement already satisfied: charset-normalizer~=2.0.0 in /home/jens/miniconda3/envs/FinRL/lib/python3.8/site-packages (from requests->ray[default]) (2.0.6)\r\n",
      "Requirement already satisfied: certifi>=2017.4.17 in /home/jens/miniconda3/envs/FinRL/lib/python3.8/site-packages (from requests->ray[default]) (2021.5.30)\r\n",
      "Collecting git+https://github.com/AI4Finance-LLC/FinRL-Library.git\r\n",
      "  Cloning https://github.com/AI4Finance-LLC/FinRL-Library.git to /tmp/pip-req-build-zrmx0r7l\r\n",
      "  Running command git clone -q https://github.com/AI4Finance-LLC/FinRL-Library.git /tmp/pip-req-build-zrmx0r7l\r\n",
      "  Resolved https://github.com/AI4Finance-LLC/FinRL-Library.git to commit 845498b67bac60a401f3bb4f72ae16c2ef52230d\r\n",
      "Collecting pyfolio@ git+https://github.com/quantopian/pyfolio.git#egg=pyfolio-0.9.2\r\n",
      "  Cloning https://github.com/quantopian/pyfolio.git to /tmp/pip-install-6o71d41e/pyfolio_d2e68f77636b4215ad46af70b531efca\r\n",
      "  Running command git clone -q https://github.com/quantopian/pyfolio.git /tmp/pip-install-6o71d41e/pyfolio_d2e68f77636b4215ad46af70b531efca\r\n",
      "  Resolved https://github.com/quantopian/pyfolio.git to commit 4b901f6d73aa02ceb6d04b7d83502e5c6f2e81aa\r\n",
      "Requirement already satisfied: numpy>=1.17.3 in /home/jens/miniconda3/envs/FinRL/lib/python3.8/site-packages (from finrl==0.3.2) (1.21.2)\r\n",
      "Requirement already satisfied: pandas>=1.1.5 in /home/jens/miniconda3/envs/FinRL/lib/python3.8/site-packages (from finrl==0.3.2) (1.3.3)\r\n",
      "Requirement already satisfied: stockstats in /home/jens/miniconda3/envs/FinRL/lib/python3.8/site-packages (from finrl==0.3.2) (0.3.2)\r\n",
      "Requirement already satisfied: yfinance in /home/jens/miniconda3/envs/FinRL/lib/python3.8/site-packages (from finrl==0.3.2) (0.1.63)\r\n",
      "Requirement already satisfied: matplotlib in /home/jens/miniconda3/envs/FinRL/lib/python3.8/site-packages (from finrl==0.3.2) (3.4.3)\r\n",
      "Requirement already satisfied: scikit-learn>=0.21.0 in /home/jens/miniconda3/envs/FinRL/lib/python3.8/site-packages (from finrl==0.3.2) (1.0)\r\n",
      "Requirement already satisfied: gym>=0.17 in /home/jens/miniconda3/envs/FinRL/lib/python3.8/site-packages (from finrl==0.3.2) (0.20.0)\r\n",
      "Requirement already satisfied: stable-baselines3[extra] in /home/jens/miniconda3/envs/FinRL/lib/python3.8/site-packages (from finrl==0.3.2) (1.2.0)\r\n",
      "Requirement already satisfied: ray[default] in /home/jens/miniconda3/envs/FinRL/lib/python3.8/site-packages (from finrl==0.3.2) (1.6.0)\r\n",
      "Requirement already satisfied: lz4 in /home/jens/miniconda3/envs/FinRL/lib/python3.8/site-packages (from finrl==0.3.2) (3.1.3)\r\n",
      "Requirement already satisfied: tensorboardX in /home/jens/miniconda3/envs/FinRL/lib/python3.8/site-packages (from finrl==0.3.2) (2.4)\r\n",
      "Requirement already satisfied: gputil in /home/jens/miniconda3/envs/FinRL/lib/python3.8/site-packages (from finrl==0.3.2) (1.4.0)\r\n",
      "Requirement already satisfied: exchange_calendars in /home/jens/miniconda3/envs/FinRL/lib/python3.8/site-packages (from finrl==0.3.2) (3.3)\r\n",
      "Requirement already satisfied: alpaca_trade_api in /home/jens/miniconda3/envs/FinRL/lib/python3.8/site-packages (from finrl==0.3.2) (1.4.0)\r\n",
      "Requirement already satisfied: ccxt in /home/jens/miniconda3/envs/FinRL/lib/python3.8/site-packages (from finrl==0.3.2) (1.57.35)\r\n",
      "Requirement already satisfied: jqdatasdk in /home/jens/miniconda3/envs/FinRL/lib/python3.8/site-packages (from finrl==0.3.2) (1.8.10)\r\n",
      "Requirement already satisfied: wrds in /home/jens/miniconda3/envs/FinRL/lib/python3.8/site-packages (from finrl==0.3.2) (3.1.1)\r\n",
      "Requirement already satisfied: pytest in /home/jens/miniconda3/envs/FinRL/lib/python3.8/site-packages (from finrl==0.3.2) (6.2.5)\r\n",
      "Requirement already satisfied: setuptools>=41.4.0 in /home/jens/miniconda3/envs/FinRL/lib/python3.8/site-packages (from finrl==0.3.2) (58.0.4)\r\n",
      "Requirement already satisfied: wheel>=0.33.6 in /home/jens/miniconda3/envs/FinRL/lib/python3.8/site-packages (from finrl==0.3.2) (0.37.0)\r\n",
      "Requirement already satisfied: cloudpickle>=1.2.0 in /home/jens/miniconda3/envs/FinRL/lib/python3.8/site-packages (from gym>=0.17->finrl==0.3.2) (2.0.0)\r\n",
      "Requirement already satisfied: python-dateutil>=2.7.3 in /home/jens/miniconda3/envs/FinRL/lib/python3.8/site-packages (from pandas>=1.1.5->finrl==0.3.2) (2.8.2)\r\n",
      "Requirement already satisfied: pytz>=2017.3 in /home/jens/miniconda3/envs/FinRL/lib/python3.8/site-packages (from pandas>=1.1.5->finrl==0.3.2) (2021.3)\r\n",
      "Requirement already satisfied: six>=1.5 in /home/jens/miniconda3/envs/FinRL/lib/python3.8/site-packages (from python-dateutil>=2.7.3->pandas>=1.1.5->finrl==0.3.2) (1.16.0)\r\n",
      "Requirement already satisfied: scipy>=1.1.0 in /home/jens/miniconda3/envs/FinRL/lib/python3.8/site-packages (from scikit-learn>=0.21.0->finrl==0.3.2) (1.7.1)\r\n",
      "Requirement already satisfied: joblib>=0.11 in /home/jens/miniconda3/envs/FinRL/lib/python3.8/site-packages (from scikit-learn>=0.21.0->finrl==0.3.2) (1.0.1)\r\n",
      "Requirement already satisfied: threadpoolctl>=2.0.0 in /home/jens/miniconda3/envs/FinRL/lib/python3.8/site-packages (from scikit-learn>=0.21.0->finrl==0.3.2) (3.0.0)\r\n",
      "Requirement already satisfied: msgpack==1.0.2 in /home/jens/miniconda3/envs/FinRL/lib/python3.8/site-packages (from alpaca_trade_api->finrl==0.3.2) (1.0.2)\r\n",
      "Requirement already satisfied: aiohttp==3.7.4 in /home/jens/miniconda3/envs/FinRL/lib/python3.8/site-packages (from alpaca_trade_api->finrl==0.3.2) (3.7.4)\r\n",
      "Requirement already satisfied: requests<3,>2 in /home/jens/miniconda3/envs/FinRL/lib/python3.8/site-packages (from alpaca_trade_api->finrl==0.3.2) (2.26.0)\r\n",
      "Requirement already satisfied: websocket-client<2,>=0.56.0 in /home/jens/miniconda3/envs/FinRL/lib/python3.8/site-packages (from alpaca_trade_api->finrl==0.3.2) (1.2.1)\r\n",
      "Requirement already satisfied: urllib3<2,>1.24 in /home/jens/miniconda3/envs/FinRL/lib/python3.8/site-packages (from alpaca_trade_api->finrl==0.3.2) (1.26.7)\r\n",
      "Requirement already satisfied: PyYAML==5.4.1 in /home/jens/miniconda3/envs/FinRL/lib/python3.8/site-packages (from alpaca_trade_api->finrl==0.3.2) (5.4.1)\r\n",
      "Requirement already satisfied: websockets<10,>=8.0 in /home/jens/miniconda3/envs/FinRL/lib/python3.8/site-packages (from alpaca_trade_api->finrl==0.3.2) (9.1)\r\n",
      "Requirement already satisfied: chardet<4.0,>=2.0 in /home/jens/miniconda3/envs/FinRL/lib/python3.8/site-packages (from aiohttp==3.7.4->alpaca_trade_api->finrl==0.3.2) (3.0.4)\r\n",
      "Requirement already satisfied: yarl<2.0,>=1.0 in /home/jens/miniconda3/envs/FinRL/lib/python3.8/site-packages (from aiohttp==3.7.4->alpaca_trade_api->finrl==0.3.2) (1.6.3)\r\n",
      "Requirement already satisfied: typing-extensions>=3.6.5 in /home/jens/miniconda3/envs/FinRL/lib/python3.8/site-packages (from aiohttp==3.7.4->alpaca_trade_api->finrl==0.3.2) (3.10.0.2)\r\n",
      "Requirement already satisfied: multidict<7.0,>=4.5 in /home/jens/miniconda3/envs/FinRL/lib/python3.8/site-packages (from aiohttp==3.7.4->alpaca_trade_api->finrl==0.3.2) (5.1.0)\r\n",
      "Requirement already satisfied: async-timeout<4.0,>=3.0 in /home/jens/miniconda3/envs/FinRL/lib/python3.8/site-packages (from aiohttp==3.7.4->alpaca_trade_api->finrl==0.3.2) (3.0.1)\r\n",
      "Requirement already satisfied: attrs>=17.3.0 in /home/jens/miniconda3/envs/FinRL/lib/python3.8/site-packages (from aiohttp==3.7.4->alpaca_trade_api->finrl==0.3.2) (21.2.0)\r\n",
      "Requirement already satisfied: certifi>=2017.4.17 in /home/jens/miniconda3/envs/FinRL/lib/python3.8/site-packages (from requests<3,>2->alpaca_trade_api->finrl==0.3.2) (2021.5.30)\r\n",
      "Requirement already satisfied: charset-normalizer~=2.0.0 in /home/jens/miniconda3/envs/FinRL/lib/python3.8/site-packages (from requests<3,>2->alpaca_trade_api->finrl==0.3.2) (2.0.6)\r\n",
      "Requirement already satisfied: idna<4,>=2.5 in /home/jens/miniconda3/envs/FinRL/lib/python3.8/site-packages (from requests<3,>2->alpaca_trade_api->finrl==0.3.2) (3.2)\r\n",
      "Requirement already satisfied: cryptography>=2.6.1 in /home/jens/miniconda3/envs/FinRL/lib/python3.8/site-packages (from ccxt->finrl==0.3.2) (35.0.0)\r\n",
      "Requirement already satisfied: aiodns>=1.1.1 in /home/jens/miniconda3/envs/FinRL/lib/python3.8/site-packages (from ccxt->finrl==0.3.2) (3.0.0)\r\n",
      "Requirement already satisfied: pycares>=4.0.0 in /home/jens/miniconda3/envs/FinRL/lib/python3.8/site-packages (from aiodns>=1.1.1->ccxt->finrl==0.3.2) (4.0.0)\r\n",
      "Requirement already satisfied: cffi>=1.12 in /home/jens/miniconda3/envs/FinRL/lib/python3.8/site-packages (from cryptography>=2.6.1->ccxt->finrl==0.3.2) (1.14.6)\r\n",
      "Requirement already satisfied: pycparser in /home/jens/miniconda3/envs/FinRL/lib/python3.8/site-packages (from cffi>=1.12->cryptography>=2.6.1->ccxt->finrl==0.3.2) (2.20)\r\n",
      "Requirement already satisfied: pyluach in /home/jens/miniconda3/envs/FinRL/lib/python3.8/site-packages (from exchange_calendars->finrl==0.3.2) (1.3.0)\r\n",
      "Requirement already satisfied: toolz in /home/jens/miniconda3/envs/FinRL/lib/python3.8/site-packages (from exchange_calendars->finrl==0.3.2) (0.11.1)\r\n",
      "Requirement already satisfied: korean-lunar-calendar in /home/jens/miniconda3/envs/FinRL/lib/python3.8/site-packages (from exchange_calendars->finrl==0.3.2) (0.2.1)\r\n",
      "Requirement already satisfied: pymysql>=0.7.6 in /home/jens/miniconda3/envs/FinRL/lib/python3.8/site-packages (from jqdatasdk->finrl==0.3.2) (1.0.2)\r\n",
      "Requirement already satisfied: SQLAlchemy>=1.2.8 in /home/jens/miniconda3/envs/FinRL/lib/python3.8/site-packages (from jqdatasdk->finrl==0.3.2) (1.4.25)\r\n",
      "Requirement already satisfied: thriftpy2>=0.3.9 in /home/jens/miniconda3/envs/FinRL/lib/python3.8/site-packages (from jqdatasdk->finrl==0.3.2) (0.4.14)\r\n",
      "Requirement already satisfied: greenlet!=0.4.17 in /home/jens/miniconda3/envs/FinRL/lib/python3.8/site-packages (from SQLAlchemy>=1.2.8->jqdatasdk->finrl==0.3.2) (1.1.2)\r\n",
      "Requirement already satisfied: ply<4.0,>=3.4 in /home/jens/miniconda3/envs/FinRL/lib/python3.8/site-packages (from thriftpy2>=0.3.9->jqdatasdk->finrl==0.3.2) (3.11)\r\n",
      "Requirement already satisfied: pyparsing>=2.2.1 in /home/jens/miniconda3/envs/FinRL/lib/python3.8/site-packages (from matplotlib->finrl==0.3.2) (2.4.7)\r\n",
      "Requirement already satisfied: cycler>=0.10 in /home/jens/miniconda3/envs/FinRL/lib/python3.8/site-packages (from matplotlib->finrl==0.3.2) (0.10.0)\r\n",
      "Requirement already satisfied: kiwisolver>=1.0.1 in /home/jens/miniconda3/envs/FinRL/lib/python3.8/site-packages (from matplotlib->finrl==0.3.2) (1.3.2)\r\n",
      "Requirement already satisfied: pillow>=6.2.0 in /home/jens/miniconda3/envs/FinRL/lib/python3.8/site-packages (from matplotlib->finrl==0.3.2) (8.3.2)\r\n",
      "Requirement already satisfied: ipython>=3.2.3 in /home/jens/miniconda3/envs/FinRL/lib/python3.8/site-packages (from pyfolio@ git+https://github.com/quantopian/pyfolio.git#egg=pyfolio-0.9.2->finrl==0.3.2) (7.27.0)\r\n",
      "Requirement already satisfied: seaborn>=0.7.1 in /home/jens/miniconda3/envs/FinRL/lib/python3.8/site-packages (from pyfolio@ git+https://github.com/quantopian/pyfolio.git#egg=pyfolio-0.9.2->finrl==0.3.2) (0.11.2)\r\n",
      "Requirement already satisfied: empyrical>=0.5.0 in /home/jens/miniconda3/envs/FinRL/lib/python3.8/site-packages (from pyfolio@ git+https://github.com/quantopian/pyfolio.git#egg=pyfolio-0.9.2->finrl==0.3.2) (0.5.5)\r\n",
      "Requirement already satisfied: pandas-datareader>=0.2 in /home/jens/miniconda3/envs/FinRL/lib/python3.8/site-packages (from empyrical>=0.5.0->pyfolio@ git+https://github.com/quantopian/pyfolio.git#egg=pyfolio-0.9.2->finrl==0.3.2) (0.10.0)\r\n",
      "Requirement already satisfied: pexpect>4.3 in /home/jens/miniconda3/envs/FinRL/lib/python3.8/site-packages (from ipython>=3.2.3->pyfolio@ git+https://github.com/quantopian/pyfolio.git#egg=pyfolio-0.9.2->finrl==0.3.2) (4.8.0)\r\n",
      "Requirement already satisfied: prompt-toolkit!=3.0.0,!=3.0.1,<3.1.0,>=2.0.0 in /home/jens/miniconda3/envs/FinRL/lib/python3.8/site-packages (from ipython>=3.2.3->pyfolio@ git+https://github.com/quantopian/pyfolio.git#egg=pyfolio-0.9.2->finrl==0.3.2) (3.0.17)\r\n",
      "Requirement already satisfied: jedi>=0.16 in /home/jens/miniconda3/envs/FinRL/lib/python3.8/site-packages (from ipython>=3.2.3->pyfolio@ git+https://github.com/quantopian/pyfolio.git#egg=pyfolio-0.9.2->finrl==0.3.2) (0.18.0)\r\n",
      "Requirement already satisfied: matplotlib-inline in /home/jens/miniconda3/envs/FinRL/lib/python3.8/site-packages (from ipython>=3.2.3->pyfolio@ git+https://github.com/quantopian/pyfolio.git#egg=pyfolio-0.9.2->finrl==0.3.2) (0.1.2)\r\n",
      "Requirement already satisfied: traitlets>=4.2 in /home/jens/miniconda3/envs/FinRL/lib/python3.8/site-packages (from ipython>=3.2.3->pyfolio@ git+https://github.com/quantopian/pyfolio.git#egg=pyfolio-0.9.2->finrl==0.3.2) (5.1.0)\r\n",
      "Requirement already satisfied: backcall in /home/jens/miniconda3/envs/FinRL/lib/python3.8/site-packages (from ipython>=3.2.3->pyfolio@ git+https://github.com/quantopian/pyfolio.git#egg=pyfolio-0.9.2->finrl==0.3.2) (0.2.0)\r\n",
      "Requirement already satisfied: decorator in /home/jens/miniconda3/envs/FinRL/lib/python3.8/site-packages (from ipython>=3.2.3->pyfolio@ git+https://github.com/quantopian/pyfolio.git#egg=pyfolio-0.9.2->finrl==0.3.2) (5.1.0)\r\n",
      "Requirement already satisfied: pickleshare in /home/jens/miniconda3/envs/FinRL/lib/python3.8/site-packages (from ipython>=3.2.3->pyfolio@ git+https://github.com/quantopian/pyfolio.git#egg=pyfolio-0.9.2->finrl==0.3.2) (0.7.5)\r\n",
      "Requirement already satisfied: pygments in /home/jens/miniconda3/envs/FinRL/lib/python3.8/site-packages (from ipython>=3.2.3->pyfolio@ git+https://github.com/quantopian/pyfolio.git#egg=pyfolio-0.9.2->finrl==0.3.2) (2.10.0)\r\n",
      "Requirement already satisfied: parso<0.9.0,>=0.8.0 in /home/jens/miniconda3/envs/FinRL/lib/python3.8/site-packages (from jedi>=0.16->ipython>=3.2.3->pyfolio@ git+https://github.com/quantopian/pyfolio.git#egg=pyfolio-0.9.2->finrl==0.3.2) (0.8.2)\r\n",
      "Requirement already satisfied: lxml in /home/jens/miniconda3/envs/FinRL/lib/python3.8/site-packages (from pandas-datareader>=0.2->empyrical>=0.5.0->pyfolio@ git+https://github.com/quantopian/pyfolio.git#egg=pyfolio-0.9.2->finrl==0.3.2) (4.6.3)\r\n",
      "Requirement already satisfied: ptyprocess>=0.5 in /home/jens/miniconda3/envs/FinRL/lib/python3.8/site-packages (from pexpect>4.3->ipython>=3.2.3->pyfolio@ git+https://github.com/quantopian/pyfolio.git#egg=pyfolio-0.9.2->finrl==0.3.2) (0.7.0)\r\n",
      "Requirement already satisfied: wcwidth in /home/jens/miniconda3/envs/FinRL/lib/python3.8/site-packages (from prompt-toolkit!=3.0.0,!=3.0.1,<3.1.0,>=2.0.0->ipython>=3.2.3->pyfolio@ git+https://github.com/quantopian/pyfolio.git#egg=pyfolio-0.9.2->finrl==0.3.2) (0.2.5)\r\n",
      "Requirement already satisfied: py>=1.8.2 in /home/jens/miniconda3/envs/FinRL/lib/python3.8/site-packages (from pytest->finrl==0.3.2) (1.10.0)\r\n",
      "Requirement already satisfied: toml in /home/jens/miniconda3/envs/FinRL/lib/python3.8/site-packages (from pytest->finrl==0.3.2) (0.10.2)\r\n",
      "Requirement already satisfied: pluggy<2.0,>=0.12 in /home/jens/miniconda3/envs/FinRL/lib/python3.8/site-packages (from pytest->finrl==0.3.2) (1.0.0)\r\n",
      "Requirement already satisfied: iniconfig in /home/jens/miniconda3/envs/FinRL/lib/python3.8/site-packages (from pytest->finrl==0.3.2) (1.1.1)\r\n",
      "Requirement already satisfied: packaging in /home/jens/miniconda3/envs/FinRL/lib/python3.8/site-packages (from pytest->finrl==0.3.2) (21.0)\r\n",
      "Requirement already satisfied: click>=7.0 in /home/jens/miniconda3/envs/FinRL/lib/python3.8/site-packages (from ray[default]->finrl==0.3.2) (8.0.1)\r\n",
      "Requirement already satisfied: protobuf>=3.15.3 in /home/jens/miniconda3/envs/FinRL/lib/python3.8/site-packages (from ray[default]->finrl==0.3.2) (3.17.3)\r\n",
      "Requirement already satisfied: grpcio>=1.28.1 in /home/jens/miniconda3/envs/FinRL/lib/python3.8/site-packages (from ray[default]->finrl==0.3.2) (1.41.0)\r\n",
      "Requirement already satisfied: filelock in /home/jens/miniconda3/envs/FinRL/lib/python3.8/site-packages (from ray[default]->finrl==0.3.2) (3.2.1)\r\n",
      "Requirement already satisfied: redis>=3.5.0 in /home/jens/miniconda3/envs/FinRL/lib/python3.8/site-packages (from ray[default]->finrl==0.3.2) (3.5.3)\r\n",
      "Requirement already satisfied: aioredis<2 in /home/jens/miniconda3/envs/FinRL/lib/python3.8/site-packages (from ray[default]->finrl==0.3.2) (1.3.1)\r\n",
      "Requirement already satisfied: aiohttp-cors in /home/jens/miniconda3/envs/FinRL/lib/python3.8/site-packages (from ray[default]->finrl==0.3.2) (0.7.0)\r\n",
      "Requirement already satisfied: py-spy>=0.2.0 in /home/jens/miniconda3/envs/FinRL/lib/python3.8/site-packages (from ray[default]->finrl==0.3.2) (0.3.10)\r\n",
      "Requirement already satisfied: prometheus-client>=0.7.1 in /home/jens/miniconda3/envs/FinRL/lib/python3.8/site-packages (from ray[default]->finrl==0.3.2) (0.11.0)\r\n",
      "Requirement already satisfied: colorful in /home/jens/miniconda3/envs/FinRL/lib/python3.8/site-packages (from ray[default]->finrl==0.3.2) (0.5.4)\r\n",
      "Requirement already satisfied: jsonschema in /home/jens/miniconda3/envs/FinRL/lib/python3.8/site-packages (from ray[default]->finrl==0.3.2) (3.2.0)\r\n",
      "Requirement already satisfied: opencensus in /home/jens/miniconda3/envs/FinRL/lib/python3.8/site-packages (from ray[default]->finrl==0.3.2) (0.7.13)\r\n",
      "Requirement already satisfied: gpustat in /home/jens/miniconda3/envs/FinRL/lib/python3.8/site-packages (from ray[default]->finrl==0.3.2) (0.6.0)\r\n",
      "Requirement already satisfied: hiredis in /home/jens/miniconda3/envs/FinRL/lib/python3.8/site-packages (from aioredis<2->ray[default]->finrl==0.3.2) (2.0.0)\r\n",
      "Requirement already satisfied: nvidia-ml-py3>=7.352.0 in /home/jens/miniconda3/envs/FinRL/lib/python3.8/site-packages (from gpustat->ray[default]->finrl==0.3.2) (7.352.0)\r\n",
      "Requirement already satisfied: psutil in /home/jens/miniconda3/envs/FinRL/lib/python3.8/site-packages (from gpustat->ray[default]->finrl==0.3.2) (5.8.0)\r\n",
      "Requirement already satisfied: blessings>=1.6 in /home/jens/miniconda3/envs/FinRL/lib/python3.8/site-packages (from gpustat->ray[default]->finrl==0.3.2) (1.7)\r\n",
      "Requirement already satisfied: pyrsistent>=0.14.0 in /home/jens/miniconda3/envs/FinRL/lib/python3.8/site-packages (from jsonschema->ray[default]->finrl==0.3.2) (0.17.3)\r\n",
      "Requirement already satisfied: opencensus-context==0.1.2 in /home/jens/miniconda3/envs/FinRL/lib/python3.8/site-packages (from opencensus->ray[default]->finrl==0.3.2) (0.1.2)\r\n",
      "Requirement already satisfied: google-api-core<2.0.0,>=1.0.0 in /home/jens/miniconda3/envs/FinRL/lib/python3.8/site-packages (from opencensus->ray[default]->finrl==0.3.2) (1.31.3)\r\n",
      "Requirement already satisfied: google-auth<2.0dev,>=1.25.0 in /home/jens/miniconda3/envs/FinRL/lib/python3.8/site-packages (from google-api-core<2.0.0,>=1.0.0->opencensus->ray[default]->finrl==0.3.2) (1.35.0)\r\n",
      "Requirement already satisfied: googleapis-common-protos<2.0dev,>=1.6.0 in /home/jens/miniconda3/envs/FinRL/lib/python3.8/site-packages (from google-api-core<2.0.0,>=1.0.0->opencensus->ray[default]->finrl==0.3.2) (1.53.0)\r\n",
      "Requirement already satisfied: rsa<5,>=3.1.4 in /home/jens/miniconda3/envs/FinRL/lib/python3.8/site-packages (from google-auth<2.0dev,>=1.25.0->google-api-core<2.0.0,>=1.0.0->opencensus->ray[default]->finrl==0.3.2) (4.7.2)\r\n",
      "Requirement already satisfied: pyasn1-modules>=0.2.1 in /home/jens/miniconda3/envs/FinRL/lib/python3.8/site-packages (from google-auth<2.0dev,>=1.25.0->google-api-core<2.0.0,>=1.0.0->opencensus->ray[default]->finrl==0.3.2) (0.2.8)\r\n",
      "Requirement already satisfied: cachetools<5.0,>=2.0.0 in /home/jens/miniconda3/envs/FinRL/lib/python3.8/site-packages (from google-auth<2.0dev,>=1.25.0->google-api-core<2.0.0,>=1.0.0->opencensus->ray[default]->finrl==0.3.2) (4.2.4)\r\n",
      "Requirement already satisfied: pyasn1<0.5.0,>=0.4.6 in /home/jens/miniconda3/envs/FinRL/lib/python3.8/site-packages (from pyasn1-modules>=0.2.1->google-auth<2.0dev,>=1.25.0->google-api-core<2.0.0,>=1.0.0->opencensus->ray[default]->finrl==0.3.2) (0.4.8)\r\n",
      "Requirement already satisfied: tabulate in /home/jens/miniconda3/envs/FinRL/lib/python3.8/site-packages (from ray[default]->finrl==0.3.2) (0.8.9)\r\n",
      "Requirement already satisfied: torch>=1.8.1 in /home/jens/miniconda3/envs/FinRL/lib/python3.8/site-packages (from stable-baselines3[extra]->finrl==0.3.2) (1.9.1+cu111)\r\n",
      "Requirement already satisfied: atari-py~=0.2.0 in /home/jens/miniconda3/envs/FinRL/lib/python3.8/site-packages (from stable-baselines3[extra]->finrl==0.3.2) (0.2.9)\r\n",
      "Requirement already satisfied: tensorboard>=2.2.0 in /home/jens/miniconda3/envs/FinRL/lib/python3.8/site-packages (from stable-baselines3[extra]->finrl==0.3.2) (2.6.0)\r\n",
      "Requirement already satisfied: opencv-python in /home/jens/miniconda3/envs/FinRL/lib/python3.8/site-packages (from stable-baselines3[extra]->finrl==0.3.2) (4.5.3.56)\r\n",
      "Requirement already satisfied: google-auth-oauthlib<0.5,>=0.4.1 in /home/jens/miniconda3/envs/FinRL/lib/python3.8/site-packages (from tensorboard>=2.2.0->stable-baselines3[extra]->finrl==0.3.2) (0.4.6)\r\n",
      "Requirement already satisfied: markdown>=2.6.8 in /home/jens/miniconda3/envs/FinRL/lib/python3.8/site-packages (from tensorboard>=2.2.0->stable-baselines3[extra]->finrl==0.3.2) (3.3.4)\r\n",
      "Requirement already satisfied: tensorboard-plugin-wit>=1.6.0 in /home/jens/miniconda3/envs/FinRL/lib/python3.8/site-packages (from tensorboard>=2.2.0->stable-baselines3[extra]->finrl==0.3.2) (1.8.0)\r\n",
      "Requirement already satisfied: absl-py>=0.4 in /home/jens/miniconda3/envs/FinRL/lib/python3.8/site-packages (from tensorboard>=2.2.0->stable-baselines3[extra]->finrl==0.3.2) (0.14.1)\r\n",
      "Requirement already satisfied: tensorboard-data-server<0.7.0,>=0.6.0 in /home/jens/miniconda3/envs/FinRL/lib/python3.8/site-packages (from tensorboard>=2.2.0->stable-baselines3[extra]->finrl==0.3.2) (0.6.1)\r\n",
      "Requirement already satisfied: werkzeug>=0.11.15 in /home/jens/miniconda3/envs/FinRL/lib/python3.8/site-packages (from tensorboard>=2.2.0->stable-baselines3[extra]->finrl==0.3.2) (2.0.1)\r\n",
      "Requirement already satisfied: requests-oauthlib>=0.7.0 in /home/jens/miniconda3/envs/FinRL/lib/python3.8/site-packages (from google-auth-oauthlib<0.5,>=0.4.1->tensorboard>=2.2.0->stable-baselines3[extra]->finrl==0.3.2) (1.3.0)\r\n",
      "Requirement already satisfied: oauthlib>=3.0.0 in /home/jens/miniconda3/envs/FinRL/lib/python3.8/site-packages (from requests-oauthlib>=0.7.0->google-auth-oauthlib<0.5,>=0.4.1->tensorboard>=2.2.0->stable-baselines3[extra]->finrl==0.3.2) (3.1.1)\r\n",
      "Requirement already satisfied: int-date>=0.1.7 in /home/jens/miniconda3/envs/FinRL/lib/python3.8/site-packages (from stockstats->finrl==0.3.2) (0.1.8)\r\n",
      "Requirement already satisfied: psycopg2-binary in /home/jens/miniconda3/envs/FinRL/lib/python3.8/site-packages (from wrds->finrl==0.3.2) (2.9.1)\r\n",
      "Requirement already satisfied: mock in /home/jens/miniconda3/envs/FinRL/lib/python3.8/site-packages (from wrds->finrl==0.3.2) (4.0.3)\r\n",
      "Requirement already satisfied: multitasking>=0.0.7 in /home/jens/miniconda3/envs/FinRL/lib/python3.8/site-packages (from yfinance->finrl==0.3.2) (0.0.9)\r\n"
     ]
    }
   ],
   "source": [
    "## install elegantrl library\n",
    "!pip install git+https://github.com/AI4Finance-LLC/ElegantRL.git\n",
    "## install rllib/ray library\n",
    "!pip install ray[default]\n",
    "## install finrl library\n",
    "!pip install git+https://github.com/AI4Finance-LLC/FinRL-Library.git"
   ]
  },
  {
   "cell_type": "markdown",
   "metadata": {
    "id": "cMCwv41eVVDJ"
   },
   "source": [
    "## Install additional packages"
   ]
  },
  {
   "cell_type": "code",
   "execution_count": 2,
   "metadata": {
    "colab": {
     "base_uri": "https://localhost:8080/"
    },
    "id": "P446vin0EGSC",
    "outputId": "3c42e6e9-5dd1-47cf-df5a-7257787f9b7c"
   },
   "outputs": [
    {
     "name": "stdout",
     "output_type": "stream",
     "text": [
      "Requirement already satisfied: trading_calendars in /home/jens/miniconda3/envs/FinRL/lib/python3.8/site-packages (2.1.1)\r\n",
      "Requirement already satisfied: pytz in /home/jens/miniconda3/envs/FinRL/lib/python3.8/site-packages (from trading_calendars) (2021.3)\r\n",
      "Requirement already satisfied: six in /home/jens/miniconda3/envs/FinRL/lib/python3.8/site-packages (from trading_calendars) (1.16.0)\r\n",
      "Requirement already satisfied: numpy in /home/jens/miniconda3/envs/FinRL/lib/python3.8/site-packages (from trading_calendars) (1.21.2)\r\n",
      "Requirement already satisfied: pandas in /home/jens/miniconda3/envs/FinRL/lib/python3.8/site-packages (from trading_calendars) (1.3.3)\r\n",
      "Requirement already satisfied: toolz in /home/jens/miniconda3/envs/FinRL/lib/python3.8/site-packages (from trading_calendars) (0.11.1)\r\n",
      "Requirement already satisfied: python-dateutil in /home/jens/miniconda3/envs/FinRL/lib/python3.8/site-packages (from trading_calendars) (2.8.2)\r\n",
      "Requirement already satisfied: alpaca_trade_api in /home/jens/miniconda3/envs/FinRL/lib/python3.8/site-packages (1.4.0)\r\n",
      "Requirement already satisfied: websockets<10,>=8.0 in /home/jens/miniconda3/envs/FinRL/lib/python3.8/site-packages (from alpaca_trade_api) (9.1)\r\n",
      "Requirement already satisfied: urllib3<2,>1.24 in /home/jens/miniconda3/envs/FinRL/lib/python3.8/site-packages (from alpaca_trade_api) (1.26.7)\r\n",
      "Requirement already satisfied: requests<3,>2 in /home/jens/miniconda3/envs/FinRL/lib/python3.8/site-packages (from alpaca_trade_api) (2.26.0)\r\n",
      "Requirement already satisfied: msgpack==1.0.2 in /home/jens/miniconda3/envs/FinRL/lib/python3.8/site-packages (from alpaca_trade_api) (1.0.2)\r\n",
      "Requirement already satisfied: numpy>=1.11.1 in /home/jens/miniconda3/envs/FinRL/lib/python3.8/site-packages (from alpaca_trade_api) (1.21.2)\r\n",
      "Requirement already satisfied: aiohttp==3.7.4 in /home/jens/miniconda3/envs/FinRL/lib/python3.8/site-packages (from alpaca_trade_api) (3.7.4)\r\n",
      "Requirement already satisfied: pandas>=0.18.1 in /home/jens/miniconda3/envs/FinRL/lib/python3.8/site-packages (from alpaca_trade_api) (1.3.3)\r\n",
      "Requirement already satisfied: websocket-client<2,>=0.56.0 in /home/jens/miniconda3/envs/FinRL/lib/python3.8/site-packages (from alpaca_trade_api) (1.2.1)\r\n",
      "Requirement already satisfied: PyYAML==5.4.1 in /home/jens/miniconda3/envs/FinRL/lib/python3.8/site-packages (from alpaca_trade_api) (5.4.1)\r\n",
      "Requirement already satisfied: typing-extensions>=3.6.5 in /home/jens/miniconda3/envs/FinRL/lib/python3.8/site-packages (from aiohttp==3.7.4->alpaca_trade_api) (3.10.0.2)\r\n",
      "Requirement already satisfied: multidict<7.0,>=4.5 in /home/jens/miniconda3/envs/FinRL/lib/python3.8/site-packages (from aiohttp==3.7.4->alpaca_trade_api) (5.1.0)\r\n",
      "Requirement already satisfied: attrs>=17.3.0 in /home/jens/miniconda3/envs/FinRL/lib/python3.8/site-packages (from aiohttp==3.7.4->alpaca_trade_api) (21.2.0)\r\n",
      "Requirement already satisfied: yarl<2.0,>=1.0 in /home/jens/miniconda3/envs/FinRL/lib/python3.8/site-packages (from aiohttp==3.7.4->alpaca_trade_api) (1.6.3)\r\n",
      "Requirement already satisfied: chardet<4.0,>=2.0 in /home/jens/miniconda3/envs/FinRL/lib/python3.8/site-packages (from aiohttp==3.7.4->alpaca_trade_api) (3.0.4)\r\n",
      "Requirement already satisfied: async-timeout<4.0,>=3.0 in /home/jens/miniconda3/envs/FinRL/lib/python3.8/site-packages (from aiohttp==3.7.4->alpaca_trade_api) (3.0.1)\r\n",
      "Requirement already satisfied: pytz>=2017.3 in /home/jens/miniconda3/envs/FinRL/lib/python3.8/site-packages (from pandas>=0.18.1->alpaca_trade_api) (2021.3)\r\n",
      "Requirement already satisfied: python-dateutil>=2.7.3 in /home/jens/miniconda3/envs/FinRL/lib/python3.8/site-packages (from pandas>=0.18.1->alpaca_trade_api) (2.8.2)\r\n",
      "Requirement already satisfied: six>=1.5 in /home/jens/miniconda3/envs/FinRL/lib/python3.8/site-packages (from python-dateutil>=2.7.3->pandas>=0.18.1->alpaca_trade_api) (1.16.0)\r\n",
      "Requirement already satisfied: idna<4,>=2.5 in /home/jens/miniconda3/envs/FinRL/lib/python3.8/site-packages (from requests<3,>2->alpaca_trade_api) (3.2)\r\n",
      "Requirement already satisfied: certifi>=2017.4.17 in /home/jens/miniconda3/envs/FinRL/lib/python3.8/site-packages (from requests<3,>2->alpaca_trade_api) (2021.5.30)\r\n",
      "Requirement already satisfied: charset-normalizer~=2.0.0 in /home/jens/miniconda3/envs/FinRL/lib/python3.8/site-packages (from requests<3,>2->alpaca_trade_api) (2.0.6)\r\n",
      "Requirement already satisfied: ccxt in /home/jens/miniconda3/envs/FinRL/lib/python3.8/site-packages (1.57.35)\r\n",
      "Requirement already satisfied: certifi>=2018.1.18 in /home/jens/miniconda3/envs/FinRL/lib/python3.8/site-packages (from ccxt) (2021.5.30)\r\n",
      "Requirement already satisfied: setuptools>=38.5.1 in /home/jens/miniconda3/envs/FinRL/lib/python3.8/site-packages (from ccxt) (58.0.4)\r\n",
      "Requirement already satisfied: aiohttp<3.8,>=3.7.4 in /home/jens/miniconda3/envs/FinRL/lib/python3.8/site-packages (from ccxt) (3.7.4)\r\n",
      "Requirement already satisfied: yarl==1.6.3 in /home/jens/miniconda3/envs/FinRL/lib/python3.8/site-packages (from ccxt) (1.6.3)\r\n",
      "Requirement already satisfied: requests>=2.18.4 in /home/jens/miniconda3/envs/FinRL/lib/python3.8/site-packages (from ccxt) (2.26.0)\r\n",
      "Requirement already satisfied: cryptography>=2.6.1 in /home/jens/miniconda3/envs/FinRL/lib/python3.8/site-packages (from ccxt) (35.0.0)\r\n",
      "Requirement already satisfied: aiodns>=1.1.1 in /home/jens/miniconda3/envs/FinRL/lib/python3.8/site-packages (from ccxt) (3.0.0)\r\n",
      "Requirement already satisfied: multidict>=4.0 in /home/jens/miniconda3/envs/FinRL/lib/python3.8/site-packages (from yarl==1.6.3->ccxt) (5.1.0)\r\n",
      "Requirement already satisfied: idna>=2.0 in /home/jens/miniconda3/envs/FinRL/lib/python3.8/site-packages (from yarl==1.6.3->ccxt) (3.2)\r\n",
      "Requirement already satisfied: pycares>=4.0.0 in /home/jens/miniconda3/envs/FinRL/lib/python3.8/site-packages (from aiodns>=1.1.1->ccxt) (4.0.0)\r\n",
      "Requirement already satisfied: async-timeout<4.0,>=3.0 in /home/jens/miniconda3/envs/FinRL/lib/python3.8/site-packages (from aiohttp<3.8,>=3.7.4->ccxt) (3.0.1)\r\n",
      "Requirement already satisfied: typing-extensions>=3.6.5 in /home/jens/miniconda3/envs/FinRL/lib/python3.8/site-packages (from aiohttp<3.8,>=3.7.4->ccxt) (3.10.0.2)\r\n",
      "Requirement already satisfied: chardet<4.0,>=2.0 in /home/jens/miniconda3/envs/FinRL/lib/python3.8/site-packages (from aiohttp<3.8,>=3.7.4->ccxt) (3.0.4)\r\n",
      "Requirement already satisfied: attrs>=17.3.0 in /home/jens/miniconda3/envs/FinRL/lib/python3.8/site-packages (from aiohttp<3.8,>=3.7.4->ccxt) (21.2.0)\r\n",
      "Requirement already satisfied: cffi>=1.12 in /home/jens/miniconda3/envs/FinRL/lib/python3.8/site-packages (from cryptography>=2.6.1->ccxt) (1.14.6)\r\n",
      "Requirement already satisfied: pycparser in /home/jens/miniconda3/envs/FinRL/lib/python3.8/site-packages (from cffi>=1.12->cryptography>=2.6.1->ccxt) (2.20)\r\n",
      "Requirement already satisfied: charset-normalizer~=2.0.0 in /home/jens/miniconda3/envs/FinRL/lib/python3.8/site-packages (from requests>=2.18.4->ccxt) (2.0.6)\r\n",
      "Requirement already satisfied: urllib3<1.27,>=1.21.1 in /home/jens/miniconda3/envs/FinRL/lib/python3.8/site-packages (from requests>=2.18.4->ccxt) (1.26.7)\r\n",
      "Requirement already satisfied: jqdatasdk in /home/jens/miniconda3/envs/FinRL/lib/python3.8/site-packages (1.8.10)\r\n",
      "Requirement already satisfied: pandas>=0.16.2 in /home/jens/miniconda3/envs/FinRL/lib/python3.8/site-packages (from jqdatasdk) (1.3.3)\r\n",
      "Requirement already satisfied: six in /home/jens/miniconda3/envs/FinRL/lib/python3.8/site-packages (from jqdatasdk) (1.16.0)\r\n",
      "Requirement already satisfied: thriftpy2>=0.3.9 in /home/jens/miniconda3/envs/FinRL/lib/python3.8/site-packages (from jqdatasdk) (0.4.14)\r\n",
      "Requirement already satisfied: SQLAlchemy>=1.2.8 in /home/jens/miniconda3/envs/FinRL/lib/python3.8/site-packages (from jqdatasdk) (1.4.25)\r\n",
      "Requirement already satisfied: msgpack>=0.4.7 in /home/jens/miniconda3/envs/FinRL/lib/python3.8/site-packages (from jqdatasdk) (1.0.2)\r\n",
      "Requirement already satisfied: numpy>=1.9.2 in /home/jens/miniconda3/envs/FinRL/lib/python3.8/site-packages (from jqdatasdk) (1.21.2)\r\n",
      "Requirement already satisfied: requests in /home/jens/miniconda3/envs/FinRL/lib/python3.8/site-packages (from jqdatasdk) (2.26.0)\r\n",
      "Requirement already satisfied: pymysql>=0.7.6 in /home/jens/miniconda3/envs/FinRL/lib/python3.8/site-packages (from jqdatasdk) (1.0.2)\r\n",
      "Requirement already satisfied: pytz>=2017.3 in /home/jens/miniconda3/envs/FinRL/lib/python3.8/site-packages (from pandas>=0.16.2->jqdatasdk) (2021.3)\r\n",
      "Requirement already satisfied: python-dateutil>=2.7.3 in /home/jens/miniconda3/envs/FinRL/lib/python3.8/site-packages (from pandas>=0.16.2->jqdatasdk) (2.8.2)\r\n",
      "Requirement already satisfied: greenlet!=0.4.17 in /home/jens/miniconda3/envs/FinRL/lib/python3.8/site-packages (from SQLAlchemy>=1.2.8->jqdatasdk) (1.1.2)\r\n",
      "Requirement already satisfied: ply<4.0,>=3.4 in /home/jens/miniconda3/envs/FinRL/lib/python3.8/site-packages (from thriftpy2>=0.3.9->jqdatasdk) (3.11)\r\n",
      "Requirement already satisfied: charset-normalizer~=2.0.0 in /home/jens/miniconda3/envs/FinRL/lib/python3.8/site-packages (from requests->jqdatasdk) (2.0.6)\r\n",
      "Requirement already satisfied: idna<4,>=2.5 in /home/jens/miniconda3/envs/FinRL/lib/python3.8/site-packages (from requests->jqdatasdk) (3.2)\r\n",
      "Requirement already satisfied: certifi>=2017.4.17 in /home/jens/miniconda3/envs/FinRL/lib/python3.8/site-packages (from requests->jqdatasdk) (2021.5.30)\r\n",
      "Requirement already satisfied: urllib3<1.27,>=1.21.1 in /home/jens/miniconda3/envs/FinRL/lib/python3.8/site-packages (from requests->jqdatasdk) (1.26.7)\r\n",
      "Requirement already satisfied: wrds in /home/jens/miniconda3/envs/FinRL/lib/python3.8/site-packages (3.1.1)\r\n",
      "Requirement already satisfied: numpy in /home/jens/miniconda3/envs/FinRL/lib/python3.8/site-packages (from wrds) (1.21.2)\r\n",
      "Requirement already satisfied: sqlalchemy in /home/jens/miniconda3/envs/FinRL/lib/python3.8/site-packages (from wrds) (1.4.25)\r\n",
      "Requirement already satisfied: mock in /home/jens/miniconda3/envs/FinRL/lib/python3.8/site-packages (from wrds) (4.0.3)\r\n",
      "Requirement already satisfied: pandas in /home/jens/miniconda3/envs/FinRL/lib/python3.8/site-packages (from wrds) (1.3.3)\r\n",
      "Requirement already satisfied: psycopg2-binary in /home/jens/miniconda3/envs/FinRL/lib/python3.8/site-packages (from wrds) (2.9.1)\r\n",
      "Requirement already satisfied: pytz>=2017.3 in /home/jens/miniconda3/envs/FinRL/lib/python3.8/site-packages (from pandas->wrds) (2021.3)\r\n",
      "Requirement already satisfied: python-dateutil>=2.7.3 in /home/jens/miniconda3/envs/FinRL/lib/python3.8/site-packages (from pandas->wrds) (2.8.2)\r\n",
      "Requirement already satisfied: six>=1.5 in /home/jens/miniconda3/envs/FinRL/lib/python3.8/site-packages (from python-dateutil>=2.7.3->pandas->wrds) (1.16.0)\r\n",
      "Requirement already satisfied: greenlet!=0.4.17 in /home/jens/miniconda3/envs/FinRL/lib/python3.8/site-packages (from sqlalchemy->wrds) (1.1.2)\r\n",
      "Requirement already satisfied: lz4 in /home/jens/miniconda3/envs/FinRL/lib/python3.8/site-packages (3.1.3)\r\n",
      "Requirement already satisfied: ray[tune] in /home/jens/miniconda3/envs/FinRL/lib/python3.8/site-packages (1.6.0)\r\n",
      "Requirement already satisfied: attrs in /home/jens/miniconda3/envs/FinRL/lib/python3.8/site-packages (from ray[tune]) (21.2.0)\r\n",
      "Requirement already satisfied: click>=7.0 in /home/jens/miniconda3/envs/FinRL/lib/python3.8/site-packages (from ray[tune]) (8.0.1)\r\n",
      "Requirement already satisfied: filelock in /home/jens/miniconda3/envs/FinRL/lib/python3.8/site-packages (from ray[tune]) (3.2.1)\r\n",
      "Requirement already satisfied: protobuf>=3.15.3 in /home/jens/miniconda3/envs/FinRL/lib/python3.8/site-packages (from ray[tune]) (3.17.3)\r\n",
      "Requirement already satisfied: numpy>=1.16 in /home/jens/miniconda3/envs/FinRL/lib/python3.8/site-packages (from ray[tune]) (1.21.2)\r\n",
      "Requirement already satisfied: pyyaml in /home/jens/miniconda3/envs/FinRL/lib/python3.8/site-packages (from ray[tune]) (5.4.1)\r\n",
      "Requirement already satisfied: msgpack<2.0.0,>=1.0.0 in /home/jens/miniconda3/envs/FinRL/lib/python3.8/site-packages (from ray[tune]) (1.0.2)\r\n",
      "Requirement already satisfied: grpcio>=1.28.1 in /home/jens/miniconda3/envs/FinRL/lib/python3.8/site-packages (from ray[tune]) (1.41.0)\r\n",
      "Requirement already satisfied: redis>=3.5.0 in /home/jens/miniconda3/envs/FinRL/lib/python3.8/site-packages (from ray[tune]) (3.5.3)\r\n",
      "Requirement already satisfied: requests in /home/jens/miniconda3/envs/FinRL/lib/python3.8/site-packages (from ray[tune]) (2.26.0)\r\n",
      "Requirement already satisfied: tabulate in /home/jens/miniconda3/envs/FinRL/lib/python3.8/site-packages (from ray[tune]) (0.8.9)\r\n",
      "Requirement already satisfied: pandas in /home/jens/miniconda3/envs/FinRL/lib/python3.8/site-packages (from ray[tune]) (1.3.3)\r\n",
      "Requirement already satisfied: tensorboardX>=1.9 in /home/jens/miniconda3/envs/FinRL/lib/python3.8/site-packages (from ray[tune]) (2.4)\r\n",
      "Requirement already satisfied: six>=1.5.2 in /home/jens/miniconda3/envs/FinRL/lib/python3.8/site-packages (from grpcio>=1.28.1->ray[tune]) (1.16.0)\r\n",
      "Requirement already satisfied: pytz>=2017.3 in /home/jens/miniconda3/envs/FinRL/lib/python3.8/site-packages (from pandas->ray[tune]) (2021.3)\r\n",
      "Requirement already satisfied: python-dateutil>=2.7.3 in /home/jens/miniconda3/envs/FinRL/lib/python3.8/site-packages (from pandas->ray[tune]) (2.8.2)\r\n",
      "Requirement already satisfied: certifi>=2017.4.17 in /home/jens/miniconda3/envs/FinRL/lib/python3.8/site-packages (from requests->ray[tune]) (2021.5.30)\r\n",
      "Requirement already satisfied: urllib3<1.27,>=1.21.1 in /home/jens/miniconda3/envs/FinRL/lib/python3.8/site-packages (from requests->ray[tune]) (1.26.7)\r\n",
      "Requirement already satisfied: idna<4,>=2.5 in /home/jens/miniconda3/envs/FinRL/lib/python3.8/site-packages (from requests->ray[tune]) (3.2)\r\n",
      "Requirement already satisfied: charset-normalizer~=2.0.0 in /home/jens/miniconda3/envs/FinRL/lib/python3.8/site-packages (from requests->ray[tune]) (2.0.6)\r\n",
      "Requirement already satisfied: tensorboardX in /home/jens/miniconda3/envs/FinRL/lib/python3.8/site-packages (2.4)\r\n",
      "Requirement already satisfied: protobuf>=3.8.0 in /home/jens/miniconda3/envs/FinRL/lib/python3.8/site-packages (from tensorboardX) (3.17.3)\r\n",
      "Requirement already satisfied: numpy in /home/jens/miniconda3/envs/FinRL/lib/python3.8/site-packages (from tensorboardX) (1.21.2)\r\n",
      "Requirement already satisfied: six>=1.9 in /home/jens/miniconda3/envs/FinRL/lib/python3.8/site-packages (from protobuf>=3.8.0->tensorboardX) (1.16.0)\r\n",
      "Requirement already satisfied: gputil in /home/jens/miniconda3/envs/FinRL/lib/python3.8/site-packages (1.4.0)\r\n"
     ]
    }
   ],
   "source": [
    "!pip install trading_calendars\n",
    "!pip install alpaca_trade_api\n",
    "!pip install ccxt\n",
    "!pip install jqdatasdk\n",
    "!pip install wrds\n",
    "\n",
    "!pip install lz4\n",
    "!pip install ray[tune]\n",
    "!pip install tensorboardX\n",
    "!pip install gputil"
   ]
  },
  {
   "cell_type": "markdown",
   "metadata": {
    "id": "HLZjsQH-VcOU"
   },
   "source": [
    "## Import packages"
   ]
  },
  {
   "cell_type": "code",
   "execution_count": 3,
   "metadata": {
    "colab": {
     "base_uri": "https://localhost:8080/"
    },
    "id": "N7bN2cdIDugz",
    "outputId": "2266c625-27ed-4460-9359-455c7d0bc752"
   },
   "outputs": [
    {
     "ename": "ModuleNotFoundError",
     "evalue": "No module named 'elegantrl'",
     "output_type": "error",
     "traceback": [
      "\u001B[0;31m---------------------------------------------------------------------------\u001B[0m",
      "\u001B[0;31mModuleNotFoundError\u001B[0m                       Traceback (most recent call last)",
      "\u001B[0;32m/tmp/ipykernel_31789/2312807750.py\u001B[0m in \u001B[0;36m<module>\u001B[0;34m\u001B[0m\n\u001B[1;32m      8\u001B[0m \u001B[0;32mimport\u001B[0m \u001B[0mdatetime\u001B[0m\u001B[0;34m\u001B[0m\u001B[0;34m\u001B[0m\u001B[0m\n\u001B[1;32m      9\u001B[0m \u001B[0;34m\u001B[0m\u001B[0m\n\u001B[0;32m---> 10\u001B[0;31m \u001B[0;32mfrom\u001B[0m \u001B[0melegantrl\u001B[0m\u001B[0;34m.\u001B[0m\u001B[0magent\u001B[0m \u001B[0;32mimport\u001B[0m \u001B[0;34m*\u001B[0m\u001B[0;34m\u001B[0m\u001B[0;34m\u001B[0m\u001B[0m\n\u001B[0m\u001B[1;32m     11\u001B[0m \u001B[0;32mfrom\u001B[0m \u001B[0melegantrl\u001B[0m\u001B[0;34m.\u001B[0m\u001B[0mrun\u001B[0m \u001B[0;32mimport\u001B[0m \u001B[0;34m*\u001B[0m\u001B[0;34m\u001B[0m\u001B[0;34m\u001B[0m\u001B[0m\n\u001B[1;32m     12\u001B[0m \u001B[0;32mimport\u001B[0m \u001B[0mtorch\u001B[0m\u001B[0;34m\u001B[0m\u001B[0;34m\u001B[0m\u001B[0m\n",
      "\u001B[0;31mModuleNotFoundError\u001B[0m: No module named 'elegantrl'"
     ]
    }
   ],
   "source": [
    "import pandas as pd\n",
    "import numpy as np\n",
    "import matplotlib\n",
    "import matplotlib.pyplot as plt\n",
    "%matplotlib inline\n",
    "\n",
    "# matplotlib.use('Agg')\n",
    "import datetime\n",
    "\n",
    "from elegantrl.agent import *\n",
    "from elegantrl.run import *\n",
    "import torch \n",
    "import ray\n",
    "from finrl.apps import config\n",
    "from finrl.neo_finrl.data_processor import DataProcessor\n",
    "from finrl.plot import backtest_stats, backtest_plot, get_daily_return, get_baseline\n",
    "\n"
   ]
  },
  {
   "cell_type": "markdown",
   "metadata": {
    "id": "I0OVWiVfXRsi"
   },
   "source": [
    "## Train"
   ]
  },
  {
   "cell_type": "code",
   "execution_count": null,
   "metadata": {
    "id": "knHkXNilDug5"
   },
   "outputs": [],
   "source": [
    "def train(start_date, end_date, ticker_list, data_source, time_interval, \n",
    "          technical_indicator_list, drl_lib, env, agent, if_vix = True,\n",
    "          **kwargs):\n",
    "    \n",
    "    #fetch data\n",
    "    DP = DataProcessor(data_source, **kwargs)\n",
    "    data = DP.download_data(ticker_list, start_date, end_date, time_interval)\n",
    "    data = DP.clean_data(data)\n",
    "    data = DP.add_technical_indicator(data, technical_indicator_list)\n",
    "    if if_vix:\n",
    "        data = DP.add_vix(data)\n",
    "    price_array, tech_array, turbulence_array = DP.df_to_array(data, if_vix)\n",
    "    \n",
    "    #read parameters\n",
    "    env_config = {'price_array':price_array,\n",
    "            'tech_array':tech_array,\n",
    "            'turbulence_array':turbulence_array,\n",
    "            'if_train':True}\n",
    "    env_instance = env(config=env_config)\n",
    "    \n",
    "    learning_rate = kwargs.get('learning_rate', 2 ** -15)\n",
    "    batch_size = kwargs.get('batch_size', 2 ** 11 )\n",
    "    gamma = kwargs.get('gamma', 0.99)\n",
    "    seed = kwargs.get('seed', 312)\n",
    "    total_timesteps = kwargs.get('total_timesteps', 1e6)\n",
    "    net_dimension = kwargs.get('net_dimension', 2**9)\n",
    "    cwd = kwargs.get('cwd','./'+str(agent))\n",
    "    \n",
    "    #train using different libraries\n",
    "    if drl_lib == 'elegantrl':\n",
    "        \n",
    "        if agent == 'ppo':\n",
    "            args = Arguments(if_on_policy=True)\n",
    "            args.agent = AgentPPO()\n",
    "            args.env = env_instance\n",
    "            args.agent.if_use_cri_target = True\n",
    "            args.cwd = cwd\n",
    "        else:\n",
    "            raise ValueError('Invalid agent input or the agent input is not \\\n",
    "                             supported yet.')\n",
    "        try:\n",
    "            args.learning_rate = learning_rate\n",
    "            args.batch_size = batch_size\n",
    "            args.gamma = gamma\n",
    "            args.seed = seed\n",
    "            args.break_step = total_timesteps\n",
    "            args.net_dimension = net_dimension\n",
    "        except:\n",
    "            print('Invalid parameters input! Use default value.')\n",
    "            args.learning_rate = 2 ** -15\n",
    "            args.batch_size = 2 ** 11\n",
    "            args.gamma = 0.99\n",
    "            args.seed = 312\n",
    "            args.break_step = 1e6\n",
    "            args.net_dimension = 2**9\n",
    "            \n",
    "        train_and_evaluate(args)\n",
    "        \n",
    "    elif drl_lib == 'rllib':\n",
    "        ray.init(ignore_reinit_error=True)\n",
    "        if agent == 'ppo':\n",
    "            from ray.rllib.agents import ppo\n",
    "            from ray.rllib.agents.ppo.ppo import PPOTrainer\n",
    "            try:\n",
    "                total_episodes = kwargs.get('total_episodes')\n",
    "            except:\n",
    "                print('total training episodes is not given! Use default value 1000')\n",
    "                total_episodes = 1000\n",
    "            config = ppo.DEFAULT_CONFIG.copy()\n",
    "            config['env'] = env\n",
    "            config[\"log_level\"] = \"WARN\"\n",
    "            config['env_config'] = {'price_array':price_array,\n",
    "                                    'tech_array':tech_array,\n",
    "                                    'turbulence_array':turbulence_array,\n",
    "                                    'if_train':True}\n",
    "            trainer = PPOTrainer(env=env, config=config)\n",
    "            for i in range(total_episodes):\n",
    "                trainer.train()\n",
    "            trainer.save(cwd)\n",
    "        \n",
    "        else:\n",
    "            raise ValueError('Invalid agent input or the agent input is not \\\n",
    "                 supported yet.')\n",
    "            \n",
    "    elif drl_lib == 'stable_baselines3':\n",
    "        \n",
    "        if agent == 'ppo':\n",
    "            from stable_baselines3 import PPO\n",
    "            from stable_baselines3.common.vec_env import DummyVecEnv\n",
    "            \n",
    "            env_train = DummyVecEnv([lambda : env_instance])\n",
    "            model = PPO(\"MlpPolicy\", env_train, learning_rate=learning_rate, \n",
    "                        n_steps=2048, batch_size=batch_size, ent_coef=0.0, \n",
    "                        gamma=gamma, seed=seed)\n",
    "            model.learn(total_timesteps=total_timesteps, tb_log_name = 'ppo')\n",
    "            print('Training finished!')\n",
    "            model.save(cwd)\n",
    "            print('Trained model saved in ' + str(cwd))\n",
    "    \n",
    "    else:\n",
    "        raise ValueError('DRL library input is NOT supported. Please check.')"
   ]
  },
  {
   "cell_type": "markdown",
   "metadata": {
    "id": "FCwCJKoyXYCk"
   },
   "source": [
    "## Test"
   ]
  },
  {
   "cell_type": "code",
   "execution_count": null,
   "metadata": {
    "id": "lNKwj7lE04UG"
   },
   "outputs": [],
   "source": [
    "def test(start_date, end_date, ticker_list, data_source, time_interval, \n",
    "         technical_indicator_list, drl_lib, env, agent, if_vix = True,\n",
    "         **kwargs):\n",
    "    #fetch data\n",
    "    DP = DataProcessor(data_source, **kwargs)\n",
    "    data = DP.download_data(ticker_list, start_date, end_date, time_interval)\n",
    "    data = DP.clean_data(data)\n",
    "    data = DP.add_technical_indicator(data, technical_indicator_list)\n",
    "\n",
    "    if if_vix:\n",
    "        data = DP.add_vix(data)\n",
    "    price_array, tech_array, turbulence_array = DP.df_to_array(data, if_vix)\n",
    "    \n",
    "    env_config = {'price_array':price_array,\n",
    "            'tech_array':tech_array,\n",
    "            'turbulence_array':turbulence_array,\n",
    "            'if_train':False}\n",
    "    env_instance = env(config=env_config)\n",
    "    \n",
    "    net_dimension = kwargs.get('net_dimension', 2**7)\n",
    "    cwd = kwargs.get('cwd','./'+str(agent))\n",
    "    print(\"price_array: \",len(price_array))\n",
    "    #test on elegantrl\n",
    "    if drl_lib == 'elegantrl':\n",
    "        \n",
    "        #select agent\n",
    "        if agent == 'ppo':\n",
    "            args = Arguments(if_on_policy=True)\n",
    "            args.agent = AgentPPO()\n",
    "            args.env = env_instance\n",
    "            args.agent.if_use_cri_target = True\n",
    "        else:\n",
    "            raise ValueError('Invalid agent input or the agent input is not \\\n",
    "                             supported yet.')\n",
    "        \n",
    "        #load agent\n",
    "        try:\n",
    "            state_dim = env_instance.state_dim\n",
    "            action_dim = env_instance.action_dim\n",
    "    \n",
    "            agent = args.agent\n",
    "            net_dim = net_dimension\n",
    "    \n",
    "            agent.init(net_dim, state_dim, action_dim)\n",
    "            agent.save_or_load_agent(cwd=cwd, if_save=False)\n",
    "            act = agent.act\n",
    "            device = agent.device\n",
    "    \n",
    "        except:\n",
    "            raise ValueError('Fail to load agent!')\n",
    "        \n",
    "        #test on the testing env\n",
    "        _torch = torch\n",
    "        state = env_instance.reset()\n",
    "        episode_returns = list()  # the cumulative_return / initial_account\n",
    "        episode_total_assets = list()\n",
    "        episode_total_assets.append(env_instance.initial_total_asset)\n",
    "        with _torch.no_grad():\n",
    "            for i in range(env_instance.max_step):\n",
    "                s_tensor = _torch.as_tensor((state,), device=device)\n",
    "                a_tensor = act(s_tensor)  # action_tanh = act.forward()\n",
    "                action = a_tensor.detach().cpu().numpy()[0]  # not need detach(), because with torch.no_grad() outside\n",
    "                state, reward, done, _ = env_instance.step(action)\n",
    "\n",
    "                total_asset = env_instance.amount + (env_instance.price_ary[env_instance.day] * env_instance.stocks).sum()\n",
    "                episode_total_assets.append(total_asset)\n",
    "                episode_return = total_asset / env_instance.initial_total_asset\n",
    "                episode_returns.append(episode_return)\n",
    "                if done:\n",
    "                    break\n",
    "                ##print(i)\n",
    "        print('Test Finished!')\n",
    "        #return episode returns on testing data\n",
    "        print('episode_return', episode_return)\n",
    "        return episode_total_assets\n",
    "    \n",
    "    #test using rllib\n",
    "    elif drl_lib == 'rllib':\n",
    "        #load agent\n",
    "        from ray.rllib.agents import ppo\n",
    "        from ray.rllib.agents.ppo.ppo import PPOTrainer\n",
    "        config = ppo.DEFAULT_CONFIG.copy()\n",
    "        config['env'] = env\n",
    "        config[\"log_level\"] = \"WARN\"\n",
    "        config['env_config'] = {'price_array':price_array,\n",
    "                                'tech_array':tech_array,\n",
    "                                'turbulence_array':turbulence_array,\n",
    "                                'if_train':False}\n",
    "        \n",
    "        trainer = PPOTrainer(env=env, config=config)\n",
    "        try:\n",
    "            trainer.restore(cwd)\n",
    "            print(\"Restoring from checkpoint path\", cwd)\n",
    "        except:\n",
    "            raise ValueError('Fail to load agent!')\n",
    "        \n",
    "        #test on the testing env\n",
    "        state = env_instance.reset()\n",
    "        episode_returns = list()  # the cumulative_return / initial_account\n",
    "        episode_total_assets = list()\n",
    "        episode_total_assets.append(env_instance.initial_total_asset)\n",
    "        done = False\n",
    "        while not done:\n",
    "            action = trainer.compute_single_action(state)\n",
    "            state, reward, done, _ = env_instance.step(action)\n",
    "    \n",
    "            total_asset = env_instance.amount + (env_instance.price_ary[env_instance.day] * env_instance.stocks).sum()\n",
    "            episode_total_assets.append(total_asset)\n",
    "            episode_return = total_asset / env_instance.initial_total_asset\n",
    "            episode_returns.append(episode_return)\n",
    "        print('episode return: ' + str(episode_return))\n",
    "        print('Test Finished!')   \n",
    "        return episode_total_assets\n",
    "\n",
    "          #test using stable baselines3\n",
    "    elif drl_lib == 'stable_baselines3':\n",
    "        from stable_baselines3 import PPO\n",
    "\n",
    "        try:\n",
    "            #load agent\n",
    "            model = PPO.load(cwd)\n",
    "            print(\"Successfully load model\", cwd)\n",
    "        except:\n",
    "            raise ValueError('Fail to load agent!')\n",
    "        \n",
    "        #test on the testing env\n",
    "        state = env_instance.reset()\n",
    "        episode_returns = list()  # the cumulative_return / initial_account\n",
    "        episode_total_assets = list()\n",
    "        episode_total_assets.append(env_instance.initial_total_asset)\n",
    "        done = False\n",
    "        while not done:\n",
    "            action = model.predict(state)[0]\n",
    "            state, reward, done, _ = env_instance.step(action)\n",
    "    \n",
    "            total_asset = env_instance.amount + (env_instance.price_ary[env_instance.day] * env_instance.stocks).sum()\n",
    "            episode_total_assets.append(total_asset)\n",
    "            episode_return = total_asset / env_instance.initial_total_asset\n",
    "            episode_returns.append(episode_return)\n",
    "        \n",
    "        print('episode_return', episode_return)\n",
    "        print('Test Finished!')   \n",
    "        return episode_total_assets\n",
    "    \n",
    "    else:\n",
    "        raise ValueError('DRL library input is NOT supported yet. Please check.')"
   ]
  },
  {
   "cell_type": "markdown",
   "metadata": {
    "id": "VzS1DtvaXzCB"
   },
   "source": [
    "## DRL Environment"
   ]
  },
  {
   "cell_type": "code",
   "execution_count": null,
   "metadata": {
    "id": "wcvNObPnDug_"
   },
   "outputs": [],
   "source": [
    "from finrl.neo_finrl.env_stock_trading.env_stocktrading_np import StockTradingEnv"
   ]
  },
  {
   "cell_type": "code",
   "execution_count": null,
   "metadata": {
    "id": "exdnEQ8eSQxZ"
   },
   "outputs": [],
   "source": [
    "import numpy as np\n",
    "import os\n",
    "import gym\n",
    "from numpy import random as rd\n",
    "\n",
    "class StockTradingEnv(gym.Env):\n",
    "\n",
    "    def __init__(self, config, initial_account=1e6,\n",
    "                 gamma=0.99, turbulence_thresh=99, min_stock_rate=0.1,\n",
    "                 max_stock=1e2, initial_capital=1e6, buy_cost_pct=1e-3, \n",
    "                 sell_cost_pct=1e-3,reward_scaling=2 ** -11,  initial_stocks=None,\n",
    "                 ):\n",
    "        price_ary = config['price_array']\n",
    "        tech_ary = config['tech_array']\n",
    "        turbulence_ary = config['turbulence_array']\n",
    "        if_train = config['if_train']\n",
    "        n = price_ary.shape[0]\n",
    "        self.price_ary =  price_ary.astype(np.float32)\n",
    "        self.tech_ary = tech_ary.astype(np.float32)\n",
    "        self.turbulence_ary = turbulence_ary\n",
    "        \n",
    "        self.tech_ary = self.tech_ary * 2 ** -7\n",
    "        self.turbulence_bool = (turbulence_ary > turbulence_thresh).astype(np.float32)\n",
    "        self.turbulence_ary = (self.sigmoid_sign(turbulence_ary, turbulence_thresh) * 2 ** -5).astype(np.float32)\n",
    "\n",
    "        stock_dim = self.price_ary.shape[1]\n",
    "        self.gamma = gamma\n",
    "        self.max_stock = max_stock\n",
    "        self.min_stock_rate = min_stock_rate\n",
    "        self.buy_cost_pct = buy_cost_pct\n",
    "        self.sell_cost_pct = sell_cost_pct\n",
    "        self.reward_scaling = reward_scaling\n",
    "        self.initial_capital = initial_capital\n",
    "        self.initial_stocks = np.zeros(stock_dim, dtype=np.float32) if initial_stocks is None else initial_stocks\n",
    "\n",
    "        # reset()\n",
    "        self.day = None\n",
    "        self.amount = None\n",
    "        self.stocks = None\n",
    "        self.total_asset = None\n",
    "        self.gamma_reward = None\n",
    "        self.initial_total_asset = None\n",
    "\n",
    "        # environment information\n",
    "        self.env_name = 'StockEnv'\n",
    "        # self.state_dim = 1 + 2 + 2 * stock_dim + self.tech_ary.shape[1]\n",
    "        # # amount + (turbulence, turbulence_bool) + (price, stock) * stock_dim + tech_dim\n",
    "        self.state_dim = 1 + 2 + 3 * stock_dim + self.tech_ary.shape[1]\n",
    "        # amount + (turbulence, turbulence_bool) + (price, stock) * stock_dim + tech_dim\n",
    "        self.stocks_cd = None\n",
    "        self.action_dim = stock_dim\n",
    "        self.max_step = self.price_ary.shape[0] - 1\n",
    "        self.if_train = if_train\n",
    "        self.if_discrete = False\n",
    "        self.target_return = 5.0\n",
    "        self.episode_return = 0.0\n",
    "        \n",
    "        self.observation_space = gym.spaces.Box(low=-3000, high=3000, shape=(self.state_dim,), dtype=np.float32)\n",
    "        self.action_space = gym.spaces.Box(low=-1, high=1, shape=(self.action_dim,), dtype=np.float32)\n",
    "        \n",
    "    def reset(self):\n",
    "        self.day = 0\n",
    "        price = self.price_ary[self.day]\n",
    "        \n",
    "        if self.if_train:\n",
    "            self.stocks = (self.initial_stocks + rd.randint(0, 64, size=self.initial_stocks.shape)).astype(np.float32)\n",
    "            self.stocks_cd = np.zeros_like(self.stocks)\n",
    "            self.amount = self.initial_capital * rd.uniform(0.95, 1.05) - (self.stocks * price).sum()\n",
    "        else:\n",
    "            self.stocks = self.initial_stocks.astype(np.float32)\n",
    "            self.stocks_cd = np.zeros_like(self.stocks)\n",
    "            self.amount = self.initial_capital\n",
    "\n",
    "        self.total_asset = self.amount + (self.stocks * price).sum()\n",
    "        self.initial_total_asset = self.total_asset\n",
    "        self.gamma_reward = 0.0\n",
    "        return self.get_state(price)  # state\n",
    "\n",
    "    def step(self, actions):\n",
    "        actions = (actions * self.max_stock).astype(int)\n",
    "\n",
    "        self.day += 1\n",
    "        price = self.price_ary[self.day]\n",
    "        self.stocks_cd += 1\n",
    "\n",
    "        if self.turbulence_bool[self.day] == 0:\n",
    "            min_action = int(self.max_stock * self.min_stock_rate)  # stock_cd\n",
    "            for index in np.where(actions < -min_action)[0]:  # sell_index:\n",
    "                if price[index] > 0:  # Sell only if current asset is > 0\n",
    "                    sell_num_shares = min(self.stocks[index], -actions[index])\n",
    "                    self.stocks[index] -= sell_num_shares\n",
    "                    self.amount += price[index] * sell_num_shares * (1 - self.sell_cost_pct)\n",
    "                    self.stocks_cd[index] = 0\n",
    "            for index in np.where(actions > min_action)[0]:  # buy_index:\n",
    "                if price[index] > 0:  # Buy only if the price is > 0 (no missing data in this particular date)\n",
    "                    buy_num_shares = min(self.amount // price[index], actions[index])\n",
    "                    self.stocks[index] += buy_num_shares\n",
    "                    self.amount -= price[index] * buy_num_shares * (1 + self.buy_cost_pct)\n",
    "                    self.stocks_cd[index] = 0\n",
    "\n",
    "        else:  # sell all when turbulence\n",
    "            self.amount += (self.stocks * price).sum() * (1 - self.sell_cost_pct)\n",
    "            self.stocks[:] = 0\n",
    "            self.stocks_cd[:] = 0\n",
    "\n",
    "        state = self.get_state(price)\n",
    "        total_asset = self.amount + (self.stocks * price).sum()\n",
    "        reward = (total_asset - self.total_asset) * self.reward_scaling\n",
    "        self.total_asset = total_asset\n",
    "\n",
    "        self.gamma_reward = self.gamma_reward * self.gamma + reward\n",
    "        done = self.day == self.max_step\n",
    "        if done:\n",
    "            reward = self.gamma_reward\n",
    "            self.episode_return = total_asset / self.initial_total_asset\n",
    "\n",
    "        return state, reward, done, dict()\n",
    "\n",
    "    def get_state(self, price):\n",
    "        amount = np.array(max(self.amount, 1e4) * (2 ** -12), dtype=np.float32)\n",
    "        scale = np.array(2 ** -6, dtype=np.float32)\n",
    "        return np.hstack((amount,\n",
    "                          self.turbulence_ary[self.day],\n",
    "                          self.turbulence_bool[self.day],\n",
    "                          price * scale,\n",
    "                          self.stocks * scale,\n",
    "                          self.stocks_cd,\n",
    "                          self.tech_ary[self.day],\n",
    "                          ))  # state.astype(np.float32)\n",
    "    \n",
    "    @staticmethod\n",
    "    def sigmoid_sign(ary, thresh):\n",
    "        def sigmoid(x):\n",
    "            return 1 / (1 + np.exp(-x * np.e)) - 0.5\n",
    "\n",
    "        return sigmoid(ary / thresh) * thresh\n"
   ]
  },
  {
   "cell_type": "code",
   "execution_count": null,
   "metadata": {
    "id": "LcbH9Ah9X7vw"
   },
   "outputs": [],
   "source": []
  },
  {
   "cell_type": "markdown",
   "metadata": {
    "id": "lM3lVwmQX8GA"
   },
   "source": [
    "## Set parameters"
   ]
  },
  {
   "cell_type": "code",
   "execution_count": null,
   "metadata": {
    "id": "l5dYmiPpDug_"
   },
   "outputs": [],
   "source": [
    "env = StockTradingEnv"
   ]
  },
  {
   "cell_type": "code",
   "execution_count": null,
   "metadata": {
    "id": "NXgk2XftXwoR"
   },
   "outputs": [],
   "source": [
    "TRAIN_START_DATE = '2014-01-01'\n",
    "TRAIN_END_DATE = '2020-07-30'\n",
    "\n",
    "TEST_START_DATE = '2020-08-01'\n",
    "TEST_END_DATE = '2021-08-05'\n",
    "TECHNICAL_INDICATORS_LIST = ['macd',\n",
    " 'boll_ub',\n",
    " 'boll_lb',\n",
    " 'rsi_30',\n",
    " 'dx_30',\n",
    " 'close_30_sma',\n",
    " 'close_60_sma']"
   ]
  },
  {
   "cell_type": "markdown",
   "metadata": {
    "id": "1TC8cMZaYAG1"
   },
   "source": [
    "## eRL"
   ]
  },
  {
   "cell_type": "markdown",
   "metadata": {
    "id": "tO1sXcIJZdtE"
   },
   "source": [
    "### Train"
   ]
  },
  {
   "cell_type": "code",
   "execution_count": null,
   "metadata": {
    "colab": {
     "base_uri": "https://localhost:8080/"
    },
    "id": "JodM4Qn3Dug_",
    "outputId": "cc0f7f7a-ba48-47fe-f742-82a2d0f1c3f7"
   },
   "outputs": [],
   "source": [
    "#demo for elegantrl\n",
    "train(start_date = TRAIN_START_DATE, \n",
    "      end_date = TRAIN_END_DATE,\n",
    "      ticker_list = config.DOW_30_TICKER, \n",
    "      data_source = 'yahoofinance',\n",
    "      time_interval= '1D', \n",
    "      technical_indicator_list= TECHNICAL_INDICATORS_LIST,\n",
    "      drl_lib='elegantrl', \n",
    "      env=env, \n",
    "      agent='ppo', \n",
    "      cwd='./test_ppo'\n",
    "      ,total_timesteps=3e4)"
   ]
  },
  {
   "cell_type": "markdown",
   "metadata": {
    "id": "9eSQ64_nZhJ1"
   },
   "source": [
    "### Test"
   ]
  },
  {
   "cell_type": "code",
   "execution_count": null,
   "metadata": {
    "colab": {
     "base_uri": "https://localhost:8080/"
    },
    "id": "ZOdNzZnoYhH3",
    "outputId": "f4474bd0-f213-4c68-c780-339401e0a129"
   },
   "outputs": [],
   "source": [
    "account_value_erl=test(start_date = TEST_START_DATE, \n",
    "                        end_date = TEST_END_DATE,\n",
    "                        ticker_list = config.DOW_30_TICKER, \n",
    "                        data_source = 'yahoofinance',\n",
    "                        time_interval= '1D', \n",
    "                        technical_indicator_list= TECHNICAL_INDICATORS_LIST,\n",
    "                        drl_lib='elegantrl', \n",
    "                        env=env, \n",
    "                        agent='ppo', \n",
    "                        cwd='./test_ppo', \n",
    "                        net_dimension = 2 ** 9)"
   ]
  },
  {
   "cell_type": "code",
   "execution_count": null,
   "metadata": {
    "colab": {
     "base_uri": "https://localhost:8080/"
    },
    "id": "z-u8JqQbshMj",
    "outputId": "26c576cc-0767-4b18-f96e-dc6ddcef672e"
   },
   "outputs": [],
   "source": [
    "len(account_value_erl)"
   ]
  },
  {
   "cell_type": "markdown",
   "metadata": {
    "id": "8F8Xqq6rjgly"
   },
   "source": [
    "### Plot"
   ]
  },
  {
   "cell_type": "code",
   "execution_count": null,
   "metadata": {
    "colab": {
     "base_uri": "https://localhost:8080/",
     "height": 35
    },
    "id": "Koa7NilB7-Ge",
    "outputId": "46528588-544c-441b-a57e-b093146b71e6"
   },
   "outputs": [],
   "source": [
    "TEST_END_DATE"
   ]
  },
  {
   "cell_type": "code",
   "execution_count": null,
   "metadata": {
    "colab": {
     "base_uri": "https://localhost:8080/"
    },
    "id": "uzlZfeHucDIh",
    "outputId": "43577522-5ce0-4137-81ad-66b34dc32bcb"
   },
   "outputs": [],
   "source": [
    "baseline_df =  DataProcessor('yahoofinance').download_data(ticker_list = [\"^DJI\"], \n",
    "                                                            start_date = TEST_START_DATE, \n",
    "                                                            end_date = TEST_END_DATE, \n",
    "                                                            time_interval = \"1D\")\n",
    "stats = backtest_stats(baseline_df, value_col_name = 'close')\n"
   ]
  },
  {
   "cell_type": "code",
   "execution_count": null,
   "metadata": {
    "id": "h9wmxqC5sqZN"
   },
   "outputs": [],
   "source": [
    "account_value_erl = pd.DataFrame({'date':baseline_df.date,'account_value':account_value_erl[0:len(account_value_erl)-1]})"
   ]
  },
  {
   "cell_type": "code",
   "execution_count": null,
   "metadata": {
    "colab": {
     "base_uri": "https://localhost:8080/",
     "height": 204
    },
    "id": "EoHB3xzY6GrR",
    "outputId": "7324e6cd-8894-473e-8f96-958156fa9863"
   },
   "outputs": [],
   "source": [
    "account_value_erl.tail()"
   ]
  },
  {
   "cell_type": "code",
   "execution_count": null,
   "metadata": {
    "colab": {
     "base_uri": "https://localhost:8080/"
    },
    "id": "3lZjaI5fbLQC",
    "outputId": "b56d12ea-abed-43b6-abb8-a143bcc1885a"
   },
   "outputs": [],
   "source": [
    "print(\"==============Get Backtest Results===========\")\n",
    "now = datetime.datetime.now().strftime('%Y%m%d-%Hh%M')\n",
    "\n",
    "perf_stats_all = backtest_stats(account_value=account_value_erl)\n",
    "perf_stats_all = pd.DataFrame(perf_stats_all)\n",
    "perf_stats_all.to_csv(\"./\"+\"/perf_stats_all_\"+now+'.csv')"
   ]
  },
  {
   "cell_type": "code",
   "execution_count": null,
   "metadata": {
    "id": "9qJUg0KTBIGw"
   },
   "outputs": [],
   "source": []
  },
  {
   "cell_type": "code",
   "execution_count": null,
   "metadata": {
    "colab": {
     "base_uri": "https://localhost:8080/",
     "height": 1000
    },
    "id": "wZ1A4lB7jZ2r",
    "outputId": "72327091-c32e-4c50-9e9b-72eba0ca1a18"
   },
   "outputs": [],
   "source": [
    "print(\"==============Compare to DJIA===========\")\n",
    "%matplotlib inline\n",
    "# S&P 500: ^GSPC\n",
    "# Dow Jones Index: ^DJI\n",
    "# NASDAQ 100: ^NDX\n",
    "backtest_plot(account_value_erl, \n",
    "             baseline_ticker = '^DJI', \n",
    "             baseline_start = account_value_erl.loc[0,'date'],\n",
    "             baseline_end = account_value_erl.loc[len(account_value_erl)-1,'date'])"
   ]
  },
  {
   "cell_type": "code",
   "execution_count": null,
   "metadata": {
    "id": "VzTdYfbNCKiE"
   },
   "outputs": [],
   "source": []
  },
  {
   "cell_type": "markdown",
   "metadata": {
    "id": "aq6QHtD4YuE5"
   },
   "source": [
    "## RLlib"
   ]
  },
  {
   "cell_type": "markdown",
   "metadata": {
    "id": "OVMEflpTZjc0"
   },
   "source": [
    "### Train"
   ]
  },
  {
   "cell_type": "code",
   "execution_count": null,
   "metadata": {
    "colab": {
     "base_uri": "https://localhost:8080/"
    },
    "id": "MOuD9mdLDuhA",
    "outputId": "74ea9928-20ff-4ec7-91db-3ada56d781f7"
   },
   "outputs": [],
   "source": [
    "#demo for rllib\n",
    "train(start_date = TEST_START_DATE, \n",
    "      end_date = TEST_END_DATE,\n",
    "      ticker_list = config.DOW_30_TICKER, \n",
    "      data_source = 'yahoofinance',\n",
    "      time_interval= '1D', \n",
    "      technical_indicator_list= TECHNICAL_INDICATORS_LIST,\n",
    "      drl_lib='rllib', \n",
    "      env=env, \n",
    "      agent='ppo', \n",
    "      cwd='./test_ppo'\n",
    "      ,total_episodes=100)"
   ]
  },
  {
   "cell_type": "markdown",
   "metadata": {
    "id": "lpMmJAkfZlMx"
   },
   "source": [
    "### Test"
   ]
  },
  {
   "cell_type": "code",
   "execution_count": null,
   "metadata": {
    "colab": {
     "base_uri": "https://localhost:8080/"
    },
    "id": "XtDjEqTcYwXQ",
    "outputId": "40c21f88-3ad9-4936-d857-ef9a602aafb1"
   },
   "outputs": [],
   "source": [
    "account_value_rllib = test(start_date = TEST_START_DATE, \n",
    "     end_date = TEST_END_DATE,\n",
    "     ticker_list = config.DOW_30_TICKER, \n",
    "     data_source = 'yahoofinance',\n",
    "     time_interval= '1D', \n",
    "     technical_indicator_list= TECHNICAL_INDICATORS_LIST,\n",
    "     drl_lib='rllib', \n",
    "     env=env, \n",
    "     agent='ppo', \n",
    "     cwd='./test_ppo/checkpoint_000100/checkpoint-100')"
   ]
  },
  {
   "cell_type": "code",
   "execution_count": null,
   "metadata": {
    "colab": {
     "base_uri": "https://localhost:8080/"
    },
    "id": "H6yq9e776g3z",
    "outputId": "2b89f981-08c6-4bfa-ca41-e1831f21ba5f"
   },
   "outputs": [],
   "source": [
    "len(account_value_rllib)"
   ]
  },
  {
   "cell_type": "code",
   "execution_count": null,
   "metadata": {
    "id": "B-RC3cjI2X1a"
   },
   "outputs": [],
   "source": []
  },
  {
   "cell_type": "markdown",
   "metadata": {
    "id": "k6ajBhvMBdsG"
   },
   "source": [
    "### Plot"
   ]
  },
  {
   "cell_type": "code",
   "execution_count": null,
   "metadata": {
    "colab": {
     "base_uri": "https://localhost:8080/"
    },
    "id": "gEmVTLNBh6-F",
    "outputId": "535ef8b9-0d22-4a82-afc9-a4e9e7d797a5"
   },
   "outputs": [],
   "source": [
    "baseline_df =  DataProcessor('yahoofinance').download_data(ticker_list = [\"^DJI\"], \n",
    "                                                            start_date = TEST_START_DATE, \n",
    "                                                            end_date = TEST_END_DATE, \n",
    "                                                            time_interval = \"1D\")\n",
    "stats = backtest_stats(baseline_df, value_col_name = 'close')\n"
   ]
  },
  {
   "cell_type": "code",
   "execution_count": null,
   "metadata": {
    "colab": {
     "base_uri": "https://localhost:8080/"
    },
    "id": "Qhtuzazbponh",
    "outputId": "f6663c2e-7dd4-4bc8-b962-d8d35609e688"
   },
   "outputs": [],
   "source": [
    "len(baseline_df.date)"
   ]
  },
  {
   "cell_type": "code",
   "execution_count": null,
   "metadata": {
    "id": "-v5aoZ10Bgky"
   },
   "outputs": [],
   "source": [
    "account_value_rllib = pd.DataFrame({'date':baseline_df.date,'account_value':account_value_rllib[0:len(account_value_rllib)-1]})"
   ]
  },
  {
   "cell_type": "code",
   "execution_count": null,
   "metadata": {
    "colab": {
     "base_uri": "https://localhost:8080/"
    },
    "id": "MTtGKUwwiAPf",
    "outputId": "15f7a1a3-8f58-4200-d815-b58089b81ca2"
   },
   "outputs": [],
   "source": [
    "perf_stats_all = backtest_stats(account_value=account_value_rllib)\n",
    "perf_stats_all = pd.DataFrame(perf_stats_all)"
   ]
  },
  {
   "cell_type": "code",
   "execution_count": null,
   "metadata": {
    "colab": {
     "base_uri": "https://localhost:8080/"
    },
    "id": "pSAgvG7CBnIJ",
    "outputId": "ebae53f0-e2a9-4576-ec64-76d6ae20a266"
   },
   "outputs": [],
   "source": [
    "print(\"==============Compare to DJIA===========\")\n",
    "%matplotlib inline\n",
    "# S&P 500: ^GSPC\n",
    "# Dow Jones Index: ^DJI\n",
    "# NASDAQ 100: ^NDX\n",
    "backtest_plot(account_value_rllib, \n",
    "             baseline_ticker = '^DJI', \n",
    "             baseline_start = account_value_rllib.loc[0,'date'],\n",
    "             baseline_end = account_value_rllib.loc[len(account_value_rllib)-1,'date'])"
   ]
  },
  {
   "cell_type": "markdown",
   "metadata": {
    "id": "hN_2gi3SY6U1"
   },
   "source": [
    "## Stable-baselines3"
   ]
  },
  {
   "cell_type": "markdown",
   "metadata": {
    "id": "aRBk-NDdZmx0"
   },
   "source": [
    "### Train"
   ]
  },
  {
   "cell_type": "code",
   "execution_count": null,
   "metadata": {
    "colab": {
     "base_uri": "https://localhost:8080/"
    },
    "id": "2A7msCg0DuhA",
    "outputId": "a0a769bb-44f8-4761-ba04-bf54db8d0612"
   },
   "outputs": [],
   "source": [
    "#demo for stable-baselines3\n",
    "train(start_date = TRAIN_START_DATE, \n",
    "      end_date = TRAIN_END_DATE,\n",
    "      ticker_list = config.DOW_30_TICKER, \n",
    "      data_source = 'yahoofinance',\n",
    "      time_interval= '1D', \n",
    "      technical_indicator_list= TECHNICAL_INDICATORS_LIST,\n",
    "      drl_lib='stable_baselines3', \n",
    "      env=env, \n",
    "      agent='ppo', \n",
    "      cwd='./test_ppo',\n",
    "      total_timesteps=100000)\n"
   ]
  },
  {
   "cell_type": "markdown",
   "metadata": {
    "id": "TsAByoEOZn6X"
   },
   "source": [
    "### Test"
   ]
  },
  {
   "cell_type": "code",
   "execution_count": null,
   "metadata": {
    "colab": {
     "base_uri": "https://localhost:8080/"
    },
    "id": "fKEYTIcLQywo",
    "outputId": "8d673633-da6a-42f1-f43c-7c2f4fe62edd"
   },
   "outputs": [],
   "source": [
    "account_value_sb3=test(start_date = TEST_START_DATE, \n",
    "     end_date = TEST_END_DATE,\n",
    "     ticker_list = config.DOW_30_TICKER, \n",
    "     data_source = 'yahoofinance',\n",
    "     time_interval= '1D', \n",
    "     technical_indicator_list= TECHNICAL_INDICATORS_LIST, \n",
    "     drl_lib='stable_baselines3', \n",
    "     env=env, \n",
    "     agent='ppo', \n",
    "     cwd='./test_ppo.zip')"
   ]
  },
  {
   "cell_type": "code",
   "execution_count": null,
   "metadata": {
    "colab": {
     "base_uri": "https://localhost:8080/"
    },
    "id": "9WcLm8nYsxeU",
    "outputId": "4b2b51f8-6474-4f36-d24e-614bc2c163bc"
   },
   "outputs": [],
   "source": [
    "len(account_value_sb3)"
   ]
  },
  {
   "cell_type": "markdown",
   "metadata": {
    "id": "FC0d-lUvj0Zk"
   },
   "source": [
    "### Plot"
   ]
  },
  {
   "cell_type": "code",
   "execution_count": null,
   "metadata": {
    "colab": {
     "base_uri": "https://localhost:8080/"
    },
    "id": "uWeh-OTc0i2o",
    "outputId": "b74b126f-f745-4a2d-d8e6-2a7c863b0fdf"
   },
   "outputs": [],
   "source": [
    "baseline_df =  DataProcessor('yahoofinance').download_data(ticker_list = [\"^DJI\"], \n",
    "                                                            start_date = TEST_START_DATE, \n",
    "                                                            end_date = TEST_END_DATE, \n",
    "                                                            time_interval = \"1D\")\n",
    "stats = backtest_stats(baseline_df, value_col_name = 'close')\n"
   ]
  },
  {
   "cell_type": "code",
   "execution_count": null,
   "metadata": {
    "id": "bMCujva5s5Mc"
   },
   "outputs": [],
   "source": [
    "account_value_sb3 = pd.DataFrame({'date':baseline_df.date,'account_value':account_value_sb3[0:len(account_value_sb3)-1]})"
   ]
  },
  {
   "cell_type": "code",
   "execution_count": null,
   "metadata": {
    "colab": {
     "base_uri": "https://localhost:8080/"
    },
    "id": "ifAM8Zgxuy4x",
    "outputId": "54fbb5ec-93d2-4c36-db36-c91c6db2e32a"
   },
   "outputs": [],
   "source": [
    "perf_stats_all = backtest_stats(account_value=account_value_sb3)\n",
    "perf_stats_all = pd.DataFrame(perf_stats_all)"
   ]
  },
  {
   "cell_type": "code",
   "execution_count": null,
   "metadata": {
    "colab": {
     "base_uri": "https://localhost:8080/",
     "height": 204
    },
    "id": "YS8-OOGMtIRA",
    "outputId": "ccac2a0b-a39c-42a4-f727-05e342b4a3e3"
   },
   "outputs": [],
   "source": [
    "account_value_sb3.tail()"
   ]
  },
  {
   "cell_type": "code",
   "execution_count": null,
   "metadata": {
    "colab": {
     "base_uri": "https://localhost:8080/"
    },
    "id": "WtSWdl57kDlx",
    "outputId": "2dc4bb59-89eb-4f2e-d0f8-2d20026a4b51"
   },
   "outputs": [],
   "source": [
    "print(\"==============Compare to DJIA===========\")\n",
    "#%matplotlib inline\n",
    "# S&P 500: ^GSPC\n",
    "# Dow Jones Index: ^DJI\n",
    "# NASDAQ 100: ^NDX\n",
    "backtest_plot(account_value_sb3, \n",
    "             baseline_ticker = '^DJI', \n",
    "             baseline_start = account_value_sb3.loc[0,'date'],\n",
    "             baseline_end = account_value_sb3.loc[len(account_value_sb3)-1,'date'])"
   ]
  },
  {
   "cell_type": "markdown",
   "metadata": {
    "id": "6oZXzGdRqsbu"
   },
   "source": [
    "## Plotly"
   ]
  },
  {
   "cell_type": "code",
   "execution_count": null,
   "metadata": {
    "colab": {
     "base_uri": "https://localhost:8080/",
     "height": 419
    },
    "id": "LqiDBb03r4EG",
    "outputId": "51466f10-2e4a-4993-aa7d-933d43b9e616"
   },
   "outputs": [],
   "source": [
    "baseline_df"
   ]
  },
  {
   "cell_type": "code",
   "execution_count": null,
   "metadata": {
    "id": "_ae2RzWwqgJ5"
   },
   "outputs": [],
   "source": [
    "from datetime import datetime as dt\n",
    "\n",
    "import matplotlib.pyplot as plt\n",
    "import plotly\n",
    "import plotly.graph_objs as go"
   ]
  },
  {
   "cell_type": "code",
   "execution_count": null,
   "metadata": {
    "colab": {
     "base_uri": "https://localhost:8080/",
     "height": 204
    },
    "id": "pcYqpqJzquki",
    "outputId": "3ec6bb03-91a4-4365-dab6-b2d9c0e4746c"
   },
   "outputs": [],
   "source": [
    "account_value_rllib.head()"
   ]
  },
  {
   "cell_type": "code",
   "execution_count": null,
   "metadata": {
    "id": "9M8G491ewZul"
   },
   "outputs": [],
   "source": [
    "daily_return = account_value_sb3.copy()\n",
    "daily_return['sb3_return'] = account_value_sb3.account_value.pct_change()\n",
    "daily_return['erl_return'] = account_value_erl.account_value.pct_change()\n",
    "daily_return['rllib_return'] = account_value_rllib.account_value.pct_change()\n",
    "daily_return['djia_return'] = baseline_df.adjcp.pct_change()\n"
   ]
  },
  {
   "cell_type": "code",
   "execution_count": null,
   "metadata": {
    "colab": {
     "base_uri": "https://localhost:8080/",
     "height": 204
    },
    "id": "jgrNgSaKwz-y",
    "outputId": "ae4d24ab-1fc8-4825-dd73-0e03351e0f18"
   },
   "outputs": [],
   "source": [
    "daily_return.head()"
   ]
  },
  {
   "cell_type": "code",
   "execution_count": null,
   "metadata": {
    "id": "wH2bH3u4w9Gx"
   },
   "outputs": [],
   "source": [
    "daily_return.to_csv('daily_return_erl_sb3_rllib.csv',index=False)\n",
    "#daily_return = pd.read_csv('daily_return_erl_sb3_rllib.csv')"
   ]
  },
  {
   "cell_type": "code",
   "execution_count": null,
   "metadata": {
    "id": "IFs_D1YgqxES"
   },
   "outputs": [],
   "source": [
    "rllib_cumpod =(daily_return.rllib_return+1).cumprod()-1\n",
    "sb3_cumpod =(daily_return.sb3_return+1).cumprod()-1\n",
    "erl_cumpod =(daily_return.erl_return+1).cumprod()-1\n",
    "dji_cumpod =(daily_return.djia_return+1).cumprod()-1"
   ]
  },
  {
   "cell_type": "code",
   "execution_count": null,
   "metadata": {
    "id": "7GD2ubi-wSsq"
   },
   "outputs": [],
   "source": []
  },
  {
   "cell_type": "code",
   "execution_count": null,
   "metadata": {
    "id": "yr5AOj5DqisL"
   },
   "outputs": [],
   "source": [
    "time_ind = pd.Series(daily_return.date)"
   ]
  },
  {
   "cell_type": "code",
   "execution_count": null,
   "metadata": {
    "id": "HzLZbaLcqith"
   },
   "outputs": [],
   "source": [
    "trace0_portfolio = go.Scatter(x = time_ind, y = rllib_cumpod, mode = 'lines', name = 'RLlib')\n",
    "\n",
    "trace1_portfolio = go.Scatter(x = time_ind, y = dji_cumpod, mode = 'lines', name = 'DJIA')\n",
    "trace2_portfolio = go.Scatter(x = time_ind, y = sb3_cumpod, mode = 'lines', name = 'Stablebaselines3')\n",
    "trace3_portfolio = go.Scatter(x = time_ind, y = erl_cumpod, mode = 'lines', name = 'ElegantRL')\n",
    "#trace4_portfolio = go.Scatter(x = time_ind, y = addpg_cumpod, mode = 'lines', name = 'Adaptive-DDPG')\n",
    "#trace5_portfolio = go.Scatter(x = time_ind, y = min_cumpod, mode = 'lines', name = 'Min-Variance')\n",
    "\n",
    "#trace4 = go.Scatter(x = time_ind, y = addpg_cumpod, mode = 'lines', name = 'Adaptive-DDPG')\n",
    "\n",
    "#trace2 = go.Scatter(x = time_ind, y = portfolio_cost_minv, mode = 'lines', name = 'Min-Variance')\n",
    "#trace3 = go.Scatter(x = time_ind, y = spx_value, mode = 'lines', name = 'SPX')"
   ]
  },
  {
   "cell_type": "code",
   "execution_count": null,
   "metadata": {
    "id": "gFGHOl0SrMdg"
   },
   "outputs": [],
   "source": [
    "fig = go.Figure()\n",
    "fig.add_trace(trace0_portfolio)\n",
    "\n",
    "#fig.add_trace(trace1_portfolio)\n",
    "\n",
    "#fig.add_trace(trace2_portfolio)\n",
    "\n",
    "\n",
    "\n",
    "fig.update_layout(\n",
    "    legend=dict(\n",
    "        x=0,\n",
    "        y=1,\n",
    "        traceorder=\"normal\",\n",
    "        font=dict(\n",
    "            family=\"sans-serif\",\n",
    "            size=15,\n",
    "            color=\"black\"\n",
    "        ),\n",
    "        bgcolor=\"White\",\n",
    "        bordercolor=\"white\",\n",
    "        borderwidth=2\n",
    "        \n",
    "    ),\n",
    ")\n",
    "#fig.update_layout(legend_orientation=\"h\")\n",
    "fig.update_layout(title={\n",
    "        #'text': \"Cumulative Return using FinRL\",\n",
    "        'y':0.85,\n",
    "        'x':0.5,\n",
    "        'xanchor': 'center',\n",
    "        'yanchor': 'top'})\n",
    "#with Transaction cost\n",
    "#fig.update_layout(title =  'Quarterly Trade Date')\n",
    "fig.update_layout(\n",
    "#    margin=dict(l=20, r=20, t=20, b=20),\n",
    "\n",
    "    paper_bgcolor='rgba(1,1,0,0)',\n",
    "    plot_bgcolor='rgba(1, 1, 0, 0)',\n",
    "    #xaxis_title=\"Date\",\n",
    "    yaxis_title=\"Cumulative Return\",\n",
    "xaxis={'type': 'date', \n",
    "       'tick0': time_ind[0], \n",
    "        'tickmode': 'linear', \n",
    "       'dtick': 86400000.0 *80}\n",
    "\n",
    ")\n",
    "fig.update_xaxes(showline=True,linecolor='black',showgrid=True, gridwidth=1, gridcolor='LightSteelBlue',mirror=True)\n",
    "fig.update_yaxes(showline=True,linecolor='black',showgrid=True, gridwidth=1, gridcolor='LightSteelBlue',mirror=True)\n",
    "fig.update_yaxes(zeroline=True, zerolinewidth=1, zerolinecolor='LightSteelBlue')\n",
    "\n",
    "fig.show()"
   ]
  }
 ],
 "metadata": {
  "anaconda-cloud": {},
  "colab": {
   "collapsed_sections": [],
   "name": "FinRL_compare_eRL_RLlib_stablebaseline.ipynb",
   "provenance": []
  },
  "kernelspec": {
   "display_name": "Python 3",
   "language": "python",
   "name": "python3"
  },
  "language_info": {
   "codemirror_mode": {
    "name": "ipython",
    "version": 3
   },
   "file_extension": ".py",
   "mimetype": "text/x-python",
   "name": "python",
   "nbconvert_exporter": "python",
   "pygments_lexer": "ipython3",
   "version": "3.6.12"
  }
 },
 "nbformat": 4,
 "nbformat_minor": 4
}