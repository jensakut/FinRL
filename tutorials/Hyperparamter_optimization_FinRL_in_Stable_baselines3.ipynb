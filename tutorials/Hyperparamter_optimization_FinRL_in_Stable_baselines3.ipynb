{
 "nbformat": 4,
 "nbformat_minor": 0,
 "metadata": {
  "colab": {
   "name": "Hyperparamter optimization FinRL in Stable baselines3",
   "provenance": [],
   "collapsed_sections": []
  },
  "kernelspec": {
   "name": "python3",
   "language": "python",
   "display_name": "Python 3 (ipykernel)"
  },
  "language_info": {
   "name": "python"
  },
  "accelerator": "GPU"
 },
 "cells": [
  {
   "cell_type": "markdown",
   "metadata": {
    "id": "JwrAr8vEmP2M"
   },
   "source": [
    "# INTRODUCTION\n",
    "1. In this tutorial, we will be tuning hyperparameters for Stable baselines3 models using Optuna.\n",
    "2. The default model hyperparamters may not be adequate for your custom portfolio or custom state-space. Reinforcement learning algorithms are sensitive to hyperparamters, hence tuning is an important step.\n",
    "3. Hyperparamters are tuned based on an objective, which needs to be maximized or minimized. Here we tuned our hyperparamters to maximize the Sharpe Ratio "
   ]
  },
  {
   "cell_type": "code",
   "metadata": {
    "id": "qRF-7Vp5NCjU"
   },
   "source": [
    "#Installing FinRL\n",
    "%%capture\n",
    "!pip install git+https://github.com/AI4Finance-LLC/FinRL-Library.git"
   ],
   "execution_count": 1,
   "outputs": [
    {
     "name": "stderr",
     "output_type": "stream",
     "text": [
      "UsageError: Line magic function `%%capture` not found.\n"
     ]
    }
   ]
  },
  {
   "cell_type": "code",
   "metadata": {
    "id": "LRJk36AZQGuh"
   },
   "source": [
    "#Installing Optuna\n",
    "%%capture\n",
    "!pip3 install optuna"
   ],
   "execution_count": null,
   "outputs": []
  },
  {
   "cell_type": "code",
   "metadata": {
    "colab": {
     "base_uri": "https://localhost:8080/"
    },
    "id": "PqOKn-VWNGt4",
    "outputId": "b80dae9a-35cc-44b3-d04e-ee861c5a1a15"
   },
   "source": [
    "#Importing the libraries\n",
    "import pandas as pd\n",
    "import numpy as np\n",
    "import matplotlib\n",
    "import matplotlib.pyplot as plt\n",
    "# matplotlib.use('Agg')\n",
    "import datetime\n",
    "import optuna\n",
    "from thop import profile\n",
    "%matplotlib inline\n",
    "from finrl.apps import config\n",
    "from finrl.neo_finrl.preprocessor.yahoodownloader import YahooDownloader\n",
    "from finrl.neo_finrl.preprocessor.preprocessors import FeatureEngineer, data_split\n",
    "from finrl.neo_finrl.env_stock_trading.env_stocktrading import StockTradingEnv\n",
    "from finrl.neo_finrl.env_stock_trading.env_stocktrading_np import StockTradingEnv as StockTradingEnv_numpy\n",
    "from finrl.drl_agents.stablebaselines3.models import DRLAgent\n",
    "from finrl.drl_agents.rllib.models import DRLAgent as DRLAgent_rllib\n",
    "from finrl.neo_finrl.data_processor import DataProcessor\n",
    "\n",
    "\n",
    "from finrl.plot import backtest_stats, backtest_plot, get_daily_return, get_baseline\n",
    "import ray\n",
    "from pprint import pprint\n",
    "\n",
    "import sys\n",
    "sys.path.append(\"../FinRL-Library\")\n",
    "\n",
    "import itertools"
   ],
   "execution_count": null,
   "outputs": []
  },
  {
   "cell_type": "code",
   "metadata": {
    "id": "z7_fCHS6NMx9"
   },
   "source": [
    "import os\n",
    "if not os.path.exists(\"./\" + config.DATA_SAVE_DIR):\n",
    "    os.makedirs(\"./\" + config.DATA_SAVE_DIR)\n",
    "if not os.path.exists(\"./\" + config.TRAINED_MODEL_DIR):\n",
    "    os.makedirs(\"./\" + config.TRAINED_MODEL_DIR)\n",
    "if not os.path.exists(\"./\" + config.TENSORBOARD_LOG_DIR):\n",
    "    os.makedirs(\"./\" + config.TENSORBOARD_LOG_DIR)\n",
    "if not os.path.exists(\"./\" + config.RESULTS_DIR):\n",
    "    os.makedirs(\"./\" + config.RESULTS_DIR)"
   ],
   "execution_count": null,
   "outputs": []
  },
  {
   "cell_type": "markdown",
   "metadata": {
    "id": "71P6jMlEpikl"
   },
   "source": [
    "## COLLECTING DATA AND PREPROCESSING"
   ]
  },
  {
   "cell_type": "code",
   "metadata": {
    "colab": {
     "base_uri": "https://localhost:8080/"
    },
    "id": "frT5V9lLOv9X",
    "outputId": "d18ccf7b-25db-4ebe-d07e-50ef03b15635"
   },
   "source": [
    "#Custom ticker list dataframe download\n",
    "ticker_list = ['AAPL','GOOGL','MSFT','FB']\n",
    "df = YahooDownloader(start_date = '2009-01-01',\n",
    "                     end_date = '2021-07-06',\n",
    "                     ticker_list = ticker_list).fetch_data()"
   ],
   "execution_count": null,
   "outputs": []
  },
  {
   "cell_type": "code",
   "metadata": {
    "id": "cntKg5nWO5qn"
   },
   "source": [
    "#You can add technical indicators and turbulence factor to dataframe\n",
    "#Just set the use_technical_indicator=True, use_vix=True and use_turbulence=True and also change the state space accordingly\n",
    "fe = FeatureEngineer(\n",
    "                    use_technical_indicator=False,\n",
    "                    tech_indicator_list = [],\n",
    "                    use_vix=False,\n",
    "                    use_turbulence=False,\n",
    "                    user_defined_feature = False)\n",
    "\n",
    "processed = fe.preprocess_data(df)"
   ],
   "execution_count": null,
   "outputs": []
  },
  {
   "cell_type": "code",
   "metadata": {
    "colab": {
     "base_uri": "https://localhost:8080/",
     "height": 204
    },
    "id": "5diXih4zPE6m",
    "outputId": "352fc10d-0249-47f1-a9d1-9dd5b2263f8c"
   },
   "source": [
    "list_ticker = processed[\"tic\"].unique().tolist()\n",
    "list_date = list(pd.date_range(processed['date'].min(),processed['date'].max()).astype(str))\n",
    "combination = list(itertools.product(list_date,list_ticker))\n",
    "\n",
    "processed_full = pd.DataFrame(combination,columns=[\"date\",\"tic\"]).merge(processed,on=[\"date\",\"tic\"],how=\"left\")\n",
    "processed_full = processed_full[processed_full['date'].isin(processed['date'])]\n",
    "processed_full = processed_full.sort_values(['date','tic'])\n",
    "\n",
    "processed_full = processed_full.fillna(0)\n",
    "processed_full.sort_values(['date','tic'],ignore_index=True).head(5)"
   ],
   "execution_count": null,
   "outputs": []
  },
  {
   "cell_type": "code",
   "metadata": {
    "colab": {
     "base_uri": "https://localhost:8080/"
    },
    "id": "3RrJiFbSPKE2",
    "outputId": "65ce8e85-6d4b-4b75-d773-58d894d828d3"
   },
   "source": [
    "train = data_split(processed_full, '2009-01-01','2020-07-01')\n",
    "trade = data_split(processed_full, '2020-07-01','2021-07-06')\n",
    "print(len(train))\n",
    "print(len(trade))"
   ],
   "execution_count": null,
   "outputs": []
  },
  {
   "cell_type": "code",
   "metadata": {
    "colab": {
     "base_uri": "https://localhost:8080/"
    },
    "id": "ub4JTTRcPOel",
    "outputId": "fcef3422-b19f-4e30-9590-9f1460fc6704"
   },
   "source": [
    "stock_dimension = len(train.tic.unique())\n",
    "state_space = 1 + 2*stock_dimension \n",
    "print(f\"Stock Dimension: {stock_dimension}, State Space: {state_space}\")"
   ],
   "execution_count": null,
   "outputs": []
  },
  {
   "cell_type": "code",
   "metadata": {
    "id": "YiF95zXgPTsd"
   },
   "source": [
    "#Defining the environment kwargs\n",
    "\n",
    "env_kwargs = {\n",
    "    \"hmax\": 100, \n",
    "    \"initial_amount\": 1000000, \n",
    "    \"buy_cost_pct\": 0.001,\n",
    "    \"sell_cost_pct\": 0.001,\n",
    "    \"state_space\": state_space, \n",
    "    \"stock_dim\": stock_dimension, \n",
    "    \"tech_indicator_list\": [], \n",
    "    \"action_space\": stock_dimension, \n",
    "    \"reward_scaling\": 1e-4\n",
    "    \n",
    "}\n",
    "#Instantiate the training gym compatible environment\n",
    "e_train_gym = StockTradingEnv(df = train, **env_kwargs)"
   ],
   "execution_count": null,
   "outputs": []
  },
  {
   "cell_type": "code",
   "metadata": {
    "colab": {
     "base_uri": "https://localhost:8080/"
    },
    "id": "892NcZALPWHF",
    "outputId": "e0bace2a-6d03-404e-e5a4-dda0f256bbdf"
   },
   "source": [
    "#Instantiate the training environment\n",
    "# Also instantiate our training gent\n",
    "env_train, _ = e_train_gym.get_sb_env()\n",
    "print(type(env_train))\n",
    "agent = DRLAgent(env = env_train)"
   ],
   "execution_count": null,
   "outputs": []
  },
  {
   "cell_type": "code",
   "metadata": {
    "id": "3EwB1T8opX2o"
   },
   "source": [
    "#Instantiate the trading environment\n",
    "e_trade_gym = StockTradingEnv(df = trade, turbulence_threshold = None, **env_kwargs)"
   ],
   "execution_count": null,
   "outputs": []
  },
  {
   "cell_type": "markdown",
   "metadata": {
    "id": "zOynTQluppye"
   },
   "source": [
    "## TUNING HYPERPARAMETERS USING OPTUNA\n",
    "1. Go to this [link](https://github.com/DLR-RM/rl-baselines3-zoo/blob/master/utils/hyperparams_opt.py), you will find all possible hyperparamters to tune for all the models.\n",
    "2. For your model, grab those hyperparamters which you want to optimize and then return a dictionary of hyperparamters.\n",
    "3. There is a feature in Optuna called as hyperparamters importance, you can point out those hyperparamters which are important for tuning.\n",
    "4. By default Optuna use [TPESampler](https://www.youtube.com/watch?v=tdwgR1AqQ8Y) for sampling hyperparamters from the search space. "
   ]
  },
  {
   "cell_type": "code",
   "metadata": {
    "id": "_vojRvAsP2ja"
   },
   "source": [
    "def sample_ppo_params(trial:optuna.Trial):\n",
    "  # Episode length is a categorical hyperparamter\n",
    "  n_steps = trial.suggest_categorical(\"n_steps\", [512, 1024, 2048])\n",
    "  #Entropy coefficient for exploration-exploitation\n",
    "  ent_coef = trial.suggest_loguniform(\"ent_coef\", 0.0001, 0.1)\n",
    "  learning_rate = trial.suggest_loguniform(\"learning_rate\", 1e-5, 1)\n",
    "  batch_size = trial.suggest_categorical(\"batch_size\", [ 64, 128])\n",
    "  \n",
    "  return {\"n_steps\":n_steps,\n",
    "          \"ent_coef\":ent_coef,\n",
    "          \"learning_rate\":learning_rate,\n",
    "          \"batch_size\":batch_size}\n"
   ],
   "execution_count": null,
   "outputs": []
  },
  {
   "cell_type": "code",
   "metadata": {
    "id": "xL7LeLeWrj6H"
   },
   "source": [
    "#Calculate the Sharpe ratio\n",
    "#This is our objective for tuning\n",
    "def calculate_sharpe(df):\n",
    "  df['daily_return'] = df['account_value'].pct_change(1)\n",
    "  if df['daily_return'].std() !=0:\n",
    "    sharpe = (252**0.5)*df['daily_return'].mean()/ \\\n",
    "          df['daily_return'].std()\n",
    "  return sharpe"
   ],
   "execution_count": null,
   "outputs": []
  },
  {
   "cell_type": "code",
   "metadata": {
    "colab": {
     "base_uri": "https://localhost:8080/"
    },
    "id": "QsEKc-9APaS1",
    "outputId": "047edb94-8896-4fdc-cf7f-e93be409ce48"
   },
   "source": [
    "from IPython.display import clear_output\n",
    "         \n",
    "def objective(trial:optuna.Trial):\n",
    "  #Trial will suggest a set of hyperparamters from the specified range\n",
    "  hyperparameters = sample_ppo_params(trial)\n",
    "  model_ppo = agent.get_model(\"ppo\",model_kwargs = hyperparameters )\n",
    "  #Train your model for 5000 timesteps\n",
    "  #You can increase it for better comparison\n",
    "  trained_ppo = agent.train_model(model=model_ppo, \n",
    "                             tb_log_name='ppo',\n",
    "                             total_timesteps=5000)\n",
    "  clear_output(wait=True)\n",
    "  #For the given hyperparamters, determine the account value in the trading period\n",
    "  df_account_value, df_actions = DRLAgent.DRL_prediction(\n",
    "    model=trained_ppo, \n",
    "    environment = e_trade_gym)\n",
    "  #Calculate sharpe from the account value\n",
    "  sharpe = calculate_sharpe(df_account_value)\n",
    "\n",
    "  return sharpe\n",
    "\n",
    "#Create a study object and specify the direction as 'maximize\n",
    "#As you want to maximize sharpe\n",
    "#Pruner stops not promising iterations\n",
    "#Use a pruner, else you will get error related to divergence of model\n",
    "study = optuna.create_study(direction='maximize',pruner=optuna.pruners.HyperbandPruner())\n",
    "#You can increase the n_trials for a better search space scanning\n",
    "study.optimize(objective, n_trials=10,catch=(ValueError,))"
   ],
   "execution_count": null,
   "outputs": []
  },
  {
   "cell_type": "code",
   "metadata": {
    "colab": {
     "base_uri": "https://localhost:8080/"
    },
    "id": "YGnL9Oq_qV8I",
    "outputId": "9c60139c-cc42-4ebc-d3a5-1863ede4a61d"
   },
   "source": [
    "#It returns all the trials\n",
    "# The key values mean sharpe ratio\n",
    "# So for number 9 we have highest sharpe ratio\n",
    "study.trials"
   ],
   "execution_count": null,
   "outputs": []
  },
  {
   "cell_type": "code",
   "metadata": {
    "colab": {
     "base_uri": "https://localhost:8080/"
    },
    "id": "SVMue1-xuGHC",
    "outputId": "7478c92f-3983-4519-8e8a-31aa395ddda6"
   },
   "source": [
    "#Get the best hyperparamters\n",
    "study.best_params"
   ],
   "execution_count": null,
   "outputs": []
  },
  {
   "cell_type": "code",
   "metadata": {
    "colab": {
     "base_uri": "https://localhost:8080/"
    },
    "id": "fETqKJj4uSi5",
    "outputId": "e2b91cda-fdbb-4c68-aa92-9d43cecc2653"
   },
   "source": [
    "#Train your tuned model using the best hyperparamters for 50000 steps\n",
    "tuned_model_ppo = agent.get_model(\"ppo\",model_kwargs = study.best_params )\n",
    "trained_ppo = agent.train_model(model=tuned_model_ppo, \n",
    "                             tb_log_name='ppo',\n",
    "                             total_timesteps=50000)"
   ],
   "execution_count": null,
   "outputs": []
  },
  {
   "cell_type": "code",
   "metadata": {
    "colab": {
     "base_uri": "https://localhost:8080/"
    },
    "id": "FgchX1LLuua-",
    "outputId": "2c2ba17c-184f-4274-c2ce-8d0450218e3c"
   },
   "source": [
    "#Trading period account value with tuned model\n",
    "df_account_value_tuned, df_actions_tuned = DRLAgent.DRL_prediction(\n",
    "    model=tuned_model_ppo, \n",
    "    environment = e_trade_gym)"
   ],
   "execution_count": null,
   "outputs": []
  },
  {
   "cell_type": "code",
   "metadata": {
    "colab": {
     "base_uri": "https://localhost:8080/"
    },
    "id": "8s5KNvVuvr2D",
    "outputId": "9079b6ba-44f6-4fc4-eecd-a7f4e9ef6693"
   },
   "source": [
    "#Backtesting with our pruned model\n",
    "print(\"==============Get Backtest Results===========\")\n",
    "now = datetime.datetime.now().strftime('%Y%m%d-%Hh%M')\n",
    "\n",
    "perf_stats_all_tuned = backtest_stats(account_value=df_account_value_tuned)\n",
    "perf_stats_all_tuned = pd.DataFrame(perf_stats_all)\n",
    "perf_stats_all_tuned.to_csv(\"./\"+config.RESULTS_DIR+\"/perf_stats_all_tuned_\"+now+'.csv')"
   ],
   "execution_count": null,
   "outputs": []
  },
  {
   "cell_type": "markdown",
   "metadata": {
    "id": "lx5Jnz3ktugY"
   },
   "source": [
    "**You can see the sharpe ratio is 2.14** "
   ]
  },
  {
   "cell_type": "code",
   "metadata": {
    "colab": {
     "base_uri": "https://localhost:8080/"
    },
    "id": "tuGaI9lSvvVD",
    "outputId": "4d3408e2-3416-4c89-9625-15a8c537a459"
   },
   "source": [
    "#Now train with not tuned hyperaparameters\n",
    "#Default config.PPO_PARAMS\n",
    "non_tuned_model_ppo = agent.get_model(\"ppo\",model_kwargs = config.PPO_PARAMS )\n",
    "trained_ppo = agent.train_model(model=non_tuned_model_ppo, \n",
    "                             tb_log_name='ppo',\n",
    "                             total_timesteps=50000)"
   ],
   "execution_count": null,
   "outputs": []
  },
  {
   "cell_type": "code",
   "metadata": {
    "colab": {
     "base_uri": "https://localhost:8080/"
    },
    "id": "yZbEYRQ1wBeC",
    "outputId": "aa099d9d-137a-4a60-bf22-0bbb846d323e"
   },
   "source": [
    "df_account_value, df_actions = DRLAgent.DRL_prediction(\n",
    "    model=non_tuned_model_ppo, \n",
    "    environment = e_trade_gym)"
   ],
   "execution_count": null,
   "outputs": []
  },
  {
   "cell_type": "code",
   "metadata": {
    "colab": {
     "base_uri": "https://localhost:8080/"
    },
    "id": "pFdB4YM3wh0m",
    "outputId": "be6c3491-98a5-4d01-e07d-6fe1016d58e6"
   },
   "source": [
    "#Backtesting for not tuned hyperparamters\n",
    "print(\"==============Get Backtest Results===========\")\n",
    "now = datetime.datetime.now().strftime('%Y%m%d-%Hh%M')\n",
    "\n",
    "perf_stats_all = backtest_stats(account_value=df_account_value)\n",
    "perf_stats_all = pd.DataFrame(perf_stats_all)\n",
    "# perf_stats_all.to_csv(\"./\"+config.RESULTS_DIR+\"/perf_stats_all_\"+now+'.csv')"
   ],
   "execution_count": null,
   "outputs": []
  },
  {
   "cell_type": "markdown",
   "metadata": {
    "id": "me9BkMS5uJGQ"
   },
   "source": [
    "**You can see the sharpe ratio is 1.32, less than our tuned model (2.14)**"
   ]
  },
  {
   "cell_type": "code",
   "metadata": {
    "colab": {
     "base_uri": "https://localhost:8080/",
     "height": 542
    },
    "id": "12fxdvUZwi_W",
    "outputId": "dcecb583-bb02-43d2-afe1-99875726d094"
   },
   "source": [
    "#You can see with trial, our sharpe ratio is increasing\n",
    "#Certainly you can afford more number of trials for further optimization\n",
    "from optuna.visualization import plot_optimization_history\n",
    "plot_optimization_history(study)"
   ],
   "execution_count": null,
   "outputs": []
  },
  {
   "cell_type": "code",
   "metadata": {
    "id": "_TUF2GvAx6-k"
   },
   "source": [
    "from optuna.visualization import plot_contour\n",
    "from optuna.visualization import plot_edf\n",
    "from optuna.visualization import plot_intermediate_values\n",
    "from optuna.visualization import plot_optimization_history\n",
    "from optuna.visualization import plot_parallel_coordinate\n",
    "from optuna.visualization import plot_param_importances\n",
    "from optuna.visualization import plot_slice"
   ],
   "execution_count": null,
   "outputs": []
  },
  {
   "cell_type": "code",
   "metadata": {
    "colab": {
     "base_uri": "https://localhost:8080/",
     "height": 542
    },
    "id": "2jkqeSUIyCT0",
    "outputId": "73a5b6f2-ead4-45ac-c6b7-667091e0ac1c"
   },
   "source": [
    "#Hyperparamters importance\n",
    "#Ent_coef is the most important\n",
    "plot_param_importances(study)"
   ],
   "execution_count": null,
   "outputs": []
  },
  {
   "cell_type": "markdown",
   "metadata": {
    "id": "fAD0MIAWukB9"
   },
   "source": [
    "## FURTHER WORKS\n",
    "\n",
    "1.   You can tune more critical hyperparameters\n",
    "2.   Multi-objective hyperparameter optimization using Optuna. Here we can maximize Sharpe and simultaneously minimize Volatility in our account value to tune our hyperparameters\n",
    "\n"
   ]
  },
  {
   "cell_type": "code",
   "metadata": {
    "id": "_edBJqB8yEDr"
   },
   "source": [
    ""
   ],
   "execution_count": null,
   "outputs": []
  }
 ]
}