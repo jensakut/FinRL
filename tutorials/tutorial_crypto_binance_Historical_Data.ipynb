{
 "nbformat": 4,
 "nbformat_minor": 0,
 "metadata": {
  "kernelspec": {
   "name": "python3",
   "language": "python",
   "display_name": "Python 3 (ipykernel)"
  },
  "language_info": {
   "codemirror_mode": {
    "name": "ipython",
    "version": 3
   },
   "file_extension": ".py",
   "mimetype": "text/x-python",
   "name": "python",
   "nbconvert_exporter": "python",
   "pygments_lexer": "ipython3",
   "version": "3.7.4"
  },
  "colab": {
   "name": "Crypto_Binance_Historical_Data.ipynb",
   "provenance": [],
   "toc_visible": true,
   "include_colab_link": true
  }
 },
 "cells": [
  {
   "cell_type": "markdown",
   "metadata": {
    "id": "view-in-github",
    "colab_type": "text"
   },
   "source": [
    "<a href=\"https://colab.research.google.com/github/AI4Finance-LLC/FinRL-Library/blob/master/Crypto_Binance_Historical_Data.ipynb\" target=\"_parent\"><img src=\"https://colab.research.google.com/assets/colab-badge.svg\" alt=\"Open In Colab\"/></a>"
   ]
  },
  {
   "cell_type": "markdown",
   "metadata": {
    "id": "QYSfSKiBZeJf"
   },
   "source": [
    "# Fetch historical data"
   ]
  },
  {
   "cell_type": "markdown",
   "metadata": {
    "id": "YC1eCkAPZeJh"
   },
   "source": [
    "Python script to fetch historical data from binance using ccxt\n",
    "\n"
   ]
  },
  {
   "cell_type": "code",
   "metadata": {
    "colab": {
     "base_uri": "https://localhost:8080/",
     "height": 1000
    },
    "id": "ft42NOrgZeJh",
    "outputId": "bff73263-dbba-44c5-d1be-61194c59cf95"
   },
   "source": [
    "# Install openpyxl and CCXT\n",
    "!pip install openpyxl ccxt pyarrow"
   ],
   "execution_count": 1,
   "outputs": [
    {
     "name": "stdout",
     "output_type": "stream",
     "text": [
      "Requirement already satisfied: openpyxl in /home/jens/miniconda3/envs/FinRL/lib/python3.8/site-packages (3.0.9)\r\n",
      "Requirement already satisfied: ccxt in /home/jens/miniconda3/envs/FinRL/lib/python3.8/site-packages (1.57.35)\r\n",
      "Requirement already satisfied: pyarrow in /home/jens/miniconda3/envs/FinRL/lib/python3.8/site-packages (5.0.0)\r\n",
      "Requirement already satisfied: et-xmlfile in /home/jens/miniconda3/envs/FinRL/lib/python3.8/site-packages (from openpyxl) (1.1.0)\r\n",
      "Requirement already satisfied: setuptools>=38.5.1 in /home/jens/miniconda3/envs/FinRL/lib/python3.8/site-packages (from ccxt) (58.0.4)\r\n",
      "Requirement already satisfied: aiohttp<3.8,>=3.7.4 in /home/jens/miniconda3/envs/FinRL/lib/python3.8/site-packages (from ccxt) (3.7.4)\r\n",
      "Requirement already satisfied: aiodns>=1.1.1 in /home/jens/miniconda3/envs/FinRL/lib/python3.8/site-packages (from ccxt) (3.0.0)\r\n",
      "Requirement already satisfied: yarl==1.6.3 in /home/jens/miniconda3/envs/FinRL/lib/python3.8/site-packages (from ccxt) (1.6.3)\r\n",
      "Requirement already satisfied: requests>=2.18.4 in /home/jens/miniconda3/envs/FinRL/lib/python3.8/site-packages (from ccxt) (2.26.0)\r\n",
      "Requirement already satisfied: cryptography>=2.6.1 in /home/jens/miniconda3/envs/FinRL/lib/python3.8/site-packages (from ccxt) (35.0.0)\r\n",
      "Requirement already satisfied: certifi>=2018.1.18 in /home/jens/miniconda3/envs/FinRL/lib/python3.8/site-packages (from ccxt) (2021.5.30)\r\n",
      "Requirement already satisfied: idna>=2.0 in /home/jens/miniconda3/envs/FinRL/lib/python3.8/site-packages (from yarl==1.6.3->ccxt) (3.2)\r\n",
      "Requirement already satisfied: multidict>=4.0 in /home/jens/miniconda3/envs/FinRL/lib/python3.8/site-packages (from yarl==1.6.3->ccxt) (5.1.0)\r\n",
      "Requirement already satisfied: numpy>=1.16.6 in /home/jens/miniconda3/envs/FinRL/lib/python3.8/site-packages (from pyarrow) (1.21.2)\r\n",
      "Requirement already satisfied: pycares>=4.0.0 in /home/jens/miniconda3/envs/FinRL/lib/python3.8/site-packages (from aiodns>=1.1.1->ccxt) (4.0.0)\r\n",
      "Requirement already satisfied: attrs>=17.3.0 in /home/jens/miniconda3/envs/FinRL/lib/python3.8/site-packages (from aiohttp<3.8,>=3.7.4->ccxt) (21.2.0)\r\n",
      "Requirement already satisfied: typing-extensions>=3.6.5 in /home/jens/miniconda3/envs/FinRL/lib/python3.8/site-packages (from aiohttp<3.8,>=3.7.4->ccxt) (3.10.0.2)\r\n",
      "Requirement already satisfied: chardet<4.0,>=2.0 in /home/jens/miniconda3/envs/FinRL/lib/python3.8/site-packages (from aiohttp<3.8,>=3.7.4->ccxt) (3.0.4)\r\n",
      "Requirement already satisfied: async-timeout<4.0,>=3.0 in /home/jens/miniconda3/envs/FinRL/lib/python3.8/site-packages (from aiohttp<3.8,>=3.7.4->ccxt) (3.0.1)\r\n",
      "Requirement already satisfied: cffi>=1.12 in /home/jens/miniconda3/envs/FinRL/lib/python3.8/site-packages (from cryptography>=2.6.1->ccxt) (1.14.6)\r\n",
      "Requirement already satisfied: pycparser in /home/jens/miniconda3/envs/FinRL/lib/python3.8/site-packages (from cffi>=1.12->cryptography>=2.6.1->ccxt) (2.20)\r\n",
      "Requirement already satisfied: urllib3<1.27,>=1.21.1 in /home/jens/miniconda3/envs/FinRL/lib/python3.8/site-packages (from requests>=2.18.4->ccxt) (1.26.7)\r\n",
      "Requirement already satisfied: charset-normalizer~=2.0.0 in /home/jens/miniconda3/envs/FinRL/lib/python3.8/site-packages (from requests>=2.18.4->ccxt) (2.0.6)\r\n"
     ]
    }
   ]
  },
  {
   "cell_type": "code",
   "metadata": {
    "id": "WyylIG0mZeJi",
    "pycharm": {
     "name": "#%%\n"
    }
   },
   "source": [
    "import os\n",
    "from pathlib import Path\n",
    "\n",
    "import sys\n",
    "import csv\n",
    "\n",
    "# -----------------------------------------------------------------------------\n",
    "\n",
    "root = os.path.dirname(os.path.dirname(os.path.dirname(os.path.abspath(''))))\n",
    "sys.path.append(root + '/python')\n",
    "\n",
    "import ccxt\n",
    "\n",
    "\n",
    "# -----------------------------------------------------------------------------\n",
    "\n",
    "def retry_fetch_ohlcv(exchange, max_retries, symbol, timeframe, since, limit):\n",
    "    num_retries = 0\n",
    "    try:\n",
    "        num_retries += 1\n",
    "        ohlcv = exchange.fetch_ohlcv(symbol, timeframe, since, limit)\n",
    "        # print('Fetched', len(ohlcv), symbol, 'candles from', exchange.iso8601 (ohlcv[0][0]), 'to', exchange.iso8601 (ohlcv[-1][0]))\n",
    "        return ohlcv\n",
    "    except Exception:\n",
    "        if num_retries > max_retries:\n",
    "            raise  # Exception('Failed to fetch', timeframe, symbol, 'OHLCV in', max_retries, 'attempts')\n",
    "\n",
    "\n",
    "def scrape_ohlcv(exchange, max_retries, symbol, timeframe, since, limit):\n",
    "    earliest_timestamp = exchange.milliseconds()\n",
    "    timeframe_duration_in_seconds = exchange.parse_timeframe(timeframe)\n",
    "    timeframe_duration_in_ms = timeframe_duration_in_seconds * 1000\n",
    "    timedelta = limit * timeframe_duration_in_ms\n",
    "    all_ohlcv = []\n",
    "    while True:\n",
    "        fetch_since = earliest_timestamp - timedelta\n",
    "        ohlcv = retry_fetch_ohlcv(exchange, max_retries, symbol, timeframe, fetch_since, limit)\n",
    "        # if we have reached the beginning of history\n",
    "        if ohlcv is None:\n",
    "            print(f\"{symbol} ohlcv is none\")\n",
    "            break\n",
    "\n",
    "        if len(ohlcv) > 0:\n",
    "            if ohlcv[0][0] >= earliest_timestamp:\n",
    "                break\n",
    "            earliest_timestamp = ohlcv[0][0]\n",
    "            all_ohlcv = ohlcv + all_ohlcv\n",
    "            print(len(all_ohlcv), symbol, 'candles in total from', exchange.iso8601(all_ohlcv[0][0]), 'to', exchange.iso8601(all_ohlcv[-1][0]))\n",
    "            # if we have reached the checkpoint\n",
    "            if fetch_since < since:\n",
    "                break\n",
    "        else:\n",
    "            break\n",
    "    return all_ohlcv\n",
    "\n",
    "\n",
    "def write_to_csv(filename, exchange, data):\n",
    "    p = Path(\"./data/raw/\", str(exchange))\n",
    "    p.mkdir(parents=True, exist_ok=True)\n",
    "    full_path = p / str(filename)\n",
    "    with Path(full_path).open('w+', newline='') as output_file:\n",
    "        csv_writer = csv.writer(output_file, delimiter=',', quotechar='\"', quoting=csv.QUOTE_MINIMAL)\n",
    "        csv_writer.writerows(data)\n",
    "\n",
    "\n",
    "def scrape_candles_to_csv(filename, exchange_id, max_retries, symbol, timeframe, since, limit):\n",
    "    # instantiate the exchange by id\n",
    "    exchange = getattr(ccxt, exchange_id)({\n",
    "        'enableRateLimit': True,  # required by the Manual\n",
    "    })\n",
    "    # convert since from string to milliseconds integer if needed\n",
    "    if isinstance(since, str):\n",
    "        since = exchange.parse8601(since)\n",
    "    # preload all markets from the exchange\n",
    "    exchange.load_markets()\n",
    "    # fetch all candles\n",
    "    ohlcv = scrape_ohlcv(exchange, max_retries, symbol, timeframe, since, limit)\n",
    "    # save them to csv file\n",
    "    write_to_csv(filename, exchange, ohlcv)\n",
    "    print('Saved', len(ohlcv), 'candles from', exchange.iso8601(ohlcv[0][0]), 'to', exchange.iso8601(ohlcv[-1][0]), 'to', filename)\n",
    "\n",
    "\n",
    "def scrape_all_candles_to_csv(exchange_id, max_retries, timeframe, since, limit):\n",
    "    # instantiate the exchange by id\n",
    "    exchange = getattr(ccxt, exchange_id)({\n",
    "        'enableRateLimit': True,  # required by the Manual\n",
    "    })\n",
    "    # convert since from string to milliseconds integer if needed\n",
    "    if isinstance(since, str):\n",
    "        since = exchange.parse8601(since)\n",
    "    # preload all markets from the exchange\n",
    "    exchange.load_markets()\n",
    "    for symbol in exchange.symbols:\n",
    "        splits = symbol.split(\"/\")\n",
    "        if len(splits) == 2:\n",
    "            symbol_dict = {\"symbol\": symbol,\n",
    "                           \"base\": splits[0],\n",
    "                           \"quote\": splits[1]}\n",
    "            # fetch all candles\n",
    "            if symbol_dict['quote'] in [\"USD\", \"USDT\", \"BUSD\", \"USDC\"]:\n",
    "                ohlcv = scrape_ohlcv(exchange, max_retries, symbol, timeframe, since, limit)\n",
    "                # save them to csv file\n",
    "                filename = f'{exchange_id}_{splits[0]}_{splits[1]}_{timeframe}.csv'\n",
    "                write_to_csv(filename, exchange, ohlcv)\n",
    "                if len(ohlcv):\n",
    "                    print('Saved', len(ohlcv), 'candles from', exchange.iso8601(ohlcv[0][0]), 'to', exchange.iso8601(ohlcv[-1][0]), 'to', filename)\n",
    "                else:\n",
    "                    print(f\"len ohlcv {symbol} is 0\")\n",
    "            else:\n",
    "                print(f\"{symbol}: {symbol_dict['quote']} not in [USD, USDT, BUSD, USDC]\")\n",
    "        else:\n",
    "            print(f\"{symbol} not correctly splittable\")\n",
    "\n",
    "#scrape_all_candles_to_csv('binance', 3, '1d', '2001-09-0100:00:00Z', 1000)\n",
    "#scrape_all_candles_to_csv('bitfinex', 3, '1d', '2001-09-0100:00:00Z', 1000)\n",
    "\n",
    "# scrape_candles_to_csv('btc_usdt_1m.csv', 'binance', 3, 'BTC/USDT', '1m', '2019-01-0100:00:00Z', 1000)\n",
    "# scrape_candles_to_csv('./data/raw/binance/eth_btc_1m.csv', 'binance', 3, 'ETH/BTC', '1m', '2018-01-01T00:00:00Z', 1000)\n",
    "# scrape_candles_to_csv('./data/raw/binance/ltc_btc_1m.csv', 'binance', 3, 'LTC/BTC', '1m', '2018-01-01T00:00:00Z', 1000)\n",
    "# scrape_candles_to_csv('./data/raw/binance/xlm_btc_1m.csv', 'binance', 3, 'XLM/BTC', '1m', '2018-01-01T00:00:00Z', 1000)"
   ],
   "execution_count": 2,
   "outputs": []
  },
  {
   "cell_type": "code",
   "execution_count": 3,
   "outputs": [
    {
     "data": {
      "text/plain": "  open  low high close volume vwap\n0  NaN  NaN  NaN   NaN    0.0  NaN\n1  1.0  1.1  1.2   1.3    1.4  1.5\n2  2.0  2.1  2.3   2.3    2.4  2.5\n3  2.3  2.3  2.3   2.3    0.0  2.3\n4  2.3  2.3  2.3   2.3    0.0  2.3\n5  5.0  5.1  5.2   5.3    5.4  5.5\n6  5.3  5.3  5.3   5.3    0.0  5.3",
      "text/html": "<div>\n<style scoped>\n    .dataframe tbody tr th:only-of-type {\n        vertical-align: middle;\n    }\n\n    .dataframe tbody tr th {\n        vertical-align: top;\n    }\n\n    .dataframe thead th {\n        text-align: right;\n    }\n</style>\n<table border=\"1\" class=\"dataframe\">\n  <thead>\n    <tr style=\"text-align: right;\">\n      <th></th>\n      <th>open</th>\n      <th>low</th>\n      <th>high</th>\n      <th>close</th>\n      <th>volume</th>\n      <th>vwap</th>\n    </tr>\n  </thead>\n  <tbody>\n    <tr>\n      <th>0</th>\n      <td>NaN</td>\n      <td>NaN</td>\n      <td>NaN</td>\n      <td>NaN</td>\n      <td>0.0</td>\n      <td>NaN</td>\n    </tr>\n    <tr>\n      <th>1</th>\n      <td>1.0</td>\n      <td>1.1</td>\n      <td>1.2</td>\n      <td>1.3</td>\n      <td>1.4</td>\n      <td>1.5</td>\n    </tr>\n    <tr>\n      <th>2</th>\n      <td>2.0</td>\n      <td>2.1</td>\n      <td>2.3</td>\n      <td>2.3</td>\n      <td>2.4</td>\n      <td>2.5</td>\n    </tr>\n    <tr>\n      <th>3</th>\n      <td>2.3</td>\n      <td>2.3</td>\n      <td>2.3</td>\n      <td>2.3</td>\n      <td>0.0</td>\n      <td>2.3</td>\n    </tr>\n    <tr>\n      <th>4</th>\n      <td>2.3</td>\n      <td>2.3</td>\n      <td>2.3</td>\n      <td>2.3</td>\n      <td>0.0</td>\n      <td>2.3</td>\n    </tr>\n    <tr>\n      <th>5</th>\n      <td>5.0</td>\n      <td>5.1</td>\n      <td>5.2</td>\n      <td>5.3</td>\n      <td>5.4</td>\n      <td>5.5</td>\n    </tr>\n    <tr>\n      <th>6</th>\n      <td>5.3</td>\n      <td>5.3</td>\n      <td>5.3</td>\n      <td>5.3</td>\n      <td>0.0</td>\n      <td>5.3</td>\n    </tr>\n  </tbody>\n</table>\n</div>"
     },
     "execution_count": 3,
     "metadata": {},
     "output_type": "execute_result"
    }
   ],
   "source": [
    "import numpy as np\n",
    "from glob import glob\n",
    "from tqdm import tqdm\n",
    "import pandas as pd\n",
    "\n",
    "\n",
    "def resample_df_ohlcv(df, timeframe, label='right'):\n",
    "    #df['vwap'] = df['vwap'] * df['volume']\n",
    "\n",
    "    # Created a dictionary to tell Pandas how to re-sample, if this isn't in place it will re-sample each column separately\n",
    "    ohlcv_dict = {'open':'first',\n",
    "                  'high':'max',\n",
    "                  'low':'min',\n",
    "                  'close': 'last',\n",
    "                  'volume': 'sum',\n",
    "                  'vwap': 'sum'}\n",
    "    # Resample to 15Min (this format is needed) as per ohlc_dict, then remove any line with a NaN\n",
    "    df = df.resample(timeframe, label=label, closed=label).agg(ohlcv_dict)\n",
    "\n",
    "    #df['vwap'] = df['vwap'] / df['volume']\n",
    "\n",
    "    #df = nans_to_prev_close_method1(df)\n",
    "    # Resample mixes the columns so lets re-arrange them\n",
    "    cols = ['open', 'high', 'low', 'close', 'vwap', 'volume']\n",
    "    df = df[cols]\n",
    "    return df\n",
    "\n",
    "\n",
    "def nans_to_prev_close_method1(df):\n",
    "    df['volume'].fillna(0.0, inplace=True)  # volume should always be 0 (if there were no trades in this interval)\n",
    "    df['close'].fillna(method='ffill', inplace=True)  # ie pull the last close into this close\n",
    "\n",
    "    # now copy the close that was pulled down from the last timestep into this row, across into o/h/l\n",
    "    df['open'].fillna(df['close'], inplace=True)\n",
    "    df['low'].fillna(df['close'], inplace=True)\n",
    "    df['high'].fillna(df['close'], inplace=True)\n",
    "    df['vwap'].fillna(df['close'], inplace=True)\n",
    "    return df\n",
    "\n",
    "data = {'open':  [np.nan, '1.0', '2.0', np.nan, np.nan, '5.0', np.nan],\n",
    "        'low':  [np.nan, '1.1', '2.1', np.nan, np.nan, '5.1', np.nan],\n",
    "        'high':  [np.nan, '1.2', np.nan, np.nan, np.nan, '5.2', np.nan],\n",
    "        'close':  [np.nan, '1.3', '2.3', np.nan, np.nan, '5.3', np.nan],\n",
    "        'volume':  [np.nan, '1.4', '2.4', np.nan, np.nan, '5.4', np.nan],\n",
    "        'vwap':  [np.nan, '1.5', '2.5', np.nan, np.nan, '5.5', np.nan],\n",
    "        }#%%\n",
    "\n",
    "nans_to_prev_close_method1(pd.DataFrame(data))\n"
   ],
   "metadata": {
    "collapsed": false,
    "pycharm": {
     "name": "#%%\n"
    }
   }
  },
  {
   "cell_type": "code",
   "execution_count": 4,
   "outputs": [
    {
     "name": "stdout",
     "output_type": "stream",
     "text": [
      "./data/raw/*/*_1d*\n",
      "['./data/raw/Binance/binance_BTCST_BUSD_1d.csv', './data/raw/Binance/binance_BTC_USDT_1d.csv', './data/raw/Binance/binance_LPT_USDT_1d.csv', './data/raw/Binance/binance_BNB_USDC_1d.csv', './data/raw/Binance/binance_AAVEDOWN_USDT_1d.csv', './data/raw/Binance/binance_GXS_USDT_1d.csv', './data/raw/Binance/binance_BTT_BUSD_1d.csv', './data/raw/Binance/binance_NMR_USDT_1d.csv', './data/raw/Binance/binance_BEL_USDT_1d.csv', './data/raw/Binance/binance_EOSBULL_USDT_1d.csv', './data/raw/Binance/binance_ETHBULL_BUSD_1d.csv', './data/raw/Binance/binance_TRB_USDT_1d.csv', './data/raw/Binance/binance_OGN_BUSD_1d.csv', './data/raw/Binance/binance_HARD_USDT_1d.csv', './data/raw/Binance/binance_TRX_USDC_1d.csv', './data/raw/Binance/binance_OM_USDT_1d.csv', './data/raw/Binance/binance_RARE_USDT_1d.csv', './data/raw/Binance/binance_RAD_BUSD_1d.csv', './data/raw/Binance/binance_LPT_BUSD_1d.csv', './data/raw/Binance/binance_CREAM_BUSD_1d.csv', './data/raw/Binance/binance_COS_USDT_1d.csv', './data/raw/Binance/binance_JST_USDT_1d.csv', './data/raw/Binance/binance_AUDIO_USDT_1d.csv', './data/raw/Binance/binance_GTC_USDT_1d.csv', './data/raw/Binance/binance_LTCDOWN_USDT_1d.csv', './data/raw/Binance/binance_MKR_USDT_1d.csv', './data/raw/Binance/binance_AVA_USDT_1d.csv', './data/raw/Binance/binance_BTS_BUSD_1d.csv', './data/raw/Binance/binance_SC_USDT_1d.csv', './data/raw/Binance/binance_BAL_USDT_1d.csv', './data/raw/Binance/binance_AKRO_USDT_1d.csv', './data/raw/Binance/binance_DOGE_USDC_1d.csv', './data/raw/Binance/binance_SLP_BUSD_1d.csv', './data/raw/Binance/binance_FARM_USDT_1d.csv', './data/raw/Binance/binance_WIN_BUSD_1d.csv', './data/raw/Binance/binance_BNBBULL_USDT_1d.csv', './data/raw/Binance/binance_WRX_BUSD_1d.csv', './data/raw/Binance/binance_SUSHI_BUSD_1d.csv', './data/raw/Binance/binance_SOL_USDT_1d.csv', './data/raw/Binance/binance_ORN_BUSD_1d.csv', './data/raw/Binance/binance_ERD_USDC_1d.csv', './data/raw/Binance/binance_KSM_BUSD_1d.csv', './data/raw/Binance/binance_DOTUP_USDT_1d.csv', './data/raw/Binance/binance_BTCUP_USDT_1d.csv', './data/raw/Binance/binance_NANO_USDT_1d.csv', './data/raw/Binance/binance_FRONT_USDT_1d.csv', './data/raw/Binance/binance_FORTH_USDT_1d.csv', './data/raw/Binance/binance_FIS_USDT_1d.csv', './data/raw/Binance/binance_DENT_USDT_1d.csv', './data/raw/Binance/binance_BCHDOWN_USDT_1d.csv', './data/raw/Binance/binance_XRP_USDT_1d.csv', './data/raw/Binance/binance_POND_BUSD_1d.csv', './data/raw/Binance/binance_EOSDOWN_USDT_1d.csv', './data/raw/Binance/binance_PAX_USDT_1d.csv', './data/raw/Binance/binance_XRPUP_USDT_1d.csv', './data/raw/Binance/binance_LINA_BUSD_1d.csv', './data/raw/Binance/binance_IOST_USDT_1d.csv', './data/raw/Binance/binance_SUN_BUSD_1d.csv', './data/raw/Binance/binance_ZIL_USDT_1d.csv', './data/raw/Binance/binance_XRPDOWN_USDT_1d.csv', './data/raw/Binance/binance_BEL_BUSD_1d.csv', './data/raw/Binance/binance_XMR_USDT_1d.csv', './data/raw/Binance/binance_ONG_USDT_1d.csv', './data/raw/Binance/binance_RAMP_BUSD_1d.csv', './data/raw/Binance/binance_FOR_BUSD_1d.csv', './data/raw/Binance/binance_DODO_BUSD_1d.csv', './data/raw/Binance/binance_XEM_USDT_1d.csv', './data/raw/Binance/binance_FET_USDT_1d.csv', './data/raw/Binance/binance_DYDX_USDT_1d.csv', './data/raw/Binance/binance_CHR_USDT_1d.csv', './data/raw/Binance/binance_CELR_USDT_1d.csv', './data/raw/Binance/binance_PHA_BUSD_1d.csv', './data/raw/Binance/binance_WIN_USDC_1d.csv', './data/raw/Binance/binance_C98_BUSD_1d.csv', './data/raw/Binance/binance_ZRX_BUSD_1d.csv', './data/raw/Binance/binance_INJ_USDT_1d.csv', './data/raw/Binance/binance_IOTA_BUSD_1d.csv', './data/raw/Binance/binance_FILUP_USDT_1d.csv', './data/raw/Binance/binance_HNT_BUSD_1d.csv', './data/raw/Binance/binance_TFUEL_USDT_1d.csv', './data/raw/Binance/binance_BURGER_USDT_1d.csv', './data/raw/Binance/binance_TVK_USDT_1d.csv', './data/raw/Binance/binance_OGN_USDT_1d.csv', './data/raw/Binance/binance_SXP_USDT_1d.csv', './data/raw/Binance/binance_BAT_USDT_1d.csv', './data/raw/Binance/binance_MBOX_BUSD_1d.csv', './data/raw/Binance/binance_ATOM_USDC_1d.csv', './data/raw/Binance/binance_REP_USDT_1d.csv', './data/raw/Binance/binance_CFX_USDT_1d.csv', './data/raw/Binance/binance_TRX_BUSD_1d.csv', './data/raw/Binance/binance_KNC_BUSD_1d.csv', './data/raw/Binance/binance_POND_USDT_1d.csv', './data/raw/Binance/binance_AGLD_BUSD_1d.csv', './data/raw/Binance/binance_JST_BUSD_1d.csv', './data/raw/Binance/binance_1INCHUP_USDT_1d.csv', './data/raw/Binance/binance_REN_USDT_1d.csv', './data/raw/Binance/binance_MINA_USDT_1d.csv', './data/raw/Binance/binance_BOND_BUSD_1d.csv', './data/raw/Binance/binance_BETA_BUSD_1d.csv', './data/raw/Binance/binance_XTZ_USDT_1d.csv', './data/raw/Binance/binance_RSR_USDT_1d.csv', './data/raw/Binance/binance_NBS_USDT_1d.csv', './data/raw/Binance/binance_COMP_BUSD_1d.csv', './data/raw/Binance/binance_SUN_USDT_1d.csv', './data/raw/Binance/binance_ARDR_USDT_1d.csv', './data/raw/Binance/binance_USDS_USDT_1d.csv', './data/raw/Binance/binance_XRP_USDC_1d.csv', './data/raw/Binance/binance_UTK_USDT_1d.csv', './data/raw/Binance/binance_UNIUP_USDT_1d.csv', './data/raw/Binance/binance_JUV_USDT_1d.csv', './data/raw/Binance/binance_PSG_USDT_1d.csv', './data/raw/Binance/binance_NEO_USDT_1d.csv', './data/raw/Binance/binance_DATA_USDT_1d.csv', './data/raw/Binance/binance_BTT_USDC_1d.csv', './data/raw/Binance/binance_ACM_BUSD_1d.csv', './data/raw/Binance/binance_ERN_BUSD_1d.csv', './data/raw/Binance/binance_STMX_USDT_1d.csv', './data/raw/Binance/binance_WAXP_BUSD_1d.csv', './data/raw/Binance/binance_SAND_USDT_1d.csv', './data/raw/Binance/binance_SXPDOWN_USDT_1d.csv', './data/raw/Binance/binance_VIDT_USDT_1d.csv', './data/raw/Binance/binance_DEXE_BUSD_1d.csv', './data/raw/Binance/binance_MIR_BUSD_1d.csv', './data/raw/Binance/binance_PAXG_USDT_1d.csv', './data/raw/Binance/binance_COVER_BUSD_1d.csv', './data/raw/Binance/binance_WAVES_USDT_1d.csv', './data/raw/Binance/binance_FIDA_USDT_1d.csv', './data/raw/Binance/binance_GRT_BUSD_1d.csv', './data/raw/Binance/binance_XRPBEAR_USDT_1d.csv', './data/raw/Binance/binance_BAT_USDC_1d.csv', './data/raw/Binance/binance_CVC_USDT_1d.csv', './data/raw/Binance/binance_RAY_USDT_1d.csv', './data/raw/Binance/binance_CRV_USDT_1d.csv', './data/raw/Binance/binance_EGLD_USDT_1d.csv', './data/raw/Binance/binance_TKO_USDT_1d.csv', './data/raw/Binance/binance_NU_BUSD_1d.csv', './data/raw/Binance/binance_BNT_BUSD_1d.csv', './data/raw/Binance/binance_ICX_USDT_1d.csv', './data/raw/Binance/binance_GALA_BUSD_1d.csv', './data/raw/Binance/binance_IQ_BUSD_1d.csv', './data/raw/Binance/binance_SUSHI_USDT_1d.csv', './data/raw/Binance/binance_MDX_USDT_1d.csv', './data/raw/Binance/binance_DASH_USDT_1d.csv', './data/raw/Binance/binance_TLM_USDT_1d.csv', './data/raw/Binance/binance_AUTO_BUSD_1d.csv', './data/raw/Binance/binance_LTCUP_USDT_1d.csv', './data/raw/Binance/binance_HARD_BUSD_1d.csv', './data/raw/Binance/binance_DOTDOWN_USDT_1d.csv', './data/raw/Binance/binance_NANO_BUSD_1d.csv', './data/raw/Binance/binance_BZRX_USDT_1d.csv', './data/raw/Binance/binance_EOS_USDT_1d.csv', './data/raw/Binance/binance_KEEP_USDT_1d.csv', './data/raw/Binance/binance_BCH_USDC_1d.csv', './data/raw/Binance/binance_UFT_BUSD_1d.csv', './data/raw/Binance/binance_BSV_USDC_1d.csv', './data/raw/Binance/binance_BTC_USDC_1d.csv', './data/raw/Binance/binance_LINKDOWN_USDT_1d.csv', './data/raw/Binance/binance_ONE_USDC_1d.csv', './data/raw/Binance/binance_RVN_USDT_1d.csv', './data/raw/Binance/binance_WTC_USDT_1d.csv', './data/raw/Binance/binance_XMR_BUSD_1d.csv', './data/raw/Binance/binance_STRAX_BUSD_1d.csv', './data/raw/Binance/binance_NEO_USDC_1d.csv', './data/raw/Binance/binance_SNX_BUSD_1d.csv', './data/raw/Binance/binance_ATM_USDT_1d.csv', './data/raw/Binance/binance_BEAR_USDT_1d.csv', './data/raw/Binance/binance_BIFI_BUSD_1d.csv', './data/raw/Binance/binance_UMA_USDT_1d.csv', './data/raw/Binance/binance_HOT_USDT_1d.csv', './data/raw/Binance/binance_XRPBEAR_BUSD_1d.csv', './data/raw/Binance/binance_MDT_USDT_1d.csv', './data/raw/Binance/binance_ADX_BUSD_1d.csv', './data/raw/Binance/binance_RARE_BUSD_1d.csv', './data/raw/Binance/binance_WING_BUSD_1d.csv', './data/raw/Binance/binance_ETHBEAR_BUSD_1d.csv', './data/raw/Binance/binance_BCH_BUSD_1d.csv', './data/raw/Binance/binance_QUICK_BUSD_1d.csv', './data/raw/Binance/binance_OCEAN_USDT_1d.csv', './data/raw/Binance/binance_REEF_BUSD_1d.csv', './data/raw/Binance/binance_OM_BUSD_1d.csv', './data/raw/Binance/binance_GHST_BUSD_1d.csv', './data/raw/Binance/binance_ETC_USDC_1d.csv', './data/raw/Binance/binance_SUSD_USDT_1d.csv', './data/raw/Binance/binance_TRIBE_BUSD_1d.csv', './data/raw/Binance/binance_UNFI_USDT_1d.csv', './data/raw/Binance/binance_CRV_BUSD_1d.csv', './data/raw/Binance/binance_BNB_BUSD_1d.csv', './data/raw/Binance/binance_KMD_USDT_1d.csv', './data/raw/Binance/binance_TRIBE_USDT_1d.csv', './data/raw/Binance/binance_KAVA_USDT_1d.csv', './data/raw/Binance/binance_UNFI_BUSD_1d.csv', './data/raw/Binance/binance_IOTX_USDT_1d.csv', './data/raw/Binance/binance_ILV_USDT_1d.csv', './data/raw/Binance/binance_SYS_USDT_1d.csv', './data/raw/Binance/binance_BCHUP_USDT_1d.csv', './data/raw/Binance/binance_OG_USDT_1d.csv', './data/raw/Binance/binance_BNBBEAR_USDT_1d.csv', './data/raw/Binance/binance_ADAUP_USDT_1d.csv', './data/raw/Binance/binance_FTM_BUSD_1d.csv', './data/raw/Binance/binance_TLM_BUSD_1d.csv', './data/raw/Binance/binance_XEC_BUSD_1d.csv', './data/raw/Binance/binance_UNIDOWN_USDT_1d.csv', './data/raw/Binance/binance_XLM_BUSD_1d.csv', './data/raw/Binance/binance_WAVES_USDC_1d.csv', './data/raw/Binance/binance_QNT_BUSD_1d.csv', './data/raw/Binance/binance_PNT_USDT_1d.csv', './data/raw/Binance/binance_MINA_BUSD_1d.csv', './data/raw/Binance/binance_FIDA_BUSD_1d.csv', './data/raw/Binance/binance_PROM_BUSD_1d.csv', './data/raw/Binance/binance_BTC_BUSD_1d.csv', './data/raw/Binance/binance_XEC_USDT_1d.csv', './data/raw/Binance/binance_INJ_BUSD_1d.csv', './data/raw/Binance/binance_LRC_USDT_1d.csv', './data/raw/Binance/binance_XRPBULL_BUSD_1d.csv', './data/raw/Binance/binance_USDSB_USDT_1d.csv', './data/raw/Binance/binance_DOT_BUSD_1d.csv', './data/raw/Binance/binance_AION_BUSD_1d.csv', './data/raw/Binance/binance_YFI_BUSD_1d.csv', './data/raw/Binance/binance_COTI_USDT_1d.csv', './data/raw/Binance/binance_TROY_USDT_1d.csv', './data/raw/Binance/binance_AAVE_BUSD_1d.csv', './data/raw/Binance/binance_1INCH_BUSD_1d.csv', './data/raw/Binance/binance_USDP_BUSD_1d.csv', './data/raw/Binance/binance_ETC_USDT_1d.csv', './data/raw/Binance/binance_ALGO_USDC_1d.csv', './data/raw/Binance/binance_EUR_USDT_1d.csv', './data/raw/Binance/binance_DCR_USDT_1d.csv', './data/raw/Binance/binance_GTO_USDT_1d.csv', './data/raw/Binance/binance_FLM_USDT_1d.csv', './data/raw/Binance/binance_PERL_USDT_1d.csv', './data/raw/Binance/binance_LRC_BUSD_1d.csv', './data/raw/Binance/binance_BAT_BUSD_1d.csv', './data/raw/Binance/binance_LUNA_USDT_1d.csv', './data/raw/Binance/binance_CELR_BUSD_1d.csv', './data/raw/Binance/binance_IOTX_BUSD_1d.csv', './data/raw/Binance/binance_GTC_BUSD_1d.csv', './data/raw/Binance/binance_DUSK_USDC_1d.csv', './data/raw/Binance/binance_WING_USDT_1d.csv', './data/raw/Binance/binance_ADA_USDC_1d.csv', './data/raw/Binance/binance_SC_BUSD_1d.csv', './data/raw/Binance/binance_ALPHA_USDT_1d.csv', './data/raw/Binance/binance_TOMO_USDC_1d.csv', './data/raw/Binance/binance_FIRO_USDT_1d.csv', './data/raw/Binance/binance_XTZDOWN_USDT_1d.csv', './data/raw/Binance/binance_BADGER_BUSD_1d.csv', './data/raw/Binance/binance_WNXM_BUSD_1d.csv', './data/raw/Binance/binance_OCEAN_BUSD_1d.csv', './data/raw/Binance/binance_LSK_USDT_1d.csv', './data/raw/Binance/binance_SFP_BUSD_1d.csv', './data/raw/Binance/binance_DCR_BUSD_1d.csv', './data/raw/Binance/binance_SUPER_BUSD_1d.csv', './data/raw/Binance/binance_LTC_USDT_1d.csv', './data/raw/Binance/binance_MBL_USDT_1d.csv', './data/raw/Binance/binance_XTZ_BUSD_1d.csv', './data/raw/Binance/binance_MTL_BUSD_1d.csv', './data/raw/Binance/binance_XLMUP_USDT_1d.csv', './data/raw/Binance/binance_POLS_BUSD_1d.csv', './data/raw/Binance/binance_BNBDOWN_USDT_1d.csv', './data/raw/Binance/binance_ACM_USDT_1d.csv', './data/raw/Binance/binance_ZEN_USDT_1d.csv', './data/raw/Binance/binance_BNBUP_USDT_1d.csv', './data/raw/Binance/binance_BURGER_BUSD_1d.csv', './data/raw/Binance/binance_STORJ_USDT_1d.csv', './data/raw/Binance/binance_SUPER_USDT_1d.csv', './data/raw/Binance/binance_SAND_BUSD_1d.csv', './data/raw/Binance/binance_RSR_BUSD_1d.csv', './data/raw/Binance/binance_FET_BUSD_1d.csv', './data/raw/Binance/binance_DOT_USDT_1d.csv', './data/raw/Binance/binance_XRP_BUSD_1d.csv', './data/raw/Binance/binance_SKL_USDT_1d.csv', './data/raw/Binance/binance_FTM_USDT_1d.csv', './data/raw/Binance/binance_FLM_BUSD_1d.csv', './data/raw/Binance/binance_SUSHIDOWN_USDT_1d.csv', './data/raw/Binance/binance_ICX_BUSD_1d.csv', './data/raw/Binance/binance_ETHBEAR_USDT_1d.csv', './data/raw/Binance/binance_QNT_USDT_1d.csv', './data/raw/Binance/binance_UNI_USDT_1d.csv', './data/raw/Binance/binance_BKRW_BUSD_1d.csv', './data/raw/Binance/binance_SYS_BUSD_1d.csv', './data/raw/Binance/binance_CTSI_USDT_1d.csv', './data/raw/Binance/binance_RUNE_BUSD_1d.csv', './data/raw/Binance/binance_WNXM_USDT_1d.csv', './data/raw/Binance/binance_ZEC_USDT_1d.csv', './data/raw/Binance/binance_TRU_USDT_1d.csv', './data/raw/Binance/binance_CVP_USDT_1d.csv', './data/raw/Binance/binance_BNBBULL_BUSD_1d.csv', './data/raw/Binance/binance_REP_BUSD_1d.csv', './data/raw/Binance/binance_BAND_USDT_1d.csv', './data/raw/Binance/binance_TWT_USDT_1d.csv', './data/raw/Binance/binance_DEGO_BUSD_1d.csv', './data/raw/Binance/binance_PHA_USDT_1d.csv', './data/raw/Binance/binance_YFII_BUSD_1d.csv', './data/raw/Binance/binance_LTO_USDT_1d.csv', './data/raw/Binance/binance_HBAR_BUSD_1d.csv', './data/raw/Binance/binance_FILDOWN_USDT_1d.csv', './data/raw/Binance/binance_SXPUP_USDT_1d.csv', './data/raw/Binance/binance_NMR_BUSD_1d.csv', './data/raw/Binance/binance_LEND_USDT_1d.csv', './data/raw/Binance/binance_PAX_BUSD_1d.csv', './data/raw/Binance/binance_DAI_BUSD_1d.csv', './data/raw/Binance/binance_FOR_USDT_1d.csv', './data/raw/Binance/binance_VITE_USDT_1d.csv', './data/raw/Binance/binance_KEEP_BUSD_1d.csv', './data/raw/Binance/binance_PUNDIX_USDT_1d.csv', './data/raw/Binance/binance_FUN_USDT_1d.csv', './data/raw/Binance/binance_DF_BUSD_1d.csv', './data/raw/Binance/binance_VIDT_BUSD_1d.csv', './data/raw/Binance/binance_MATIC_BUSD_1d.csv', './data/raw/Binance/binance_PERP_BUSD_1d.csv', './data/raw/Binance/binance_DIA_USDT_1d.csv', './data/raw/Binance/binance_HNT_USDT_1d.csv', './data/raw/Binance/binance_ALGO_BUSD_1d.csv', './data/raw/Binance/binance_IDEX_BUSD_1d.csv', './data/raw/Binance/binance_ATM_BUSD_1d.csv', './data/raw/Binance/binance_STRAX_USDT_1d.csv', './data/raw/Binance/binance_MCO_USDT_1d.csv', './data/raw/Binance/binance_BTT_USDT_1d.csv', './data/raw/Binance/binance_STMX_BUSD_1d.csv', './data/raw/Binance/binance_REQ_USDT_1d.csv', './data/raw/Binance/binance_BTG_BUSD_1d.csv', './data/raw/Binance/binance_RAY_BUSD_1d.csv', './data/raw/Binance/binance_LINK_USDC_1d.csv', './data/raw/Binance/binance_BEAM_USDT_1d.csv', './data/raw/Binance/binance_AR_BUSD_1d.csv', './data/raw/Binance/binance_DEXE_USDT_1d.csv', './data/raw/Binance/binance_EOSBULL_BUSD_1d.csv', './data/raw/Binance/binance_BOT_BUSD_1d.csv', './data/raw/Binance/binance_BTG_USDT_1d.csv', './data/raw/Binance/binance_XEM_BUSD_1d.csv', './data/raw/Binance/binance_COMP_USDT_1d.csv', './data/raw/Binance/binance_LEND_BUSD_1d.csv', './data/raw/Binance/binance_DNT_USDT_1d.csv', './data/raw/Binance/binance_ALGO_USDT_1d.csv', './data/raw/Binance/binance_COTI_BUSD_1d.csv', './data/raw/Binance/binance_DOGE_BUSD_1d.csv', './data/raw/Binance/binance_ILV_BUSD_1d.csv', './data/raw/Binance/binance_AGLD_USDT_1d.csv', './data/raw/Binance/binance_OXT_USDT_1d.csv', './data/raw/Binance/binance_DNT_BUSD_1d.csv', './data/raw/Binance/binance_BLZ_USDT_1d.csv', './data/raw/Binance/binance_EOS_BUSD_1d.csv', './data/raw/Binance/binance_USDS_USDC_1d.csv', './data/raw/Binance/binance_BAKE_USDT_1d.csv', './data/raw/Binance/binance_CAKE_BUSD_1d.csv', './data/raw/Binance/binance_CFX_BUSD_1d.csv', './data/raw/Binance/binance_MASK_BUSD_1d.csv', './data/raw/Binance/binance_RLC_BUSD_1d.csv', './data/raw/Binance/binance_USDC_USDT_1d.csv', './data/raw/Binance/binance_IDEX_USDT_1d.csv', './data/raw/Binance/binance_ATOM_USDT_1d.csv', './data/raw/Binance/binance_MLN_USDT_1d.csv', './data/raw/Binance/binance_TRB_BUSD_1d.csv', './data/raw/Binance/binance_SHIB_BUSD_1d.csv', './data/raw/Binance/binance_TFUEL_USDC_1d.csv', './data/raw/Binance/binance_DGB_BUSD_1d.csv', './data/raw/Binance/binance_ONE_USDT_1d.csv', './data/raw/Binance/binance_IOST_BUSD_1d.csv', './data/raw/Binance/binance_FIL_USDT_1d.csv', './data/raw/Binance/binance_CLV_USDT_1d.csv', './data/raw/Binance/binance_DF_USDT_1d.csv', './data/raw/Binance/binance_ERD_USDT_1d.csv', './data/raw/Binance/binance_TORN_USDT_1d.csv', './data/raw/Binance/binance_PSG_BUSD_1d.csv', './data/raw/Binance/binance_XVS_BUSD_1d.csv', './data/raw/Binance/binance_COCOS_USDT_1d.csv', './data/raw/Binance/binance_SOL_USDC_1d.csv', './data/raw/Binance/binance_GHST_USDT_1d.csv', './data/raw/Binance/binance_GBP_BUSD_1d.csv', './data/raw/Binance/binance_BKRW_USDT_1d.csv', './data/raw/Binance/binance_QTUM_USDT_1d.csv', './data/raw/Binance/binance_BNT_USDT_1d.csv', './data/raw/Binance/binance_FLOW_BUSD_1d.csv', './data/raw/Binance/binance_HOT_BUSD_1d.csv', './data/raw/Binance/binance_LINK_BUSD_1d.csv', './data/raw/Binance/binance_BCHA_BUSD_1d.csv', './data/raw/Binance/binance_FTT_USDT_1d.csv', './data/raw/Binance/binance_LINA_USDT_1d.csv', './data/raw/Binance/binance_PERP_USDT_1d.csv', './data/raw/Binance/binance_TCT_USDT_1d.csv', './data/raw/Binance/binance_STX_BUSD_1d.csv', './data/raw/Binance/binance_DENT_BUSD_1d.csv', './data/raw/Binance/binance_ETHBULL_USDT_1d.csv', './data/raw/Binance/binance_ICP_USDT_1d.csv', './data/raw/Binance/binance_POLY_USDT_1d.csv', './data/raw/Binance/binance_AUDIO_BUSD_1d.csv', './data/raw/Binance/binance_ATOM_BUSD_1d.csv', './data/raw/Binance/binance_BZRX_BUSD_1d.csv', './data/raw/Binance/binance_LTC_USDC_1d.csv', './data/raw/Binance/binance_TKO_BUSD_1d.csv', './data/raw/Binance/binance_DOGE_USDT_1d.csv', './data/raw/Binance/binance_UTK_BUSD_1d.csv', './data/raw/Binance/binance_LINK_USDT_1d.csv', './data/raw/Binance/binance_THETA_BUSD_1d.csv', './data/raw/Binance/binance_XZC_USDT_1d.csv', './data/raw/Binance/binance_IRIS_BUSD_1d.csv', './data/raw/Binance/binance_EGLD_BUSD_1d.csv', './data/raw/Binance/binance_MFT_USDT_1d.csv', './data/raw/Binance/binance_ANKR_USDT_1d.csv', './data/raw/Binance/binance_NPXS_USDC_1d.csv', './data/raw/Binance/binance_KLAY_USDT_1d.csv', './data/raw/Binance/binance_FIS_BUSD_1d.csv', './data/raw/Binance/binance_ASR_USDT_1d.csv', './data/raw/Binance/binance_BEAR_BUSD_1d.csv', './data/raw/Binance/binance_KP3R_BUSD_1d.csv', './data/raw/Binance/binance_ALPACA_BUSD_1d.csv', './data/raw/Binance/binance_NULS_USDT_1d.csv', './data/raw/Binance/binance_ETH_BUSD_1d.csv', './data/raw/Binance/binance_POLS_USDT_1d.csv', './data/raw/Binance/binance_EPS_USDT_1d.csv', './data/raw/Binance/binance_STPT_BUSD_1d.csv', './data/raw/Binance/binance_GTO_USDC_1d.csv', './data/raw/Binance/binance_CLV_BUSD_1d.csv', './data/raw/Binance/binance_ZEC_USDC_1d.csv', './data/raw/Binance/binance_NKN_USDT_1d.csv', './data/raw/Binance/binance_MANA_USDT_1d.csv', './data/raw/Binance/binance_XTZUP_USDT_1d.csv', './data/raw/Binance/binance_LINKUP_USDT_1d.csv', './data/raw/Binance/binance_AAVEUP_USDT_1d.csv', './data/raw/Binance/binance_TRX_USDT_1d.csv', './data/raw/Binance/binance_YFI_USDT_1d.csv', './data/raw/Binance/binance_FIO_BUSD_1d.csv', './data/raw/Binance/binance_ERD_BUSD_1d.csv', './data/raw/Binance/binance_ZRX_USDT_1d.csv', './data/raw/Binance/binance_ETH_USDC_1d.csv', './data/raw/Binance/binance_BUSD_USDT_1d.csv', './data/raw/Binance/binance_DAI_USDT_1d.csv', './data/raw/Binance/binance_ATA_BUSD_1d.csv', './data/raw/Binance/binance_TWT_BUSD_1d.csv', './data/raw/Binance/binance_DATA_BUSD_1d.csv', './data/raw/Binance/binance_FIO_USDT_1d.csv', './data/raw/Binance/binance_BAL_BUSD_1d.csv', './data/raw/Binance/binance_EUR_BUSD_1d.csv', './data/raw/Binance/binance_BULL_USDT_1d.csv', './data/raw/Binance/binance_AVA_BUSD_1d.csv', './data/raw/Binance/binance_BGBP_USDC_1d.csv', './data/raw/Binance/binance_SXP_BUSD_1d.csv', './data/raw/Binance/binance_GALA_USDT_1d.csv', './data/raw/Binance/binance_AAVE_USDT_1d.csv', './data/raw/Binance/binance_BOND_USDT_1d.csv', './data/raw/Binance/binance_AVAX_BUSD_1d.csv', './data/raw/Binance/binance_QTUM_BUSD_1d.csv', './data/raw/Binance/binance_DODO_USDT_1d.csv', './data/raw/Binance/binance_NU_USDT_1d.csv', './data/raw/Binance/binance_BCPT_USDC_1d.csv', './data/raw/Binance/binance_FLOW_USDT_1d.csv', './data/raw/Binance/binance_TOMO_USDT_1d.csv', './data/raw/Binance/binance_ELF_BUSD_1d.csv', './data/raw/Binance/binance_AR_USDT_1d.csv', './data/raw/Binance/binance_MATIC_USDT_1d.csv', './data/raw/Binance/binance_AXS_BUSD_1d.csv', './data/raw/Binance/binance_SKL_BUSD_1d.csv', './data/raw/Binance/binance_CHZ_USDT_1d.csv', './data/raw/Binance/binance_BNBBEAR_BUSD_1d.csv', './data/raw/Binance/binance_CHZ_BUSD_1d.csv', './data/raw/Binance/binance_ATA_USDT_1d.csv', './data/raw/Binance/binance_CTK_USDT_1d.csv', './data/raw/Binance/binance_IOTA_USDT_1d.csv', './data/raw/Binance/binance_IRIS_USDT_1d.csv', './data/raw/Binance/binance_DOCK_USDT_1d.csv', './data/raw/Binance/binance_TRXDOWN_USDT_1d.csv', './data/raw/Binance/binance_FXS_BUSD_1d.csv', './data/raw/Binance/binance_ENJ_USDT_1d.csv', './data/raw/Binance/binance_XVG_USDT_1d.csv', './data/raw/Binance/binance_AVAX_USDT_1d.csv', './data/raw/Binance/binance_RIF_USDT_1d.csv', './data/raw/Binance/binance_BTCDOWN_USDT_1d.csv', './data/raw/Binance/binance_KNC_USDT_1d.csv', './data/raw/Binance/binance_AUCTION_BUSD_1d.csv', './data/raw/Binance/binance_MITH_USDT_1d.csv', './data/raw/Binance/binance_LTO_BUSD_1d.csv', './data/raw/Binance/binance_BCC_USDT_1d.csv', './data/raw/Binance/binance_FTM_USDC_1d.csv', './data/raw/Binance/binance_BTCST_USDT_1d.csv', './data/raw/Binance/binance_KAVA_BUSD_1d.csv', './data/raw/Binance/binance_AXS_USDT_1d.csv', './data/raw/Binance/binance_ONT_USDC_1d.csv', './data/raw/Binance/binance_KLAY_BUSD_1d.csv', './data/raw/Binance/binance_HEGIC_BUSD_1d.csv', './data/raw/Binance/binance_TRXUP_USDT_1d.csv', './data/raw/Binance/binance_YFII_USDT_1d.csv', './data/raw/Binance/binance_ZEN_BUSD_1d.csv', './data/raw/Binance/binance_BETA_USDT_1d.csv', './data/raw/Binance/binance_VEN_USDT_1d.csv', './data/raw/Binance/binance_FORTH_BUSD_1d.csv', './data/raw/Binance/binance_RUNE_USDT_1d.csv', './data/raw/Binance/binance_RVN_BUSD_1d.csv', './data/raw/Binance/binance_REEF_USDT_1d.csv', './data/raw/Binance/binance_RAMP_USDT_1d.csv', './data/raw/Binance/binance_TOMO_BUSD_1d.csv', './data/raw/Binance/binance_ONT_USDT_1d.csv', './data/raw/Binance/binance_TORN_BUSD_1d.csv', './data/raw/Binance/binance_XVS_USDT_1d.csv', './data/raw/Binance/binance_BTS_USDT_1d.csv', './data/raw/Binance/binance_THETA_USDT_1d.csv', './data/raw/Binance/binance_NEAR_USDT_1d.csv', './data/raw/Binance/binance_STRAT_USDT_1d.csv', './data/raw/Binance/binance_ADA_USDT_1d.csv', './data/raw/Binance/binance_ADA_BUSD_1d.csv', './data/raw/Binance/binance_EOSBEAR_USDT_1d.csv', './data/raw/Binance/binance_NEO_BUSD_1d.csv', './data/raw/Binance/binance_XLMDOWN_USDT_1d.csv', './data/raw/Binance/binance_RLC_USDT_1d.csv', './data/raw/Binance/binance_ELF_USDT_1d.csv', './data/raw/Binance/binance_BLZ_BUSD_1d.csv', './data/raw/Binance/binance_TVK_BUSD_1d.csv', './data/raw/Binance/binance_KMD_BUSD_1d.csv', './data/raw/Binance/binance_CVP_BUSD_1d.csv', './data/raw/Binance/binance_GNO_BUSD_1d.csv', './data/raw/Binance/binance_CAKE_USDT_1d.csv', './data/raw/Binance/binance_SRM_USDT_1d.csv', './data/raw/Binance/binance_LIT_BUSD_1d.csv', './data/raw/Binance/binance_WIN_USDT_1d.csv', './data/raw/Binance/binance_PHB_USDC_1d.csv', './data/raw/Binance/binance_ETC_BUSD_1d.csv', './data/raw/Binance/binance_FIL_BUSD_1d.csv', './data/raw/Binance/binance_BAR_USDT_1d.csv', './data/raw/Binance/binance_XRPBULL_USDT_1d.csv', './data/raw/Binance/binance_PERL_USDC_1d.csv', './data/raw/Binance/binance_ANKR_USDC_1d.csv', './data/raw/Binance/binance_ROSE_BUSD_1d.csv', './data/raw/Binance/binance_ADADOWN_USDT_1d.csv', './data/raw/Binance/binance_CTXC_USDT_1d.csv', './data/raw/Binance/binance_CELO_USDT_1d.csv', './data/raw/Binance/binance_ARPA_BUSD_1d.csv', './data/raw/Binance/binance_REN_BUSD_1d.csv', './data/raw/Binance/binance_ORN_USDT_1d.csv', './data/raw/Binance/binance_BULL_BUSD_1d.csv', './data/raw/Binance/binance_NPXS_USDT_1d.csv', './data/raw/Binance/binance_STPT_USDT_1d.csv', './data/raw/Binance/binance_BCH_USDT_1d.csv', './data/raw/Binance/binance_MDX_BUSD_1d.csv', './data/raw/Binance/binance_EOSUP_USDT_1d.csv', './data/raw/Binance/binance_NEAR_BUSD_1d.csv', './data/raw/Binance/binance_1INCHDOWN_USDT_1d.csv', './data/raw/Binance/binance_TUSD_USDT_1d.csv', './data/raw/Binance/binance_ICP_BUSD_1d.csv', './data/raw/Binance/binance_ERN_USDT_1d.csv', './data/raw/Binance/binance_ETHDOWN_USDT_1d.csv', './data/raw/Binance/binance_1INCH_USDT_1d.csv', './data/raw/Binance/binance_FRONT_BUSD_1d.csv', './data/raw/Binance/binance_ONT_BUSD_1d.csv', './data/raw/Binance/binance_SFP_USDT_1d.csv', './data/raw/Binance/binance_UNI_BUSD_1d.csv', './data/raw/Binance/binance_TRU_BUSD_1d.csv', './data/raw/Binance/binance_MBOX_USDT_1d.csv', './data/raw/Binance/binance_DOCK_BUSD_1d.csv', './data/raw/Binance/binance_AUD_BUSD_1d.csv', './data/raw/Binance/binance_XLM_USDT_1d.csv', './data/raw/Binance/binance_VTHO_BUSD_1d.csv', './data/raw/Binance/binance_PAXG_BUSD_1d.csv', './data/raw/Binance/binance_HIVE_USDT_1d.csv', './data/raw/Binance/binance_ZIL_BUSD_1d.csv', './data/raw/Binance/binance_YFIUP_USDT_1d.csv', './data/raw/Binance/binance_BAKE_BUSD_1d.csv', './data/raw/Binance/binance_KEY_USDT_1d.csv', './data/raw/Binance/binance_SWRV_BUSD_1d.csv', './data/raw/Binance/binance_ENJ_BUSD_1d.csv', './data/raw/Binance/binance_XVG_BUSD_1d.csv', './data/raw/Binance/binance_CTK_BUSD_1d.csv', './data/raw/Binance/binance_SRM_BUSD_1d.csv', './data/raw/Binance/binance_DUSK_USDT_1d.csv', './data/raw/Binance/binance_SHIB_USDT_1d.csv', './data/raw/Binance/binance_DGB_USDT_1d.csv', './data/raw/Binance/binance_C98_USDT_1d.csv', './data/raw/Binance/binance_DYDX_BUSD_1d.csv', './data/raw/Binance/binance_GBP_USDT_1d.csv', './data/raw/Binance/binance_YFIDOWN_USDT_1d.csv', './data/raw/Binance/binance_ANT_BUSD_1d.csv', './data/raw/Binance/binance_WAN_USDT_1d.csv', './data/raw/Binance/binance_SLP_USDT_1d.csv', './data/raw/Binance/binance_SNX_USDT_1d.csv', './data/raw/Binance/binance_STORM_USDT_1d.csv', './data/raw/Binance/binance_WAVES_BUSD_1d.csv', './data/raw/Binance/binance_GRT_USDT_1d.csv', './data/raw/Binance/binance_MTL_USDT_1d.csv', './data/raw/Binance/binance_VET_BUSD_1d.csv', './data/raw/Binance/binance_VET_USDT_1d.csv', './data/raw/Binance/binance_ARPA_USDT_1d.csv', './data/raw/Binance/binance_USDC_BUSD_1d.csv', './data/raw/Binance/binance_ALICE_BUSD_1d.csv', './data/raw/Binance/binance_HC_USDT_1d.csv', './data/raw/Binance/binance_FTT_BUSD_1d.csv', './data/raw/Binance/binance_ETHUP_USDT_1d.csv', './data/raw/Binance/binance_ALPACA_USDT_1d.csv', './data/raw/Binance/binance_HBAR_USDT_1d.csv', './data/raw/Binance/binance_SOL_BUSD_1d.csv', './data/raw/Binance/binance_ALPHA_BUSD_1d.csv', './data/raw/Binance/binance_EPS_BUSD_1d.csv', './data/raw/Binance/binance_MKR_BUSD_1d.csv', './data/raw/Binance/binance_HIVE_BUSD_1d.csv', './data/raw/Binance/binance_DREP_USDT_1d.csv', './data/raw/Binance/binance_ETH_USDT_1d.csv', './data/raw/Binance/binance_RAD_USDT_1d.csv', './data/raw/Binance/binance_LTC_BUSD_1d.csv', './data/raw/Binance/binance_MASK_USDT_1d.csv', './data/raw/Binance/binance_AION_USDT_1d.csv', './data/raw/Binance/binance_AERGO_BUSD_1d.csv', './data/raw/Binance/binance_ONE_BUSD_1d.csv', './data/raw/Binance/binance_LUNA_BUSD_1d.csv', './data/raw/Binance/binance_KSM_USDT_1d.csv', './data/raw/Binance/binance_DIA_BUSD_1d.csv', './data/raw/Binance/binance_OMG_BUSD_1d.csv', './data/raw/Binance/binance_LIT_USDT_1d.csv', './data/raw/Binance/binance_YGG_BUSD_1d.csv', './data/raw/Binance/binance_BAR_BUSD_1d.csv', './data/raw/Binance/binance_XLM_USDC_1d.csv', './data/raw/Binance/binance_CTSI_BUSD_1d.csv', './data/raw/Binance/binance_BAND_BUSD_1d.csv', './data/raw/Binance/binance_DEGO_USDT_1d.csv', './data/raw/Binance/binance_CHR_BUSD_1d.csv', './data/raw/Binance/binance_BNB_USDT_1d.csv', './data/raw/Binance/binance_ALICE_USDT_1d.csv', './data/raw/Binance/binance_CKB_BUSD_1d.csv', './data/raw/Binance/binance_ANT_USDT_1d.csv', './data/raw/Binance/binance_MLN_BUSD_1d.csv', './data/raw/Binance/binance_MIR_USDT_1d.csv', './data/raw/Binance/binance_EOS_USDC_1d.csv', './data/raw/Binance/binance_EOSBEAR_BUSD_1d.csv', './data/raw/Binance/binance_MANA_BUSD_1d.csv', './data/raw/Binance/binance_CKB_USDT_1d.csv', './data/raw/Binance/binance_TUSD_BUSD_1d.csv', './data/raw/Binance/binance_AUD_USDT_1d.csv', './data/raw/Binance/binance_FARM_BUSD_1d.csv', './data/raw/Binance/binance_DASH_BUSD_1d.csv', './data/raw/Binance/binance_ROSE_USDT_1d.csv', './data/raw/Binance/binance_LSK_BUSD_1d.csv', './data/raw/Binance/binance_BADGER_USDT_1d.csv', './data/raw/Binance/binance_YGG_USDT_1d.csv', './data/raw/Binance/binance_OMG_USDT_1d.csv', './data/raw/Binance/binance_STORJ_BUSD_1d.csv', './data/raw/Binance/binance_STX_USDT_1d.csv', './data/raw/Binance/binance_WAXP_USDT_1d.csv', './data/raw/Binance/binance_USDP_USDT_1d.csv', './data/raw/Binance/binance_BSV_USDT_1d.csv', './data/raw/Binance/binance_POLY_BUSD_1d.csv', './data/raw/Binance/binance_STRAT_BUSD_1d.csv', './data/raw/Binance/binance_WRX_USDT_1d.csv', './data/raw/Binance/binance_VTHO_USDT_1d.csv', './data/raw/Binance/binance_JUV_BUSD_1d.csv', './data/raw/Binance/binance_ZEC_BUSD_1d.csv', './data/raw/Binance/binance_GNO_USDT_1d.csv', './data/raw/Binance/binance_SUSHIUP_USDT_1d.csv', './data/raw/Binance/binance_QUICK_USDT_1d.csv', './data/raw/Binance/binance_AUTO_USDT_1d.csv', './data/raw/Bitfinex/bitfinex_PAX_USD_1d.csv', './data/raw/Bitfinex/bitfinex_KSM_USDT_1d.csv', './data/raw/Bitfinex/bitfinex_FORTH_USD_1d.csv', './data/raw/Bitfinex/bitfinex_DOT_USDT_1d.csv', './data/raw/Bitfinex/bitfinex_USDT_USD_1d.csv', './data/raw/Bitfinex/bitfinex_SOL_USD_1d.csv', './data/raw/Bitfinex/bitfinex_EXO_USD_1d.csv', './data/raw/Bitfinex/bitfinex_CLO_USD_1d.csv', './data/raw/Bitfinex/bitfinex_GRT_USD_1d.csv', './data/raw/Bitfinex/bitfinex_CEL_USD_1d.csv', './data/raw/Bitfinex/bitfinex_FIL_USD_1d.csv', './data/raw/Bitfinex/bitfinex_FTM_USD_1d.csv', './data/raw/Bitfinex/bitfinex_EOSDT_USDT_1d.csv', './data/raw/Bitfinex/bitfinex_BFT_USD_1d.csv', './data/raw/Bitfinex/bitfinex_UNI_USDT_1d.csv', './data/raw/Bitfinex/bitfinex_DGB_USD_1d.csv', './data/raw/Bitfinex/bitfinex_GRT_USDT_1d.csv', './data/raw/Bitfinex/bitfinex_CHEX_USD_1d.csv', './data/raw/Bitfinex/bitfinex_HEZ_USD_1d.csv', './data/raw/Bitfinex/bitfinex_ICP_USDT_1d.csv', './data/raw/Bitfinex/bitfinex_SNT_USD_1d.csv', './data/raw/Bitfinex/bitfinex_BSV_USD_1d.csv', './data/raw/Bitfinex/bitfinex_FCL_USDT_1d.csv', './data/raw/Bitfinex/bitfinex_UOS_USD_1d.csv', './data/raw/Bitfinex/bitfinex_GNO_USD_1d.csv', './data/raw/Bitfinex/bitfinex_ETP_USD_1d.csv', './data/raw/Bitfinex/bitfinex_SUSHI_USD_1d.csv', './data/raw/Bitfinex/bitfinex_NEAR_USDT_1d.csv', './data/raw/Bitfinex/bitfinex_PLU_USD_1d.csv', './data/raw/Bitfinex/bitfinex_EUR_USDT_1d.csv', './data/raw/Bitfinex/bitfinex_NEO_USD_1d.csv', './data/raw/Bitfinex/bitfinex_HMT_USDT_1d.csv', './data/raw/Bitfinex/bitfinex_SUN_USD_1d.csv', './data/raw/Bitfinex/bitfinex_UOP_USDT_1d.csv', './data/raw/Bitfinex/bitfinex_TUSD_USD_1d.csv', './data/raw/Bitfinex/bitfinex_ETH_USD_1d.csv', './data/raw/Bitfinex/bitfinex_LYM_USD_1d.csv', './data/raw/Bitfinex/bitfinex_TUSD_USDT_1d.csv', './data/raw/Bitfinex/bitfinex_UST_USDT_1d.csv', './data/raw/Bitfinex/bitfinex_NEO_USDT_1d.csv', './data/raw/Bitfinex/bitfinex_XSN_USD_1d.csv', './data/raw/Bitfinex/bitfinex_COMP_USDT_1d.csv', './data/raw/Bitfinex/bitfinex_ETH2X_USDT_1d.csv', './data/raw/Bitfinex/bitfinex_EOS_USD_1d.csv', './data/raw/Bitfinex/bitfinex_JST_USDT_1d.csv', './data/raw/Bitfinex/bitfinex_QTF_USD_1d.csv', './data/raw/Bitfinex/bitfinex_ICE_USD_1d.csv', './data/raw/Bitfinex/bitfinex_BOSON_USDT_1d.csv', './data/raw/Bitfinex/bitfinex_ADA_USDT_1d.csv', './data/raw/Bitfinex/bitfinex_MIR_USD_1d.csv', './data/raw/Bitfinex/bitfinex_ALGO_USDT_1d.csv', './data/raw/Bitfinex/bitfinex_FTT_USD_1d.csv', './data/raw/Bitfinex/bitfinex_ROSE_USD_1d.csv', './data/raw/Bitfinex/bitfinex_XAUT_USDT_1d.csv', './data/raw/Bitfinex/bitfinex_UOP_USD_1d.csv', './data/raw/Bitfinex/bitfinex_BOSON_USD_1d.csv', './data/raw/Bitfinex/bitfinex_CTK_USDT_1d.csv', './data/raw/Bitfinex/bitfinex_LTC_USD_1d.csv', './data/raw/Bitfinex/bitfinex_ATOM_USD_1d.csv', './data/raw/Bitfinex/bitfinex_WAXP_USD_1d.csv', './data/raw/Bitfinex/bitfinex_OXY_USDT_1d.csv', './data/raw/Bitfinex/bitfinex_FTM_USDT_1d.csv', './data/raw/Bitfinex/bitfinex_AAVE_USDT_1d.csv', './data/raw/Bitfinex/bitfinex_YFI_USD_1d.csv', './data/raw/Bitfinex/bitfinex_IOTA_USD_1d.csv', './data/raw/Bitfinex/bitfinex_QASH_USD_1d.csv', './data/raw/Bitfinex/bitfinex_BAND_USDT_1d.csv', './data/raw/Bitfinex/bitfinex_OXY_USD_1d.csv', './data/raw/Bitfinex/bitfinex_FET_USDT_1d.csv', './data/raw/Bitfinex/bitfinex_PLANETS_USD_1d.csv', './data/raw/Bitfinex/bitfinex_GNT_USD_1d.csv', './data/raw/Bitfinex/bitfinex_DASH_USD_1d.csv', './data/raw/Bitfinex/bitfinex_BNT_USD_1d.csv', './data/raw/Bitfinex/bitfinex_BAL_USDT_1d.csv', './data/raw/Bitfinex/bitfinex_ALBT_USDT_1d.csv', './data/raw/Bitfinex/bitfinex_XRP_USDT_1d.csv', './data/raw/Bitfinex/bitfinex_DUSK_USD_1d.csv', './data/raw/Bitfinex/bitfinex_ATOM_USDT_1d.csv', './data/raw/Bitfinex/bitfinex_ALBT_USD_1d.csv', './data/raw/Bitfinex/bitfinex_ROSE_USDT_1d.csv', './data/raw/Bitfinex/bitfinex_IDX_USD_1d.csv', './data/raw/Bitfinex/bitfinex_SNX_USD_1d.csv', './data/raw/Bitfinex/bitfinex_SUSHI_USDT_1d.csv', './data/raw/Bitfinex/bitfinex_FORTH_USDT_1d.csv', './data/raw/Bitfinex/bitfinex_BCH_USD_1d.csv', './data/raw/Bitfinex/bitfinex_USDC_USDT_1d.csv', './data/raw/Bitfinex/bitfinex_OMG_USD_1d.csv', './data/raw/Bitfinex/bitfinex_FIL_USDT_1d.csv', './data/raw/Bitfinex/bitfinex_MATIC_USDT_1d.csv', './data/raw/Bitfinex/bitfinex_XDC_USDT_1d.csv', './data/raw/Bitfinex/bitfinex_MATIC_USD_1d.csv', './data/raw/Bitfinex/bitfinex_LTC_USDT_1d.csv', './data/raw/Bitfinex/bitfinex_ESS_USD_1d.csv', './data/raw/Bitfinex/bitfinex_ZEC_USD_1d.csv', './data/raw/Bitfinex/bitfinex_HMT_USD_1d.csv', './data/raw/Bitfinex/bitfinex_MDOGE_USDT_1d.csv', './data/raw/Bitfinex/bitfinex_VELO_USDT_1d.csv', './data/raw/Bitfinex/bitfinex_AVAX_USD_1d.csv', './data/raw/Bitfinex/bitfinex_WAVES_USDT_1d.csv', './data/raw/Bitfinex/bitfinex_XLM_USDT_1d.csv', './data/raw/Bitfinex/bitfinex_REP_USD_1d.csv', './data/raw/Bitfinex/bitfinex_XMR_USDT_1d.csv', './data/raw/Bitfinex/bitfinex_VEE_USD_1d.csv', './data/raw/Bitfinex/bitfinex_EURS_USD_1d.csv', './data/raw/Bitfinex/bitfinex_DATA_USD_1d.csv', './data/raw/Bitfinex/bitfinex_SUKU_USD_1d.csv', './data/raw/Bitfinex/bitfinex_LRC_USD_1d.csv', './data/raw/Bitfinex/bitfinex_AVAX_USDT_1d.csv', './data/raw/Bitfinex/bitfinex_XCHF_USD_1d.csv', './data/raw/Bitfinex/bitfinex_ZRX_USD_1d.csv', './data/raw/Bitfinex/bitfinex_LINK_USDT_1d.csv', './data/raw/Bitfinex/bitfinex_PAX_USDT_1d.csv', './data/raw/Bitfinex/bitfinex_XRD_USD_1d.csv', './data/raw/Bitfinex/bitfinex_IQ_USD_1d.csv', './data/raw/Bitfinex/bitfinex_B21X_USDT_1d.csv', './data/raw/Bitfinex/bitfinex_LINK_USD_1d.csv', './data/raw/Bitfinex/bitfinex_MOB_USDT_1d.csv', './data/raw/Bitfinex/bitfinex_UST_USD_1d.csv', './data/raw/Bitfinex/bitfinex_XTZ_USD_1d.csv', './data/raw/Bitfinex/bitfinex_B21X_USD_1d.csv', './data/raw/Bitfinex/bitfinex_COMP_USD_1d.csv', './data/raw/Bitfinex/bitfinex_YFI_USDT_1d.csv', './data/raw/Bitfinex/bitfinex_BMI_USD_1d.csv', './data/raw/Bitfinex/bitfinex_REQ_USD_1d.csv', './data/raw/Bitfinex/bitfinex_BAL_USD_1d.csv', './data/raw/Bitfinex/bitfinex_OMN_USD_1d.csv', './data/raw/Bitfinex/bitfinex_REEF_USD_1d.csv', './data/raw/Bitfinex/bitfinex_BTSE_USD_1d.csv', './data/raw/Bitfinex/bitfinex_CHSB_USD_1d.csv', './data/raw/Bitfinex/bitfinex_XDC_USD_1d.csv', './data/raw/Bitfinex/bitfinex_ORS Group_USD_1d.csv', './data/raw/Bitfinex/bitfinex_MOB_USD_1d.csv', './data/raw/Bitfinex/bitfinex_NEAR_USD_1d.csv', './data/raw/Bitfinex/bitfinex_FET_USD_1d.csv', './data/raw/Bitfinex/bitfinex_BAT_USD_1d.csv', './data/raw/Bitfinex/bitfinex_CHZ_USDT_1d.csv', './data/raw/Bitfinex/bitfinex_ETC_USDT_1d.csv', './data/raw/Bitfinex/bitfinex_EGLD_USDT_1d.csv', './data/raw/Bitfinex/bitfinex_JASMY_USDT_1d.csv', './data/raw/Bitfinex/bitfinex_JASMY_USD_1d.csv', './data/raw/Bitfinex/bitfinex_BAT_USDT_1d.csv', './data/raw/Bitfinex/bitfinex_STORJ_USD_1d.csv', './data/raw/Bitfinex/bitfinex_1INCH_USD_1d.csv', './data/raw/Bitfinex/bitfinex_CHSB_USDT_1d.csv', './data/raw/Bitfinex/bitfinex_FUN_USD_1d.csv', './data/raw/Bitfinex/bitfinex_MIR_USDT_1d.csv', './data/raw/Bitfinex/bitfinex_WBT_USD_1d.csv', './data/raw/Bitfinex/bitfinex_ETH2X_USD_1d.csv', './data/raw/Bitfinex/bitfinex_SUN_USDT_1d.csv', './data/raw/Bitfinex/bitfinex_ZIL_USD_1d.csv', './data/raw/Bitfinex/bitfinex_SOL_USDT_1d.csv', './data/raw/Bitfinex/bitfinex_1INCH_USDT_1d.csv', './data/raw/Bitfinex/bitfinex_ALGO_USD_1d.csv', './data/raw/Bitfinex/bitfinex_PNK_USD_1d.csv', './data/raw/Bitfinex/bitfinex_XRA_USD_1d.csv', './data/raw/Bitfinex/bitfinex_AMPL_USD_1d.csv', './data/raw/Bitfinex/bitfinex_GOT_USD_1d.csv', './data/raw/Bitfinex/bitfinex_LUNA_USDT_1d.csv', './data/raw/Bitfinex/bitfinex_MANA_USD_1d.csv', './data/raw/Bitfinex/bitfinex_PNT_USD_1d.csv', './data/raw/Bitfinex/bitfinex_MKR_USD_1d.csv', './data/raw/Bitfinex/bitfinex_NEXO_USDT_1d.csv', './data/raw/Bitfinex/bitfinex_CHZ_USD_1d.csv', './data/raw/Bitfinex/bitfinex_EOSDT_USD_1d.csv', './data/raw/Bitfinex/bitfinex_NEXO_USD_1d.csv', './data/raw/Bitfinex/bitfinex_LUNA_USD_1d.csv', './data/raw/Bitfinex/bitfinex_XEC_USD_1d.csv', './data/raw/Bitfinex/bitfinex_REEF_USDT_1d.csv', './data/raw/Bitfinex/bitfinex_USDC_USD_1d.csv', './data/raw/Bitfinex/bitfinex_FTT_USDT_1d.csv', './data/raw/Bitfinex/bitfinex_ADA_USD_1d.csv', './data/raw/Bitfinex/bitfinex_BAND_USD_1d.csv', './data/raw/Bitfinex/bitfinex_PLANETS_USDT_1d.csv', './data/raw/Bitfinex/bitfinex_ETH_USDT_1d.csv', './data/raw/Bitfinex/bitfinex_EURT_USDT_1d.csv', './data/raw/Bitfinex/bitfinex_EOS_USDT_1d.csv', './data/raw/Bitfinex/bitfinex_VET_USD_1d.csv', './data/raw/Bitfinex/bitfinex_ETC_USD_1d.csv', './data/raw/Bitfinex/bitfinex_AXS_USDT_1d.csv', './data/raw/Bitfinex/bitfinex_DOGE_USD_1d.csv', './data/raw/Bitfinex/bitfinex_BMI_USDT_1d.csv', './data/raw/Bitfinex/bitfinex_BTC_USDT_1d.csv', './data/raw/Bitfinex/bitfinex_RRT_USD_1d.csv', './data/raw/Bitfinex/bitfinex_UNI_USD_1d.csv', './data/raw/Bitfinex/bitfinex_CTK_USD_1d.csv', './data/raw/Bitfinex/bitfinex_BTG_USD_1d.csv', './data/raw/Bitfinex/bitfinex_LEO_USD_1d.csv', './data/raw/Bitfinex/bitfinex_FCL_USD_1d.csv', './data/raw/Bitfinex/bitfinex_ODE_USD_1d.csv', './data/raw/Bitfinex/bitfinex_XRP_USD_1d.csv', './data/raw/Bitfinex/bitfinex_DAI_USD_1d.csv', './data/raw/Bitfinex/bitfinex_IQ_USDT_1d.csv', './data/raw/Bitfinex/bitfinex_HEZ_USDT_1d.csv', './data/raw/Bitfinex/bitfinex_MLN_USD_1d.csv', './data/raw/Bitfinex/bitfinex_IDX_USDT_1d.csv', './data/raw/Bitfinex/bitfinex_DORA_USD_1d.csv', './data/raw/Bitfinex/bitfinex_DOT_USD_1d.csv', './data/raw/Bitfinex/bitfinex_MDOGE_USD_1d.csv', './data/raw/Bitfinex/bitfinex_ICP_USD_1d.csv', './data/raw/Bitfinex/bitfinex_LEO_USDT_1d.csv', './data/raw/Bitfinex/bitfinex_VET_USDT_1d.csv', './data/raw/Bitfinex/bitfinex_XMR_USD_1d.csv', './data/raw/Bitfinex/bitfinex_KNC_USD_1d.csv', './data/raw/Bitfinex/bitfinex_EURT_USD_1d.csv', './data/raw/Bitfinex/bitfinex_VSYS_USD_1d.csv', './data/raw/Bitfinex/bitfinex_JST_USD_1d.csv', './data/raw/Bitfinex/bitfinex_CEL_USDT_1d.csv', './data/raw/Bitfinex/bitfinex_AMPL_USDT_1d.csv', './data/raw/Bitfinex/bitfinex_SNX_USDT_1d.csv', './data/raw/Bitfinex/bitfinex_KSM_USD_1d.csv', './data/raw/Bitfinex/bitfinex_ZCN_USD_1d.csv', './data/raw/Bitfinex/bitfinex_DOGE_USDT_1d.csv', './data/raw/Bitfinex/bitfinex_OCEAN_USDT_1d.csv', './data/raw/Bitfinex/bitfinex_KAN_USD_1d.csv', './data/raw/Bitfinex/bitfinex_GTX_USDT_1d.csv', './data/raw/Bitfinex/bitfinex_VELO_USD_1d.csv', './data/raw/Bitfinex/bitfinex_PASS_USD_1d.csv', './data/raw/Bitfinex/bitfinex_SUKU_USDT_1d.csv', './data/raw/Bitfinex/bitfinex_XLM_USD_1d.csv', './data/raw/Bitfinex/bitfinex_AXS_USD_1d.csv', './data/raw/Bitfinex/bitfinex_UTK_USD_1d.csv', './data/raw/Bitfinex/bitfinex_YEED_USD_1d.csv', './data/raw/Bitfinex/bitfinex_BTT_USD_1d.csv', './data/raw/Bitfinex/bitfinex_KAN_USDT_1d.csv', './data/raw/Bitfinex/bitfinex_XAUT_USD_1d.csv', './data/raw/Bitfinex/bitfinex_OCEAN_USD_1d.csv', './data/raw/Bitfinex/bitfinex_RBTC_USD_1d.csv', './data/raw/Bitfinex/bitfinex_DCR_USD_1d.csv', './data/raw/Bitfinex/bitfinex_TRX_USD_1d.csv', './data/raw/Bitfinex/bitfinex_TRX_USDT_1d.csv', './data/raw/Bitfinex/bitfinex_EGLD_USD_1d.csv', './data/raw/Bitfinex/bitfinex_AAVE_USD_1d.csv', './data/raw/Bitfinex/bitfinex_XTZ_USDT_1d.csv', './data/raw/Bitfinex/bitfinex_GTX_USD_1d.csv', './data/raw/Bitfinex/bitfinex_SAN_USD_1d.csv', './data/raw/Bitfinex/bitfinex_WAVES_USD_1d.csv', './data/raw/Bitfinex/bitfinex_XVG_USD_1d.csv', './data/raw/Bitfinex/bitfinex_QTUM_USD_1d.csv', './data/raw/Bitfinex/bitfinex_ANT_USD_1d.csv', './data/raw/Bitfinex/bitfinex_DORA_USDT_1d.csv', './data/raw/Bitfinex/bitfinex_ENJ_USD_1d.csv', './data/raw/Bitfinex/bitfinex_BTC_USD_1d.csv', './data/raw/Bitfinex/bitfinex_BEST_USD_1d.csv']\n"
     ]
    },
    {
     "name": "stderr",
     "output_type": "stream",
     "text": [
      "100%|██████████| 887/887 [00:09<00:00, 89.11it/s] \n"
     ]
    }
   ],
   "source": [
    "timeframe='1d'\n",
    "minutes = 24*60\n",
    "exchange_id = '*'\n",
    "\n",
    "def prices_from_csv(minutes, exchange_id = '*', timeframe = '1d'):\n",
    "    # read folder\n",
    "    folder_path = f\"./data/raw/{exchange_id}/*_{timeframe}*\"\n",
    "    print(folder_path)\n",
    "    file_list = glob(folder_path + f\"*.csv\")\n",
    "    print(file_list)\n",
    "    pairs = []\n",
    "    for file in tqdm(file_list):\n",
    "        df = pd.read_csv(file, header=None, names=['date', 'open', 'high',\n",
    "                                                   'low', 'close', 'volume']) # read the csv\n",
    "        split_fname = file.replace(f\"./data/raw/{exchange_id}/\", \"\").replace(\".csv\", \"\").split(\"_\")\n",
    "        exchange_id = split_fname[0].split(\"/\")[-1]\n",
    "\n",
    "        quote = split_fname[2]\n",
    "        base = split_fname[1]\n",
    "        timeframe = split_fname[3]\n",
    "\n",
    "        exchange = getattr(ccxt, exchange_id)({\n",
    "                            'enableRateLimit': True,  # required by the Manual\n",
    "                            })\n",
    "        df['date'] = df.date.values.astype(dtype='datetime64[ms]')\n",
    "        df.set_index(['date'], inplace=True)\n",
    "\n",
    "        # approximate volume weighted average price by\n",
    "        df['vwap'] = df['open']/4 + df['close']/4 + df['low']/4 + df['high']/4\n",
    "\n",
    "        # shift to have the interval closed to the right\n",
    "        df = df.shift(1)\n",
    "\n",
    "        # resample to desired frequency and fill forward missing prices\n",
    "        # if base_timeframe != target_timeframe:\n",
    "        df = resample_df_ohlcv(df, f'{minutes}min', label='right')\n",
    "        df = nans_to_prev_close_method1(df)\n",
    "\n",
    "        df['dollar_vol'] = df.volume.mul(df.close)\n",
    "        df.sort_index(inplace=True)\n",
    "        df['dollar_vol_90d_rolling'] = df['dollar_vol'].rolling(window=int(90*24*60/minutes), min_periods=1).sum()\n",
    "\n",
    "        df['exchange'] = exchange_id\n",
    "        df['symbol'] = f\"{base}_{quote}\"\n",
    "        df['base'] = base\n",
    "        df['quote'] = quote\n",
    "        df['timeframe'] = timeframe\n",
    "\n",
    "        df.set_index(['base', 'exchange', 'symbol', 'quote', 'timeframe'], inplace=True, append=True)\n",
    "\n",
    "        pairs.append(df)\n",
    "    prices_ccxt = pd.concat(pairs)\n",
    "    prices_ccxt.sort_index(inplace=True)\n",
    "    return prices_ccxt\n",
    "\n",
    "prices_ccxt = prices_from_csv(minutes, exchange_id=exchange_id, timeframe=timeframe)"
   ],
   "metadata": {
    "collapsed": false,
    "pycharm": {
     "name": "#%%\n"
    }
   }
  },
  {
   "cell_type": "code",
   "execution_count": 5,
   "outputs": [
    {
     "data": {
      "text/plain": "                                                         open       high  \\\ndate       base exchange symbol   quote timeframe                          \n2013-03-31 BTC  bitfinex BTC_USD  USD   1d                NaN        NaN   \n2013-04-01 BTC  bitfinex BTC_USD  USD   1d          92.500000   93.74999   \n2013-04-02 BTC  bitfinex BTC_USD  USD   1d          93.250000  105.90000   \n2013-04-03 BTC  bitfinex BTC_USD  USD   1d         104.000000  118.38670   \n2013-04-04 BTC  bitfinex BTC_USD  USD   1d         117.958261  146.88000   \n...                                                       ...        ...   \n2021-10-14 ZIL  binance  ZIL_USDT USDT  1d           0.091500    0.09535   \n                bitfinex ZIL_USD  USD   1d           0.092536    0.09401   \n           ZRX  binance  ZRX_BUSD BUSD  1d           0.997100    1.03040   \n                         ZRX_USDT USDT  1d           0.999800    1.02950   \n                bitfinex ZRX_USD  USD   1d           0.997980    1.02850   \n\n                                                         low       close  \\\ndate       base exchange symbol   quote timeframe                          \n2013-03-31 BTC  bitfinex BTC_USD  USD   1d               NaN         NaN   \n2013-04-01 BTC  bitfinex BTC_USD  USD   1d          91.00000   93.033000   \n2013-04-02 BTC  bitfinex BTC_USD  USD   1d          92.49999  103.999000   \n2013-04-03 BTC  bitfinex BTC_USD  USD   1d          99.00000  118.229354   \n2013-04-04 BTC  bitfinex BTC_USD  USD   1d         101.51088  134.700000   \n...                                                      ...         ...   \n2021-10-14 ZIL  binance  ZIL_USDT USDT  1d           0.08949    0.094210   \n                bitfinex ZIL_USD  USD   1d           0.08967    0.093601   \n           ZRX  binance  ZRX_BUSD BUSD  1d           0.97310    1.029000   \n                         ZRX_USDT USDT  1d           0.97260    1.028400   \n                bitfinex ZRX_USD  USD   1d           0.97573    1.028500   \n\n                                                         vwap        volume  \\\ndate       base exchange symbol   quote timeframe                             \n2013-03-31 BTC  bitfinex BTC_USD  USD   1d           0.000000  0.000000e+00   \n2013-04-01 BTC  bitfinex BTC_USD  USD   1d          92.570748  3.083080e+03   \n2013-04-02 BTC  bitfinex BTC_USD  USD   1d          98.912248  5.224401e+03   \n2013-04-03 BTC  bitfinex BTC_USD  USD   1d         109.904014  8.376527e+03   \n2013-04-04 BTC  bitfinex BTC_USD  USD   1d         125.262285  1.299625e+04   \n...                                                       ...           ...   \n2021-10-14 ZIL  binance  ZIL_USDT USDT  1d           0.092637  1.415960e+08   \n                bitfinex ZIL_USD  USD   1d           0.092454  2.546552e+06   \n           ZRX  binance  ZRX_BUSD BUSD  1d           1.007400  1.963020e+05   \n                         ZRX_USDT USDT  1d           1.007575  3.818060e+06   \n                bitfinex ZRX_USD  USD   1d           1.007678  1.458828e+05   \n\n                                                     dollar_vol  \\\ndate       base exchange symbol   quote timeframe                 \n2013-03-31 BTC  bitfinex BTC_USD  USD   1d                  NaN   \n2013-04-01 BTC  bitfinex BTC_USD  USD   1d         2.868282e+05   \n2013-04-02 BTC  bitfinex BTC_USD  USD   1d         5.433325e+05   \n2013-04-03 BTC  bitfinex BTC_USD  USD   1d         9.903514e+05   \n2013-04-04 BTC  bitfinex BTC_USD  USD   1d         1.750594e+06   \n...                                                         ...   \n2021-10-14 ZIL  binance  ZIL_USDT USDT  1d         1.333976e+07   \n                bitfinex ZIL_USD  USD   1d         2.383598e+05   \n           ZRX  binance  ZRX_BUSD BUSD  1d         2.019948e+05   \n                         ZRX_USDT USDT  1d         3.926493e+06   \n                bitfinex ZRX_USD  USD   1d         1.500404e+05   \n\n                                                   dollar_vol_90d_rolling  \ndate       base exchange symbol   quote timeframe                          \n2013-03-31 BTC  bitfinex BTC_USD  USD   1d                            NaN  \n2013-04-01 BTC  bitfinex BTC_USD  USD   1d                   2.868282e+05  \n2013-04-02 BTC  bitfinex BTC_USD  USD   1d                   8.301607e+05  \n2013-04-03 BTC  bitfinex BTC_USD  USD   1d                   1.820512e+06  \n2013-04-04 BTC  bitfinex BTC_USD  USD   1d                   3.571106e+06  \n...                                                                   ...  \n2021-10-14 ZIL  binance  ZIL_USDT USDT  1d                   2.111828e+09  \n                bitfinex ZIL_USD  USD   1d                   8.736062e+06  \n           ZRX  binance  ZRX_BUSD BUSD  1d                   4.483885e+07  \n                         ZRX_USDT USDT  1d                   6.994253e+08  \n                bitfinex ZRX_USD  USD   1d                   5.339407e+07  \n\n[396903 rows x 8 columns]",
      "text/html": "<div>\n<style scoped>\n    .dataframe tbody tr th:only-of-type {\n        vertical-align: middle;\n    }\n\n    .dataframe tbody tr th {\n        vertical-align: top;\n    }\n\n    .dataframe thead th {\n        text-align: right;\n    }\n</style>\n<table border=\"1\" class=\"dataframe\">\n  <thead>\n    <tr style=\"text-align: right;\">\n      <th></th>\n      <th></th>\n      <th></th>\n      <th></th>\n      <th></th>\n      <th></th>\n      <th>open</th>\n      <th>high</th>\n      <th>low</th>\n      <th>close</th>\n      <th>vwap</th>\n      <th>volume</th>\n      <th>dollar_vol</th>\n      <th>dollar_vol_90d_rolling</th>\n    </tr>\n    <tr>\n      <th>date</th>\n      <th>base</th>\n      <th>exchange</th>\n      <th>symbol</th>\n      <th>quote</th>\n      <th>timeframe</th>\n      <th></th>\n      <th></th>\n      <th></th>\n      <th></th>\n      <th></th>\n      <th></th>\n      <th></th>\n      <th></th>\n    </tr>\n  </thead>\n  <tbody>\n    <tr>\n      <th>2013-03-31</th>\n      <th>BTC</th>\n      <th>bitfinex</th>\n      <th>BTC_USD</th>\n      <th>USD</th>\n      <th>1d</th>\n      <td>NaN</td>\n      <td>NaN</td>\n      <td>NaN</td>\n      <td>NaN</td>\n      <td>0.000000</td>\n      <td>0.000000e+00</td>\n      <td>NaN</td>\n      <td>NaN</td>\n    </tr>\n    <tr>\n      <th>2013-04-01</th>\n      <th>BTC</th>\n      <th>bitfinex</th>\n      <th>BTC_USD</th>\n      <th>USD</th>\n      <th>1d</th>\n      <td>92.500000</td>\n      <td>93.74999</td>\n      <td>91.00000</td>\n      <td>93.033000</td>\n      <td>92.570748</td>\n      <td>3.083080e+03</td>\n      <td>2.868282e+05</td>\n      <td>2.868282e+05</td>\n    </tr>\n    <tr>\n      <th>2013-04-02</th>\n      <th>BTC</th>\n      <th>bitfinex</th>\n      <th>BTC_USD</th>\n      <th>USD</th>\n      <th>1d</th>\n      <td>93.250000</td>\n      <td>105.90000</td>\n      <td>92.49999</td>\n      <td>103.999000</td>\n      <td>98.912248</td>\n      <td>5.224401e+03</td>\n      <td>5.433325e+05</td>\n      <td>8.301607e+05</td>\n    </tr>\n    <tr>\n      <th>2013-04-03</th>\n      <th>BTC</th>\n      <th>bitfinex</th>\n      <th>BTC_USD</th>\n      <th>USD</th>\n      <th>1d</th>\n      <td>104.000000</td>\n      <td>118.38670</td>\n      <td>99.00000</td>\n      <td>118.229354</td>\n      <td>109.904014</td>\n      <td>8.376527e+03</td>\n      <td>9.903514e+05</td>\n      <td>1.820512e+06</td>\n    </tr>\n    <tr>\n      <th>2013-04-04</th>\n      <th>BTC</th>\n      <th>bitfinex</th>\n      <th>BTC_USD</th>\n      <th>USD</th>\n      <th>1d</th>\n      <td>117.958261</td>\n      <td>146.88000</td>\n      <td>101.51088</td>\n      <td>134.700000</td>\n      <td>125.262285</td>\n      <td>1.299625e+04</td>\n      <td>1.750594e+06</td>\n      <td>3.571106e+06</td>\n    </tr>\n    <tr>\n      <th>...</th>\n      <th>...</th>\n      <th>...</th>\n      <th>...</th>\n      <th>...</th>\n      <th>...</th>\n      <td>...</td>\n      <td>...</td>\n      <td>...</td>\n      <td>...</td>\n      <td>...</td>\n      <td>...</td>\n      <td>...</td>\n      <td>...</td>\n    </tr>\n    <tr>\n      <th rowspan=\"5\" valign=\"top\">2021-10-14</th>\n      <th rowspan=\"2\" valign=\"top\">ZIL</th>\n      <th>binance</th>\n      <th>ZIL_USDT</th>\n      <th>USDT</th>\n      <th>1d</th>\n      <td>0.091500</td>\n      <td>0.09535</td>\n      <td>0.08949</td>\n      <td>0.094210</td>\n      <td>0.092637</td>\n      <td>1.415960e+08</td>\n      <td>1.333976e+07</td>\n      <td>2.111828e+09</td>\n    </tr>\n    <tr>\n      <th>bitfinex</th>\n      <th>ZIL_USD</th>\n      <th>USD</th>\n      <th>1d</th>\n      <td>0.092536</td>\n      <td>0.09401</td>\n      <td>0.08967</td>\n      <td>0.093601</td>\n      <td>0.092454</td>\n      <td>2.546552e+06</td>\n      <td>2.383598e+05</td>\n      <td>8.736062e+06</td>\n    </tr>\n    <tr>\n      <th rowspan=\"3\" valign=\"top\">ZRX</th>\n      <th rowspan=\"2\" valign=\"top\">binance</th>\n      <th>ZRX_BUSD</th>\n      <th>BUSD</th>\n      <th>1d</th>\n      <td>0.997100</td>\n      <td>1.03040</td>\n      <td>0.97310</td>\n      <td>1.029000</td>\n      <td>1.007400</td>\n      <td>1.963020e+05</td>\n      <td>2.019948e+05</td>\n      <td>4.483885e+07</td>\n    </tr>\n    <tr>\n      <th>ZRX_USDT</th>\n      <th>USDT</th>\n      <th>1d</th>\n      <td>0.999800</td>\n      <td>1.02950</td>\n      <td>0.97260</td>\n      <td>1.028400</td>\n      <td>1.007575</td>\n      <td>3.818060e+06</td>\n      <td>3.926493e+06</td>\n      <td>6.994253e+08</td>\n    </tr>\n    <tr>\n      <th>bitfinex</th>\n      <th>ZRX_USD</th>\n      <th>USD</th>\n      <th>1d</th>\n      <td>0.997980</td>\n      <td>1.02850</td>\n      <td>0.97573</td>\n      <td>1.028500</td>\n      <td>1.007678</td>\n      <td>1.458828e+05</td>\n      <td>1.500404e+05</td>\n      <td>5.339407e+07</td>\n    </tr>\n  </tbody>\n</table>\n<p>396903 rows × 8 columns</p>\n</div>"
     },
     "execution_count": 5,
     "metadata": {},
     "output_type": "execute_result"
    }
   ],
   "source": [
    "prices_ccxt"
   ],
   "metadata": {
    "collapsed": false,
    "pycharm": {
     "name": "#%%\n"
    }
   }
  },
  {
   "cell_type": "code",
   "execution_count": 6,
   "outputs": [
    {
     "data": {
      "text/plain": "<AxesSubplot:xlabel='date'>"
     },
     "execution_count": 6,
     "metadata": {},
     "output_type": "execute_result"
    },
    {
     "data": {
      "text/plain": "<Figure size 432x288 with 1 Axes>",
      "image/png": "[encoded data removed]"
     },
     "metadata": {
      "needs_background": "light"
     },
     "output_type": "display_data"
    }
   ],
   "source": [
    "prices_ccxt.vwap.loc[:, 'BTC', :].groupby(['date']).count().plot()"
   ],
   "metadata": {
    "collapsed": false,
    "pycharm": {
     "name": "#%%\n"
    }
   }
  },
  {
   "cell_type": "code",
   "execution_count": 7,
   "outputs": [
    {
     "data": {
      "text/plain": "['bitfinex', 'binance']"
     },
     "execution_count": 7,
     "metadata": {},
     "output_type": "execute_result"
    }
   ],
   "source": [
    "prices_ccxt.index.get_level_values('exchange').unique().to_list()\n"
   ],
   "metadata": {
    "collapsed": false,
    "pycharm": {
     "name": "#%%\n"
    }
   }
  },
  {
   "cell_type": "code",
   "execution_count": 8,
   "outputs": [],
   "source": [
    "prices_ccxt.reset_index().to_feather(f'prices_ccxt_all')\n",
    "prices_ccxt=prices_ccxt.droplevel(['exchange', 'symbol', 'quote', 'timeframe'])"
   ],
   "metadata": {
    "collapsed": false,
    "pycharm": {
     "name": "#%%\n"
    }
   }
  },
  {
   "cell_type": "code",
   "execution_count": 9,
   "outputs": [
    {
     "data": {
      "text/plain": "                       open       high        low       close        vwap  \\\ndate       base                                                             \n2013-04-01 BTC    92.500000   93.74999   91.00000   93.033000   92.570748   \n2013-04-02 BTC    93.250000  105.90000   92.49999  103.999000   98.912248   \n2013-04-03 BTC   104.000000  118.38670   99.00000  118.229354  109.904014   \n2013-04-04 BTC   117.958261  146.88000  101.51088  134.700000  125.262285   \n2013-04-05 BTC   134.716560  143.00000  119.00000  132.899000  132.403890   \n...                     ...        ...        ...         ...         ...   \n2021-10-14 ZCN     0.397430    0.40162    0.36770    0.396880    0.781815   \n           ZEC   116.200000  119.70000  113.10000  119.400000  117.100000   \n           ZEN    72.570000   73.48000   69.74000   73.220000   72.252500   \n           ZIL     0.091500    0.09535    0.08949    0.094210    0.092637   \n           ZRX     0.999800    1.02950    0.97260    1.028400    1.007575   \n\n                       volume    dollar_vol  dollar_vol_90d_rolling  \ndate       base                                                      \n2013-04-01 BTC   3.083080e+03  2.868282e+05            2.868282e+05  \n2013-04-02 BTC   5.224401e+03  5.433325e+05            8.301607e+05  \n2013-04-03 BTC   8.376527e+03  9.903514e+05            1.820512e+06  \n2013-04-04 BTC   1.299625e+04  1.750594e+06            3.571106e+06  \n2013-04-05 BTC   6.981668e+03  9.278567e+05            4.498963e+06  \n...                       ...           ...                     ...  \n2021-10-14 ZCN   8.171576e+03  3.243135e+03            2.592725e+06  \n           ZEC   2.216192e+05  2.646133e+07            2.548582e+09  \n           ZEN   8.261325e+04  6.048942e+06            1.302916e+09  \n           ZIL   1.415960e+08  1.333976e+07            2.111828e+09  \n           ZRX   3.818060e+06  3.926493e+06            6.994253e+08  \n\n[234950 rows x 8 columns]",
      "text/html": "<div>\n<style scoped>\n    .dataframe tbody tr th:only-of-type {\n        vertical-align: middle;\n    }\n\n    .dataframe tbody tr th {\n        vertical-align: top;\n    }\n\n    .dataframe thead th {\n        text-align: right;\n    }\n</style>\n<table border=\"1\" class=\"dataframe\">\n  <thead>\n    <tr style=\"text-align: right;\">\n      <th></th>\n      <th></th>\n      <th>open</th>\n      <th>high</th>\n      <th>low</th>\n      <th>close</th>\n      <th>vwap</th>\n      <th>volume</th>\n      <th>dollar_vol</th>\n      <th>dollar_vol_90d_rolling</th>\n    </tr>\n    <tr>\n      <th>date</th>\n      <th>base</th>\n      <th></th>\n      <th></th>\n      <th></th>\n      <th></th>\n      <th></th>\n      <th></th>\n      <th></th>\n      <th></th>\n    </tr>\n  </thead>\n  <tbody>\n    <tr>\n      <th>2013-04-01</th>\n      <th>BTC</th>\n      <td>92.500000</td>\n      <td>93.74999</td>\n      <td>91.00000</td>\n      <td>93.033000</td>\n      <td>92.570748</td>\n      <td>3.083080e+03</td>\n      <td>2.868282e+05</td>\n      <td>2.868282e+05</td>\n    </tr>\n    <tr>\n      <th>2013-04-02</th>\n      <th>BTC</th>\n      <td>93.250000</td>\n      <td>105.90000</td>\n      <td>92.49999</td>\n      <td>103.999000</td>\n      <td>98.912248</td>\n      <td>5.224401e+03</td>\n      <td>5.433325e+05</td>\n      <td>8.301607e+05</td>\n    </tr>\n    <tr>\n      <th>2013-04-03</th>\n      <th>BTC</th>\n      <td>104.000000</td>\n      <td>118.38670</td>\n      <td>99.00000</td>\n      <td>118.229354</td>\n      <td>109.904014</td>\n      <td>8.376527e+03</td>\n      <td>9.903514e+05</td>\n      <td>1.820512e+06</td>\n    </tr>\n    <tr>\n      <th>2013-04-04</th>\n      <th>BTC</th>\n      <td>117.958261</td>\n      <td>146.88000</td>\n      <td>101.51088</td>\n      <td>134.700000</td>\n      <td>125.262285</td>\n      <td>1.299625e+04</td>\n      <td>1.750594e+06</td>\n      <td>3.571106e+06</td>\n    </tr>\n    <tr>\n      <th>2013-04-05</th>\n      <th>BTC</th>\n      <td>134.716560</td>\n      <td>143.00000</td>\n      <td>119.00000</td>\n      <td>132.899000</td>\n      <td>132.403890</td>\n      <td>6.981668e+03</td>\n      <td>9.278567e+05</td>\n      <td>4.498963e+06</td>\n    </tr>\n    <tr>\n      <th>...</th>\n      <th>...</th>\n      <td>...</td>\n      <td>...</td>\n      <td>...</td>\n      <td>...</td>\n      <td>...</td>\n      <td>...</td>\n      <td>...</td>\n      <td>...</td>\n    </tr>\n    <tr>\n      <th rowspan=\"5\" valign=\"top\">2021-10-14</th>\n      <th>ZCN</th>\n      <td>0.397430</td>\n      <td>0.40162</td>\n      <td>0.36770</td>\n      <td>0.396880</td>\n      <td>0.781815</td>\n      <td>8.171576e+03</td>\n      <td>3.243135e+03</td>\n      <td>2.592725e+06</td>\n    </tr>\n    <tr>\n      <th>ZEC</th>\n      <td>116.200000</td>\n      <td>119.70000</td>\n      <td>113.10000</td>\n      <td>119.400000</td>\n      <td>117.100000</td>\n      <td>2.216192e+05</td>\n      <td>2.646133e+07</td>\n      <td>2.548582e+09</td>\n    </tr>\n    <tr>\n      <th>ZEN</th>\n      <td>72.570000</td>\n      <td>73.48000</td>\n      <td>69.74000</td>\n      <td>73.220000</td>\n      <td>72.252500</td>\n      <td>8.261325e+04</td>\n      <td>6.048942e+06</td>\n      <td>1.302916e+09</td>\n    </tr>\n    <tr>\n      <th>ZIL</th>\n      <td>0.091500</td>\n      <td>0.09535</td>\n      <td>0.08949</td>\n      <td>0.094210</td>\n      <td>0.092637</td>\n      <td>1.415960e+08</td>\n      <td>1.333976e+07</td>\n      <td>2.111828e+09</td>\n    </tr>\n    <tr>\n      <th>ZRX</th>\n      <td>0.999800</td>\n      <td>1.02950</td>\n      <td>0.97260</td>\n      <td>1.028400</td>\n      <td>1.007575</td>\n      <td>3.818060e+06</td>\n      <td>3.926493e+06</td>\n      <td>6.994253e+08</td>\n    </tr>\n  </tbody>\n</table>\n<p>234950 rows × 8 columns</p>\n</div>"
     },
     "execution_count": 9,
     "metadata": {},
     "output_type": "execute_result"
    }
   ],
   "source": [
    "universe = (prices_ccxt.where(prices_ccxt.groupby(['date', 'base'])\n",
    "                             .dollar_vol_90d_rolling\n",
    "                             .rank(ascending=False) <= 1.5)\n",
    "            .dropna())\n",
    "universe.sort_index(inplace=True)\n",
    "universe"
   ],
   "metadata": {
    "collapsed": false,
    "pycharm": {
     "name": "#%%\n"
    }
   }
  },
  {
   "cell_type": "code",
   "execution_count": 10,
   "outputs": [
    {
     "data": {
      "text/plain": "<Figure size 432x288 with 1 Axes>",
      "image/png": "[encoded data removed]"
     },
     "metadata": {
      "needs_background": "light"
     },
     "output_type": "display_data"
    }
   ],
   "source": [
    "universe.vwap.groupby(['date']).count().plot()\n",
    "\n",
    "universe = universe[~universe.index.duplicated(keep='first')]\n"
   ],
   "metadata": {
    "collapsed": false,
    "pycharm": {
     "name": "#%%\n"
    }
   }
  },
  {
   "cell_type": "code",
   "execution_count": 11,
   "outputs": [
    {
     "data": {
      "text/plain": "<AxesSubplot:xlabel='date'>"
     },
     "execution_count": 11,
     "metadata": {},
     "output_type": "execute_result"
    },
    {
     "data": {
      "text/plain": "<Figure size 432x288 with 1 Axes>",
      "image/png": "[encoded data removed]"
     },
     "metadata": {
      "needs_background": "light"
     },
     "output_type": "display_data"
    }
   ],
   "source": [
    "universe.vwap.groupby(['date']).count().plot()"
   ],
   "metadata": {
    "collapsed": false,
    "pycharm": {
     "name": "#%%\n"
    }
   }
  },
  {
   "cell_type": "code",
   "execution_count": 12,
   "outputs": [],
   "source": [
    "universe.reset_index().to_feather(f'prices_ccxt_universe')\n"
   ],
   "metadata": {
    "collapsed": false,
    "pycharm": {
     "name": "#%%\n"
    }
   }
  },
  {
   "cell_type": "code",
   "execution_count": 13,
   "outputs": [
    {
     "data": {
      "text/plain": "                           count          mean           std           min  \\\nopen                    234950.0  6.197099e+02  9.155855e+03  1.910000e-06   \nhigh                    234950.0  6.531558e+02  9.839905e+03  2.260000e-06   \nlow                     234950.0  5.837075e+02  8.350454e+03  1.850000e-06   \nclose                   234950.0  6.202426e+02  9.146544e+03  1.880000e-06   \nvwap                    234950.0  6.526411e+02  9.487594e+03  0.000000e+00   \nvolume                  234950.0  1.901426e+10  1.142381e+12 -9.142514e+10   \ndollar_vol              234950.0  3.143327e+07  2.128411e+08 -8.880456e+07   \ndollar_vol_90d_rolling  234950.0  2.500130e+09  1.491696e+10 -1.025702e+08   \ncoin_dv_rank_90d        234950.0  1.172519e+02  9.543309e+01  1.000000e+00   \n\n                                 25%           50%           75%           max  \nopen                    4.489000e-02  5.950000e-01  5.081000e+00  6.905400e+05  \nhigh                    4.780000e-02  6.369000e-01  5.436625e+00  7.378200e+05  \nlow                     4.210000e-02  5.550550e-01  4.725000e+00  6.123500e+05  \nclose                   4.479550e-02  5.944000e-01  5.076975e+00  6.754100e+05  \nvwap                    3.924056e-02  5.355000e-01  4.810000e+00  6.680425e+05  \nvolume                  6.893164e+04  1.362672e+06  1.806120e+07  2.461043e+14  \ndollar_vol              6.244754e+04  1.386512e+06  9.301488e+06  2.101685e+10  \ndollar_vol_90d_rolling  7.883974e+06  1.475666e+08  9.064264e+08  3.774758e+11  \ncoin_dv_rank_90d        3.800000e+01  9.300000e+01  1.780000e+02  3.930000e+02  ",
      "text/html": "<div>\n<style scoped>\n    .dataframe tbody tr th:only-of-type {\n        vertical-align: middle;\n    }\n\n    .dataframe tbody tr th {\n        vertical-align: top;\n    }\n\n    .dataframe thead th {\n        text-align: right;\n    }\n</style>\n<table border=\"1\" class=\"dataframe\">\n  <thead>\n    <tr style=\"text-align: right;\">\n      <th></th>\n      <th>count</th>\n      <th>mean</th>\n      <th>std</th>\n      <th>min</th>\n      <th>25%</th>\n      <th>50%</th>\n      <th>75%</th>\n      <th>max</th>\n    </tr>\n  </thead>\n  <tbody>\n    <tr>\n      <th>open</th>\n      <td>234950.0</td>\n      <td>6.197099e+02</td>\n      <td>9.155855e+03</td>\n      <td>1.910000e-06</td>\n      <td>4.489000e-02</td>\n      <td>5.950000e-01</td>\n      <td>5.081000e+00</td>\n      <td>6.905400e+05</td>\n    </tr>\n    <tr>\n      <th>high</th>\n      <td>234950.0</td>\n      <td>6.531558e+02</td>\n      <td>9.839905e+03</td>\n      <td>2.260000e-06</td>\n      <td>4.780000e-02</td>\n      <td>6.369000e-01</td>\n      <td>5.436625e+00</td>\n      <td>7.378200e+05</td>\n    </tr>\n    <tr>\n      <th>low</th>\n      <td>234950.0</td>\n      <td>5.837075e+02</td>\n      <td>8.350454e+03</td>\n      <td>1.850000e-06</td>\n      <td>4.210000e-02</td>\n      <td>5.550550e-01</td>\n      <td>4.725000e+00</td>\n      <td>6.123500e+05</td>\n    </tr>\n    <tr>\n      <th>close</th>\n      <td>234950.0</td>\n      <td>6.202426e+02</td>\n      <td>9.146544e+03</td>\n      <td>1.880000e-06</td>\n      <td>4.479550e-02</td>\n      <td>5.944000e-01</td>\n      <td>5.076975e+00</td>\n      <td>6.754100e+05</td>\n    </tr>\n    <tr>\n      <th>vwap</th>\n      <td>234950.0</td>\n      <td>6.526411e+02</td>\n      <td>9.487594e+03</td>\n      <td>0.000000e+00</td>\n      <td>3.924056e-02</td>\n      <td>5.355000e-01</td>\n      <td>4.810000e+00</td>\n      <td>6.680425e+05</td>\n    </tr>\n    <tr>\n      <th>volume</th>\n      <td>234950.0</td>\n      <td>1.901426e+10</td>\n      <td>1.142381e+12</td>\n      <td>-9.142514e+10</td>\n      <td>6.893164e+04</td>\n      <td>1.362672e+06</td>\n      <td>1.806120e+07</td>\n      <td>2.461043e+14</td>\n    </tr>\n    <tr>\n      <th>dollar_vol</th>\n      <td>234950.0</td>\n      <td>3.143327e+07</td>\n      <td>2.128411e+08</td>\n      <td>-8.880456e+07</td>\n      <td>6.244754e+04</td>\n      <td>1.386512e+06</td>\n      <td>9.301488e+06</td>\n      <td>2.101685e+10</td>\n    </tr>\n    <tr>\n      <th>dollar_vol_90d_rolling</th>\n      <td>234950.0</td>\n      <td>2.500130e+09</td>\n      <td>1.491696e+10</td>\n      <td>-1.025702e+08</td>\n      <td>7.883974e+06</td>\n      <td>1.475666e+08</td>\n      <td>9.064264e+08</td>\n      <td>3.774758e+11</td>\n    </tr>\n    <tr>\n      <th>coin_dv_rank_90d</th>\n      <td>234950.0</td>\n      <td>1.172519e+02</td>\n      <td>9.543309e+01</td>\n      <td>1.000000e+00</td>\n      <td>3.800000e+01</td>\n      <td>9.300000e+01</td>\n      <td>1.780000e+02</td>\n      <td>3.930000e+02</td>\n    </tr>\n  </tbody>\n</table>\n</div>"
     },
     "execution_count": 13,
     "metadata": {},
     "output_type": "execute_result"
    }
   ],
   "source": [
    "universe['coin_dv_rank_90d'] = universe.dollar_vol_90d_rolling.groupby('date').rank(ascending=False)\n",
    "universe.describe().transpose()\n"
   ],
   "metadata": {
    "collapsed": false,
    "pycharm": {
     "name": "#%%\n"
    }
   }
  },
  {
   "cell_type": "code",
   "execution_count": 14,
   "outputs": [
    {
     "data": {
      "text/plain": "                       open       high        low       close        vwap  \\\ndate       base                                                             \n2013-04-01 BTC    92.500000   93.74999   91.00000   93.033000   92.570748   \n2013-04-02 BTC    93.250000  105.90000   92.49999  103.999000   98.912248   \n2013-04-03 BTC   104.000000  118.38670   99.00000  118.229354  109.904014   \n2013-04-04 BTC   117.958261  146.88000  101.51088  134.700000  125.262285   \n2013-04-05 BTC   134.716560  143.00000  119.00000  132.899000  132.403890   \n\n                       volume    dollar_vol  dollar_vol_90d_rolling  \\\ndate       base                                                       \n2013-04-01 BTC    3083.079791  2.868282e+05            2.868282e+05   \n2013-04-02 BTC    5224.401313  5.433325e+05            8.301607e+05   \n2013-04-03 BTC    8376.527478  9.903514e+05            1.820512e+06   \n2013-04-04 BTC   12996.245072  1.750594e+06            3.571106e+06   \n2013-04-05 BTC    6981.668305  9.278567e+05            4.498963e+06   \n\n                 coin_dv_rank_90d  \ndate       base                    \n2013-04-01 BTC                1.0  \n2013-04-02 BTC                1.0  \n2013-04-03 BTC                1.0  \n2013-04-04 BTC                1.0  \n2013-04-05 BTC                1.0  ",
      "text/html": "<div>\n<style scoped>\n    .dataframe tbody tr th:only-of-type {\n        vertical-align: middle;\n    }\n\n    .dataframe tbody tr th {\n        vertical-align: top;\n    }\n\n    .dataframe thead th {\n        text-align: right;\n    }\n</style>\n<table border=\"1\" class=\"dataframe\">\n  <thead>\n    <tr style=\"text-align: right;\">\n      <th></th>\n      <th></th>\n      <th>open</th>\n      <th>high</th>\n      <th>low</th>\n      <th>close</th>\n      <th>vwap</th>\n      <th>volume</th>\n      <th>dollar_vol</th>\n      <th>dollar_vol_90d_rolling</th>\n      <th>coin_dv_rank_90d</th>\n    </tr>\n    <tr>\n      <th>date</th>\n      <th>base</th>\n      <th></th>\n      <th></th>\n      <th></th>\n      <th></th>\n      <th></th>\n      <th></th>\n      <th></th>\n      <th></th>\n      <th></th>\n    </tr>\n  </thead>\n  <tbody>\n    <tr>\n      <th>2013-04-01</th>\n      <th>BTC</th>\n      <td>92.500000</td>\n      <td>93.74999</td>\n      <td>91.00000</td>\n      <td>93.033000</td>\n      <td>92.570748</td>\n      <td>3083.079791</td>\n      <td>2.868282e+05</td>\n      <td>2.868282e+05</td>\n      <td>1.0</td>\n    </tr>\n    <tr>\n      <th>2013-04-02</th>\n      <th>BTC</th>\n      <td>93.250000</td>\n      <td>105.90000</td>\n      <td>92.49999</td>\n      <td>103.999000</td>\n      <td>98.912248</td>\n      <td>5224.401313</td>\n      <td>5.433325e+05</td>\n      <td>8.301607e+05</td>\n      <td>1.0</td>\n    </tr>\n    <tr>\n      <th>2013-04-03</th>\n      <th>BTC</th>\n      <td>104.000000</td>\n      <td>118.38670</td>\n      <td>99.00000</td>\n      <td>118.229354</td>\n      <td>109.904014</td>\n      <td>8376.527478</td>\n      <td>9.903514e+05</td>\n      <td>1.820512e+06</td>\n      <td>1.0</td>\n    </tr>\n    <tr>\n      <th>2013-04-04</th>\n      <th>BTC</th>\n      <td>117.958261</td>\n      <td>146.88000</td>\n      <td>101.51088</td>\n      <td>134.700000</td>\n      <td>125.262285</td>\n      <td>12996.245072</td>\n      <td>1.750594e+06</td>\n      <td>3.571106e+06</td>\n      <td>1.0</td>\n    </tr>\n    <tr>\n      <th>2013-04-05</th>\n      <th>BTC</th>\n      <td>134.716560</td>\n      <td>143.00000</td>\n      <td>119.00000</td>\n      <td>132.899000</td>\n      <td>132.403890</td>\n      <td>6981.668305</td>\n      <td>9.278567e+05</td>\n      <td>4.498963e+06</td>\n      <td>1.0</td>\n    </tr>\n  </tbody>\n</table>\n</div>"
     },
     "execution_count": 14,
     "metadata": {},
     "output_type": "execute_result"
    }
   ],
   "source": [
    "universe.head()"
   ],
   "metadata": {
    "collapsed": false,
    "pycharm": {
     "name": "#%%\n"
    }
   }
  },
  {
   "cell_type": "markdown",
   "source": [
    "construct the most traded coins until 2021 to have less lookforward bias"
   ],
   "metadata": {
    "collapsed": false,
    "pycharm": {
     "name": "#%% md\n"
    }
   }
  },
  {
   "cell_type": "code",
   "execution_count": 75,
   "outputs": [],
   "source": [
    "absolute_dollar_volume = prices_ccxt.loc[:\"2021-4\", :].dollar_vol.groupby('base').sum().rank(ascending=False)\n",
    "absolute_dollar_volume.sort_values().head(20)\n",
    "top10 = absolute_dollar_volume.where(absolute_dollar_volume < 26).dropna()"
   ],
   "metadata": {
    "collapsed": false,
    "pycharm": {
     "name": "#%%\n"
    }
   }
  },
  {
   "cell_type": "code",
   "execution_count": 76,
   "outputs": [
    {
     "data": {
      "text/plain": "base\nBTC      1.0\nETH      2.0\nXRP      3.0\nBNB      4.0\nEOS      5.0\nLTC      6.0\nADA      7.0\nBUSD     8.0\nLINK     9.0\nDOT     10.0\nDOGE    11.0\nBCH     12.0\nUSDT    13.0\nTRX     14.0\nNEO     15.0\nXLM     16.0\nUSDC    17.0\nIOTA    18.0\nETC     19.0\nCHZ     20.0\nUNI     21.0\nVET     22.0\nSXP     23.0\nYFI     24.0\nGRT     25.0\nName: dollar_vol, dtype: float64"
     },
     "execution_count": 76,
     "metadata": {},
     "output_type": "execute_result"
    }
   ],
   "source": [
    "top10.sort_values()"
   ],
   "metadata": {
    "collapsed": false,
    "pycharm": {
     "name": "#%%\n"
    }
   }
  },
  {
   "cell_type": "code",
   "execution_count": 77,
   "outputs": [],
   "source": [
    "universe_top10dv = universe.join(top10, rsuffix='_rank', how='inner')"
   ],
   "metadata": {
    "collapsed": false,
    "pycharm": {
     "name": "#%%\n"
    }
   }
  },
  {
   "cell_type": "code",
   "execution_count": 78,
   "outputs": [
    {
     "data": {
      "text/plain": "<AxesSubplot:xlabel='date'>"
     },
     "execution_count": 78,
     "metadata": {},
     "output_type": "execute_result"
    },
    {
     "data": {
      "text/plain": "<Figure size 432x288 with 1 Axes>",
      "image/png": "[encoded data removed]"
     },
     "metadata": {
      "needs_background": "light"
     },
     "output_type": "display_data"
    }
   ],
   "source": [
    "universe_top10dv.vwap.groupby(['date']).count().plot()"
   ],
   "metadata": {
    "collapsed": false,
    "pycharm": {
     "name": "#%%\n"
    }
   }
  },
  {
   "cell_type": "code",
   "execution_count": 79,
   "outputs": [
    {
     "data": {
      "text/plain": "Index(['BTC', 'LTC', 'ETH', 'ETC', 'XRP', 'IOTA', 'EOS', 'NEO', 'BNB', 'TRX',\n       'ADA', 'XLM', 'VET', 'USDT', 'USDC', 'LINK', 'DOGE', 'CHZ', 'BUSD',\n       'BCH', 'SXP', 'YFI', 'DOT', 'UNI', 'GRT'],\n      dtype='object', name='base')"
     },
     "execution_count": 79,
     "metadata": {},
     "output_type": "execute_result"
    }
   ],
   "source": [
    "universe_top10dv.index.get_level_values('base').unique()"
   ],
   "metadata": {
    "collapsed": false,
    "pycharm": {
     "name": "#%%\n"
    }
   }
  },
  {
   "cell_type": "code",
   "execution_count": 80,
   "outputs": [
    {
     "data": {
      "text/plain": "base\nGRT      301\nUNI      392\nDOT      422\nYFI      430\nSXP      464\nBCH      686\nBUSD     755\nCHZ      769\nDOGE     832\nLINK    1002\nUSDC    1045\nUSDT    1052\nVET     1177\nXLM     1262\nADA     1276\nTRX     1359\nBNB     1438\nNEO     1498\nEOS     1566\nIOTA    1585\nXRP     1609\nETC     1906\nETH     2045\nLTC     3068\nBTC     3119\nName: close, dtype: int64"
     },
     "execution_count": 80,
     "metadata": {},
     "output_type": "execute_result"
    }
   ],
   "source": [
    "universe_top10dv.groupby('base').close.count().sort_values()\n"
   ],
   "metadata": {
    "collapsed": false,
    "pycharm": {
     "name": "#%%\n"
    }
   }
  },
  {
   "cell_type": "code",
   "execution_count": 81,
   "outputs": [],
   "source": [
    "universe_top10dv.reset_index().to_feather(f'prices_ccxt_universe_top15dv')\n",
    "\n"
   ],
   "metadata": {
    "collapsed": false,
    "pycharm": {
     "name": "#%%\n"
    }
   }
  }
 ]
}