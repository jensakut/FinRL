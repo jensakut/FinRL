{
 "cells": [
  {
   "cell_type": "code",
   "execution_count": 7,
   "metadata": {
    "colab": {
     "base_uri": "https://localhost:8080/"
    },
    "id": "pYfqSepj-Vdu",
    "outputId": "b8d53f0f-a67c-40c8-f145-386932bb4c00"
   },
   "outputs": [
    {
     "name": "stdout",
     "output_type": "stream",
     "text": [
      "Requirement already satisfied: ray in /home/jens/dev/finance/FinRL/venv/lib/python3.9/site-packages (1.6.0)\r\n",
      "Requirement already satisfied: attrs in /home/jens/dev/finance/FinRL/venv/lib/python3.9/site-packages (from ray) (21.2.0)\r\n",
      "Requirement already satisfied: click>=7.0 in /home/jens/dev/finance/FinRL/venv/lib/python3.9/site-packages (from ray) (8.0.1)\r\n",
      "Requirement already satisfied: msgpack<2.0.0,>=1.0.0 in /home/jens/dev/finance/FinRL/venv/lib/python3.9/site-packages (from ray) (1.0.2)\r\n",
      "Requirement already satisfied: pyyaml in /home/jens/dev/finance/FinRL/venv/lib/python3.9/site-packages (from ray) (5.4.1)\r\n",
      "Requirement already satisfied: filelock in /home/jens/dev/finance/FinRL/venv/lib/python3.9/site-packages (from ray) (3.2.0)\r\n",
      "Requirement already satisfied: grpcio>=1.28.1 in /home/jens/dev/finance/FinRL/venv/lib/python3.9/site-packages (from ray) (1.41.0)\r\n",
      "Requirement already satisfied: protobuf>=3.15.3 in /home/jens/dev/finance/FinRL/venv/lib/python3.9/site-packages (from ray) (3.17.3)\r\n",
      "Requirement already satisfied: numpy>=1.19.3 in /home/jens/dev/finance/FinRL/venv/lib/python3.9/site-packages (from ray) (1.21.2)\r\n",
      "Requirement already satisfied: redis>=3.5.0 in /home/jens/dev/finance/FinRL/venv/lib/python3.9/site-packages (from ray) (3.5.3)\r\n",
      "Requirement already satisfied: six>=1.5.2 in /home/jens/dev/finance/FinRL/venv/lib/python3.9/site-packages (from grpcio>=1.28.1->ray) (1.16.0)\r\n",
      "Requirement already satisfied: dm-tree in /home/jens/dev/finance/FinRL/venv/lib/python3.9/site-packages (0.1.6)\r\n",
      "Requirement already satisfied: six>=1.12.0 in /home/jens/dev/finance/FinRL/venv/lib/python3.9/site-packages (from dm-tree) (1.16.0)\r\n"
     ]
    }
   ],
   "source": [
    "# ## install finrl library"
   ]
  },
  {
   "cell_type": "code",
   "execution_count": 8,
   "outputs": [
    {
     "name": "stdout",
     "output_type": "stream",
     "text": [
      "Collecting git+https://github.com/AI4Finance-LLC/FinRL-Library.git\r\n",
      "  Cloning https://github.com/AI4Finance-LLC/FinRL-Library.git to /tmp/pip-req-build-wo8fxqgu\r\n",
      "  Running command git clone -q https://github.com/AI4Finance-LLC/FinRL-Library.git /tmp/pip-req-build-wo8fxqgu\r\n",
      "  Resolved https://github.com/AI4Finance-LLC/FinRL-Library.git to commit 00b6881e7cdb4afadca73a4e3bb239e6bbfaa092\r\n",
      "Collecting pyfolio@ git+https://github.com/quantopian/pyfolio.git#egg=pyfolio-0.9.2\r\n",
      "  Cloning https://github.com/quantopian/pyfolio.git to /tmp/pip-install-lnisy08w/pyfolio_de18811deecf4bd2a7a916a21677b323\r\n",
      "  Running command git clone -q https://github.com/quantopian/pyfolio.git /tmp/pip-install-lnisy08w/pyfolio_de18811deecf4bd2a7a916a21677b323\r\n",
      "  Resolved https://github.com/quantopian/pyfolio.git to commit 4b901f6d73aa02ceb6d04b7d83502e5c6f2e81aa\r\n",
      "Requirement already satisfied: numpy>=1.17.3 in /home/jens/dev/finance/FinRL/venv/lib/python3.9/site-packages (from finrl==0.3.1) (1.21.2)\r\n",
      "Requirement already satisfied: pandas>=1.1.5 in /home/jens/dev/finance/FinRL/venv/lib/python3.9/site-packages (from finrl==0.3.1) (1.3.3)\r\n",
      "Requirement already satisfied: stockstats in /home/jens/dev/finance/FinRL/venv/lib/python3.9/site-packages (from finrl==0.3.1) (0.3.2)\r\n",
      "Requirement already satisfied: yfinance in /home/jens/dev/finance/FinRL/venv/lib/python3.9/site-packages (from finrl==0.3.1) (0.1.63)\r\n",
      "Requirement already satisfied: matplotlib in /home/jens/dev/finance/FinRL/venv/lib/python3.9/site-packages (from finrl==0.3.1) (3.4.3)\r\n",
      "Requirement already satisfied: scikit-learn>=0.21.0 in /home/jens/dev/finance/FinRL/venv/lib/python3.9/site-packages (from finrl==0.3.1) (1.0)\r\n",
      "Requirement already satisfied: gym>=0.17 in /home/jens/dev/finance/FinRL/venv/lib/python3.9/site-packages (from finrl==0.3.1) (0.20.0)\r\n",
      "Requirement already satisfied: stable-baselines3[extra] in /home/jens/dev/finance/FinRL/venv/lib/python3.9/site-packages (from finrl==0.3.1) (1.2.0)\r\n",
      "Requirement already satisfied: ray[default] in /home/jens/dev/finance/FinRL/venv/lib/python3.9/site-packages (from finrl==0.3.1) (1.6.0)\r\n",
      "Requirement already satisfied: lz4 in /home/jens/dev/finance/FinRL/venv/lib/python3.9/site-packages (from finrl==0.3.1) (3.1.3)\r\n",
      "Requirement already satisfied: tensorboardX in /home/jens/dev/finance/FinRL/venv/lib/python3.9/site-packages (from finrl==0.3.1) (2.4)\r\n",
      "Requirement already satisfied: gputil in /home/jens/dev/finance/FinRL/venv/lib/python3.9/site-packages (from finrl==0.3.1) (1.4.0)\r\n",
      "Requirement already satisfied: trading_calendars in /home/jens/dev/finance/FinRL/venv/lib/python3.9/site-packages (from finrl==0.3.1) (2.1.1)\r\n",
      "Requirement already satisfied: alpaca_trade_api in /home/jens/dev/finance/FinRL/venv/lib/python3.9/site-packages (from finrl==0.3.1) (1.4.0)\r\n",
      "Requirement already satisfied: ccxt in /home/jens/dev/finance/FinRL/venv/lib/python3.9/site-packages (from finrl==0.3.1) (1.57.35)\r\n",
      "Requirement already satisfied: jqdatasdk in /home/jens/dev/finance/FinRL/venv/lib/python3.9/site-packages (from finrl==0.3.1) (1.8.10)\r\n",
      "Requirement already satisfied: wrds in /home/jens/dev/finance/FinRL/venv/lib/python3.9/site-packages (from finrl==0.3.1) (3.1.1)\r\n",
      "Requirement already satisfied: pytest in /home/jens/dev/finance/FinRL/venv/lib/python3.9/site-packages (from finrl==0.3.1) (6.2.5)\r\n",
      "Requirement already satisfied: setuptools>=41.4.0 in /home/jens/dev/finance/FinRL/venv/lib/python3.9/site-packages (from finrl==0.3.1) (58.1.0)\r\n",
      "Requirement already satisfied: wheel>=0.33.6 in /home/jens/dev/finance/FinRL/venv/lib/python3.9/site-packages (from finrl==0.3.1) (0.37.0)\r\n",
      "Requirement already satisfied: cloudpickle>=1.2.0 in /home/jens/dev/finance/FinRL/venv/lib/python3.9/site-packages (from gym>=0.17->finrl==0.3.1) (2.0.0)\r\n",
      "Requirement already satisfied: python-dateutil>=2.7.3 in /home/jens/dev/finance/FinRL/venv/lib/python3.9/site-packages (from pandas>=1.1.5->finrl==0.3.1) (2.8.2)\r\n",
      "Requirement already satisfied: pytz>=2017.3 in /home/jens/dev/finance/FinRL/venv/lib/python3.9/site-packages (from pandas>=1.1.5->finrl==0.3.1) (2021.3)\r\n",
      "Requirement already satisfied: six>=1.5 in /home/jens/dev/finance/FinRL/venv/lib/python3.9/site-packages (from python-dateutil>=2.7.3->pandas>=1.1.5->finrl==0.3.1) (1.16.0)\r\n",
      "Requirement already satisfied: scipy>=1.1.0 in /home/jens/dev/finance/FinRL/venv/lib/python3.9/site-packages (from scikit-learn>=0.21.0->finrl==0.3.1) (1.7.1)\r\n",
      "Requirement already satisfied: threadpoolctl>=2.0.0 in /home/jens/dev/finance/FinRL/venv/lib/python3.9/site-packages (from scikit-learn>=0.21.0->finrl==0.3.1) (3.0.0)\r\n",
      "Requirement already satisfied: joblib>=0.11 in /home/jens/dev/finance/FinRL/venv/lib/python3.9/site-packages (from scikit-learn>=0.21.0->finrl==0.3.1) (1.0.1)\r\n",
      "Requirement already satisfied: PyYAML==5.4.1 in /home/jens/dev/finance/FinRL/venv/lib/python3.9/site-packages (from alpaca_trade_api->finrl==0.3.1) (5.4.1)\r\n",
      "Requirement already satisfied: websockets<10,>=8.0 in /home/jens/dev/finance/FinRL/venv/lib/python3.9/site-packages (from alpaca_trade_api->finrl==0.3.1) (9.1)\r\n",
      "Requirement already satisfied: websocket-client<2,>=0.56.0 in /home/jens/dev/finance/FinRL/venv/lib/python3.9/site-packages (from alpaca_trade_api->finrl==0.3.1) (1.2.1)\r\n",
      "Requirement already satisfied: aiohttp==3.7.4 in /home/jens/dev/finance/FinRL/venv/lib/python3.9/site-packages (from alpaca_trade_api->finrl==0.3.1) (3.7.4)\r\n",
      "Requirement already satisfied: msgpack==1.0.2 in /home/jens/dev/finance/FinRL/venv/lib/python3.9/site-packages (from alpaca_trade_api->finrl==0.3.1) (1.0.2)\r\n",
      "Requirement already satisfied: urllib3<2,>1.24 in /home/jens/dev/finance/FinRL/venv/lib/python3.9/site-packages (from alpaca_trade_api->finrl==0.3.1) (1.26.7)\r\n",
      "Requirement already satisfied: requests<3,>2 in /home/jens/dev/finance/FinRL/venv/lib/python3.9/site-packages (from alpaca_trade_api->finrl==0.3.1) (2.26.0)\r\n",
      "Requirement already satisfied: attrs>=17.3.0 in /home/jens/dev/finance/FinRL/venv/lib/python3.9/site-packages (from aiohttp==3.7.4->alpaca_trade_api->finrl==0.3.1) (21.2.0)\r\n",
      "Requirement already satisfied: typing-extensions>=3.6.5 in /home/jens/dev/finance/FinRL/venv/lib/python3.9/site-packages (from aiohttp==3.7.4->alpaca_trade_api->finrl==0.3.1) (3.10.0.2)\r\n",
      "Requirement already satisfied: multidict<7.0,>=4.5 in /home/jens/dev/finance/FinRL/venv/lib/python3.9/site-packages (from aiohttp==3.7.4->alpaca_trade_api->finrl==0.3.1) (5.1.0)\r\n",
      "Requirement already satisfied: chardet<4.0,>=2.0 in /home/jens/dev/finance/FinRL/venv/lib/python3.9/site-packages (from aiohttp==3.7.4->alpaca_trade_api->finrl==0.3.1) (3.0.4)\r\n",
      "Requirement already satisfied: yarl<2.0,>=1.0 in /home/jens/dev/finance/FinRL/venv/lib/python3.9/site-packages (from aiohttp==3.7.4->alpaca_trade_api->finrl==0.3.1) (1.6.3)\r\n",
      "Requirement already satisfied: async-timeout<4.0,>=3.0 in /home/jens/dev/finance/FinRL/venv/lib/python3.9/site-packages (from aiohttp==3.7.4->alpaca_trade_api->finrl==0.3.1) (3.0.1)\r\n",
      "Requirement already satisfied: idna<4,>=2.5 in /home/jens/dev/finance/FinRL/venv/lib/python3.9/site-packages (from requests<3,>2->alpaca_trade_api->finrl==0.3.1) (3.2)\r\n",
      "Requirement already satisfied: charset-normalizer~=2.0.0 in /home/jens/dev/finance/FinRL/venv/lib/python3.9/site-packages (from requests<3,>2->alpaca_trade_api->finrl==0.3.1) (2.0.6)\r\n",
      "Requirement already satisfied: certifi>=2017.4.17 in /home/jens/dev/finance/FinRL/venv/lib/python3.9/site-packages (from requests<3,>2->alpaca_trade_api->finrl==0.3.1) (2021.5.30)\r\n",
      "Requirement already satisfied: aiodns>=1.1.1 in /home/jens/dev/finance/FinRL/venv/lib/python3.9/site-packages (from ccxt->finrl==0.3.1) (3.0.0)\r\n",
      "Requirement already satisfied: cryptography>=2.6.1 in /home/jens/dev/finance/FinRL/venv/lib/python3.9/site-packages (from ccxt->finrl==0.3.1) (35.0.0)\r\n",
      "Requirement already satisfied: pycares>=4.0.0 in /home/jens/dev/finance/FinRL/venv/lib/python3.9/site-packages (from aiodns>=1.1.1->ccxt->finrl==0.3.1) (4.0.0)\r\n",
      "Requirement already satisfied: cffi>=1.12 in /home/jens/dev/finance/FinRL/venv/lib/python3.9/site-packages (from cryptography>=2.6.1->ccxt->finrl==0.3.1) (1.14.6)\r\n",
      "Requirement already satisfied: pycparser in /home/jens/dev/finance/FinRL/venv/lib/python3.9/site-packages (from cffi>=1.12->cryptography>=2.6.1->ccxt->finrl==0.3.1) (2.20)\r\n",
      "Requirement already satisfied: SQLAlchemy>=1.2.8 in /home/jens/dev/finance/FinRL/venv/lib/python3.9/site-packages (from jqdatasdk->finrl==0.3.1) (1.4.25)\r\n",
      "Requirement already satisfied: thriftpy2>=0.3.9 in /home/jens/dev/finance/FinRL/venv/lib/python3.9/site-packages (from jqdatasdk->finrl==0.3.1) (0.4.14)\r\n",
      "Requirement already satisfied: pymysql>=0.7.6 in /home/jens/dev/finance/FinRL/venv/lib/python3.9/site-packages (from jqdatasdk->finrl==0.3.1) (1.0.2)\r\n",
      "Requirement already satisfied: greenlet!=0.4.17 in /home/jens/dev/finance/FinRL/venv/lib/python3.9/site-packages (from SQLAlchemy>=1.2.8->jqdatasdk->finrl==0.3.1) (1.1.2)\r\n",
      "Requirement already satisfied: ply<4.0,>=3.4 in /home/jens/dev/finance/FinRL/venv/lib/python3.9/site-packages (from thriftpy2>=0.3.9->jqdatasdk->finrl==0.3.1) (3.11)\r\n",
      "Requirement already satisfied: kiwisolver>=1.0.1 in /home/jens/dev/finance/FinRL/venv/lib/python3.9/site-packages (from matplotlib->finrl==0.3.1) (1.3.2)\r\n",
      "Requirement already satisfied: pyparsing>=2.2.1 in /home/jens/dev/finance/FinRL/venv/lib/python3.9/site-packages (from matplotlib->finrl==0.3.1) (2.4.7)\r\n",
      "Requirement already satisfied: pillow>=6.2.0 in /home/jens/dev/finance/FinRL/venv/lib/python3.9/site-packages (from matplotlib->finrl==0.3.1) (8.3.2)\r\n",
      "Requirement already satisfied: cycler>=0.10 in /home/jens/dev/finance/FinRL/venv/lib/python3.9/site-packages (from matplotlib->finrl==0.3.1) (0.10.0)\r\n",
      "Requirement already satisfied: ipython>=3.2.3 in /home/jens/dev/finance/FinRL/venv/lib/python3.9/site-packages (from pyfolio@ git+https://github.com/quantopian/pyfolio.git#egg=pyfolio-0.9.2->finrl==0.3.1) (7.28.0)\r\n",
      "Requirement already satisfied: seaborn>=0.7.1 in /home/jens/dev/finance/FinRL/venv/lib/python3.9/site-packages (from pyfolio@ git+https://github.com/quantopian/pyfolio.git#egg=pyfolio-0.9.2->finrl==0.3.1) (0.11.2)\r\n",
      "Requirement already satisfied: empyrical>=0.5.0 in /home/jens/dev/finance/FinRL/venv/lib/python3.9/site-packages (from pyfolio@ git+https://github.com/quantopian/pyfolio.git#egg=pyfolio-0.9.2->finrl==0.3.1) (0.5.5)\r\n",
      "Requirement already satisfied: pandas-datareader>=0.2 in /home/jens/dev/finance/FinRL/venv/lib/python3.9/site-packages (from empyrical>=0.5.0->pyfolio@ git+https://github.com/quantopian/pyfolio.git#egg=pyfolio-0.9.2->finrl==0.3.1) (0.10.0)\r\n",
      "Requirement already satisfied: traitlets>=4.2 in /home/jens/dev/finance/FinRL/venv/lib/python3.9/site-packages (from ipython>=3.2.3->pyfolio@ git+https://github.com/quantopian/pyfolio.git#egg=pyfolio-0.9.2->finrl==0.3.1) (5.1.0)\r\n",
      "Requirement already satisfied: decorator in /home/jens/dev/finance/FinRL/venv/lib/python3.9/site-packages (from ipython>=3.2.3->pyfolio@ git+https://github.com/quantopian/pyfolio.git#egg=pyfolio-0.9.2->finrl==0.3.1) (5.1.0)\r\n",
      "Requirement already satisfied: pickleshare in /home/jens/dev/finance/FinRL/venv/lib/python3.9/site-packages (from ipython>=3.2.3->pyfolio@ git+https://github.com/quantopian/pyfolio.git#egg=pyfolio-0.9.2->finrl==0.3.1) (0.7.5)\r\n",
      "Requirement already satisfied: backcall in /home/jens/dev/finance/FinRL/venv/lib/python3.9/site-packages (from ipython>=3.2.3->pyfolio@ git+https://github.com/quantopian/pyfolio.git#egg=pyfolio-0.9.2->finrl==0.3.1) (0.2.0)\r\n",
      "Requirement already satisfied: matplotlib-inline in /home/jens/dev/finance/FinRL/venv/lib/python3.9/site-packages (from ipython>=3.2.3->pyfolio@ git+https://github.com/quantopian/pyfolio.git#egg=pyfolio-0.9.2->finrl==0.3.1) (0.1.3)\r\n",
      "Requirement already satisfied: jedi>=0.16 in /home/jens/dev/finance/FinRL/venv/lib/python3.9/site-packages (from ipython>=3.2.3->pyfolio@ git+https://github.com/quantopian/pyfolio.git#egg=pyfolio-0.9.2->finrl==0.3.1) (0.18.0)\r\n",
      "Requirement already satisfied: prompt-toolkit!=3.0.0,!=3.0.1,<3.1.0,>=2.0.0 in /home/jens/dev/finance/FinRL/venv/lib/python3.9/site-packages (from ipython>=3.2.3->pyfolio@ git+https://github.com/quantopian/pyfolio.git#egg=pyfolio-0.9.2->finrl==0.3.1) (3.0.20)\r\n",
      "Requirement already satisfied: pexpect>4.3 in /home/jens/dev/finance/FinRL/venv/lib/python3.9/site-packages (from ipython>=3.2.3->pyfolio@ git+https://github.com/quantopian/pyfolio.git#egg=pyfolio-0.9.2->finrl==0.3.1) (4.8.0)\r\n",
      "Requirement already satisfied: pygments in /home/jens/dev/finance/FinRL/venv/lib/python3.9/site-packages (from ipython>=3.2.3->pyfolio@ git+https://github.com/quantopian/pyfolio.git#egg=pyfolio-0.9.2->finrl==0.3.1) (2.10.0)\r\n",
      "Requirement already satisfied: parso<0.9.0,>=0.8.0 in /home/jens/dev/finance/FinRL/venv/lib/python3.9/site-packages (from jedi>=0.16->ipython>=3.2.3->pyfolio@ git+https://github.com/quantopian/pyfolio.git#egg=pyfolio-0.9.2->finrl==0.3.1) (0.8.2)\r\n",
      "Requirement already satisfied: lxml in /home/jens/dev/finance/FinRL/venv/lib/python3.9/site-packages (from pandas-datareader>=0.2->empyrical>=0.5.0->pyfolio@ git+https://github.com/quantopian/pyfolio.git#egg=pyfolio-0.9.2->finrl==0.3.1) (4.6.3)\r\n",
      "Requirement already satisfied: ptyprocess>=0.5 in /home/jens/dev/finance/FinRL/venv/lib/python3.9/site-packages (from pexpect>4.3->ipython>=3.2.3->pyfolio@ git+https://github.com/quantopian/pyfolio.git#egg=pyfolio-0.9.2->finrl==0.3.1) (0.7.0)\r\n",
      "Requirement already satisfied: wcwidth in /home/jens/dev/finance/FinRL/venv/lib/python3.9/site-packages (from prompt-toolkit!=3.0.0,!=3.0.1,<3.1.0,>=2.0.0->ipython>=3.2.3->pyfolio@ git+https://github.com/quantopian/pyfolio.git#egg=pyfolio-0.9.2->finrl==0.3.1) (0.2.5)\r\n",
      "Requirement already satisfied: packaging in /home/jens/dev/finance/FinRL/venv/lib/python3.9/site-packages (from pytest->finrl==0.3.1) (21.0)\r\n",
      "Requirement already satisfied: iniconfig in /home/jens/dev/finance/FinRL/venv/lib/python3.9/site-packages (from pytest->finrl==0.3.1) (1.1.1)\r\n",
      "Requirement already satisfied: pluggy<2.0,>=0.12 in /home/jens/dev/finance/FinRL/venv/lib/python3.9/site-packages (from pytest->finrl==0.3.1) (1.0.0)\r\n",
      "Requirement already satisfied: py>=1.8.2 in /home/jens/dev/finance/FinRL/venv/lib/python3.9/site-packages (from pytest->finrl==0.3.1) (1.10.0)\r\n",
      "Requirement already satisfied: toml in /home/jens/dev/finance/FinRL/venv/lib/python3.9/site-packages (from pytest->finrl==0.3.1) (0.10.2)\r\n",
      "Requirement already satisfied: redis>=3.5.0 in /home/jens/dev/finance/FinRL/venv/lib/python3.9/site-packages (from ray[default]->finrl==0.3.1) (3.5.3)\r\n",
      "Requirement already satisfied: click>=7.0 in /home/jens/dev/finance/FinRL/venv/lib/python3.9/site-packages (from ray[default]->finrl==0.3.1) (8.0.1)\r\n",
      "Requirement already satisfied: grpcio>=1.28.1 in /home/jens/dev/finance/FinRL/venv/lib/python3.9/site-packages (from ray[default]->finrl==0.3.1) (1.41.0)\r\n",
      "Requirement already satisfied: protobuf>=3.15.3 in /home/jens/dev/finance/FinRL/venv/lib/python3.9/site-packages (from ray[default]->finrl==0.3.1) (3.17.3)\r\n",
      "Requirement already satisfied: filelock in /home/jens/dev/finance/FinRL/venv/lib/python3.9/site-packages (from ray[default]->finrl==0.3.1) (3.2.0)\r\n",
      "Requirement already satisfied: py-spy>=0.2.0 in /home/jens/dev/finance/FinRL/venv/lib/python3.9/site-packages (from ray[default]->finrl==0.3.1) (0.3.10)\r\n",
      "Requirement already satisfied: aioredis<2 in /home/jens/dev/finance/FinRL/venv/lib/python3.9/site-packages (from ray[default]->finrl==0.3.1) (1.3.1)\r\n",
      "Requirement already satisfied: prometheus-client>=0.7.1 in /home/jens/dev/finance/FinRL/venv/lib/python3.9/site-packages (from ray[default]->finrl==0.3.1) (0.11.0)\r\n",
      "Requirement already satisfied: colorful in /home/jens/dev/finance/FinRL/venv/lib/python3.9/site-packages (from ray[default]->finrl==0.3.1) (0.5.4)\r\n",
      "Requirement already satisfied: aiohttp-cors in /home/jens/dev/finance/FinRL/venv/lib/python3.9/site-packages (from ray[default]->finrl==0.3.1) (0.7.0)\r\n",
      "Requirement already satisfied: opencensus in /home/jens/dev/finance/FinRL/venv/lib/python3.9/site-packages (from ray[default]->finrl==0.3.1) (0.7.13)\r\n",
      "Requirement already satisfied: gpustat in /home/jens/dev/finance/FinRL/venv/lib/python3.9/site-packages (from ray[default]->finrl==0.3.1) (0.6.0)\r\n",
      "Requirement already satisfied: jsonschema in /home/jens/dev/finance/FinRL/venv/lib/python3.9/site-packages (from ray[default]->finrl==0.3.1) (4.0.1)\r\n",
      "Requirement already satisfied: hiredis in /home/jens/dev/finance/FinRL/venv/lib/python3.9/site-packages (from aioredis<2->ray[default]->finrl==0.3.1) (2.0.0)\r\n",
      "Requirement already satisfied: nvidia-ml-py3>=7.352.0 in /home/jens/dev/finance/FinRL/venv/lib/python3.9/site-packages (from gpustat->ray[default]->finrl==0.3.1) (7.352.0)\r\n",
      "Requirement already satisfied: psutil in /home/jens/dev/finance/FinRL/venv/lib/python3.9/site-packages (from gpustat->ray[default]->finrl==0.3.1) (5.8.0)\r\n",
      "Requirement already satisfied: blessings>=1.6 in /home/jens/dev/finance/FinRL/venv/lib/python3.9/site-packages (from gpustat->ray[default]->finrl==0.3.1) (1.7)\r\n",
      "Requirement already satisfied: pyrsistent!=0.17.0,!=0.17.1,!=0.17.2,>=0.14.0 in /home/jens/dev/finance/FinRL/venv/lib/python3.9/site-packages (from jsonschema->ray[default]->finrl==0.3.1) (0.18.0)\r\n",
      "Requirement already satisfied: opencensus-context==0.1.2 in /home/jens/dev/finance/FinRL/venv/lib/python3.9/site-packages (from opencensus->ray[default]->finrl==0.3.1) (0.1.2)\r\n",
      "Requirement already satisfied: google-api-core<2.0.0,>=1.0.0 in /home/jens/dev/finance/FinRL/venv/lib/python3.9/site-packages (from opencensus->ray[default]->finrl==0.3.1) (1.31.3)\r\n",
      "Requirement already satisfied: google-auth<2.0dev,>=1.25.0 in /home/jens/dev/finance/FinRL/venv/lib/python3.9/site-packages (from google-api-core<2.0.0,>=1.0.0->opencensus->ray[default]->finrl==0.3.1) (1.35.0)\r\n",
      "Requirement already satisfied: googleapis-common-protos<2.0dev,>=1.6.0 in /home/jens/dev/finance/FinRL/venv/lib/python3.9/site-packages (from google-api-core<2.0.0,>=1.0.0->opencensus->ray[default]->finrl==0.3.1) (1.53.0)\r\n",
      "Requirement already satisfied: cachetools<5.0,>=2.0.0 in /home/jens/dev/finance/FinRL/venv/lib/python3.9/site-packages (from google-auth<2.0dev,>=1.25.0->google-api-core<2.0.0,>=1.0.0->opencensus->ray[default]->finrl==0.3.1) (4.2.4)\r\n",
      "Requirement already satisfied: rsa<5,>=3.1.4 in /home/jens/dev/finance/FinRL/venv/lib/python3.9/site-packages (from google-auth<2.0dev,>=1.25.0->google-api-core<2.0.0,>=1.0.0->opencensus->ray[default]->finrl==0.3.1) (4.7.2)\r\n",
      "Requirement already satisfied: pyasn1-modules>=0.2.1 in /home/jens/dev/finance/FinRL/venv/lib/python3.9/site-packages (from google-auth<2.0dev,>=1.25.0->google-api-core<2.0.0,>=1.0.0->opencensus->ray[default]->finrl==0.3.1) (0.2.8)\r\n",
      "Requirement already satisfied: pyasn1<0.5.0,>=0.4.6 in /home/jens/dev/finance/FinRL/venv/lib/python3.9/site-packages (from pyasn1-modules>=0.2.1->google-auth<2.0dev,>=1.25.0->google-api-core<2.0.0,>=1.0.0->opencensus->ray[default]->finrl==0.3.1) (0.4.8)\r\n",
      "Requirement already satisfied: tabulate in /home/jens/dev/finance/FinRL/venv/lib/python3.9/site-packages (from ray[default]->finrl==0.3.1) (0.8.9)\r\n",
      "Requirement already satisfied: torch>=1.8.1 in /home/jens/dev/finance/FinRL/venv/lib/python3.9/site-packages (from stable-baselines3[extra]->finrl==0.3.1) (1.9.1)\r\n",
      "Requirement already satisfied: atari-py~=0.2.0 in /home/jens/dev/finance/FinRL/venv/lib/python3.9/site-packages (from stable-baselines3[extra]->finrl==0.3.1) (0.2.9)\r\n",
      "Requirement already satisfied: tensorboard>=2.2.0 in /home/jens/dev/finance/FinRL/venv/lib/python3.9/site-packages (from stable-baselines3[extra]->finrl==0.3.1) (2.6.0)\r\n",
      "Requirement already satisfied: opencv-python in /home/jens/dev/finance/FinRL/venv/lib/python3.9/site-packages (from stable-baselines3[extra]->finrl==0.3.1) (4.5.3.56)\r\n",
      "Requirement already satisfied: absl-py>=0.4 in /home/jens/dev/finance/FinRL/venv/lib/python3.9/site-packages (from tensorboard>=2.2.0->stable-baselines3[extra]->finrl==0.3.1) (0.14.1)\r\n",
      "Requirement already satisfied: werkzeug>=0.11.15 in /home/jens/dev/finance/FinRL/venv/lib/python3.9/site-packages (from tensorboard>=2.2.0->stable-baselines3[extra]->finrl==0.3.1) (2.0.1)\r\n",
      "Requirement already satisfied: markdown>=2.6.8 in /home/jens/dev/finance/FinRL/venv/lib/python3.9/site-packages (from tensorboard>=2.2.0->stable-baselines3[extra]->finrl==0.3.1) (3.3.4)\r\n",
      "Requirement already satisfied: tensorboard-data-server<0.7.0,>=0.6.0 in /home/jens/dev/finance/FinRL/venv/lib/python3.9/site-packages (from tensorboard>=2.2.0->stable-baselines3[extra]->finrl==0.3.1) (0.6.1)\r\n",
      "Requirement already satisfied: google-auth-oauthlib<0.5,>=0.4.1 in /home/jens/dev/finance/FinRL/venv/lib/python3.9/site-packages (from tensorboard>=2.2.0->stable-baselines3[extra]->finrl==0.3.1) (0.4.6)\r\n",
      "Requirement already satisfied: tensorboard-plugin-wit>=1.6.0 in /home/jens/dev/finance/FinRL/venv/lib/python3.9/site-packages (from tensorboard>=2.2.0->stable-baselines3[extra]->finrl==0.3.1) (1.8.0)\r\n",
      "Requirement already satisfied: requests-oauthlib>=0.7.0 in /home/jens/dev/finance/FinRL/venv/lib/python3.9/site-packages (from google-auth-oauthlib<0.5,>=0.4.1->tensorboard>=2.2.0->stable-baselines3[extra]->finrl==0.3.1) (1.3.0)\r\n",
      "Requirement already satisfied: oauthlib>=3.0.0 in /home/jens/dev/finance/FinRL/venv/lib/python3.9/site-packages (from requests-oauthlib>=0.7.0->google-auth-oauthlib<0.5,>=0.4.1->tensorboard>=2.2.0->stable-baselines3[extra]->finrl==0.3.1) (3.1.1)\r\n",
      "Requirement already satisfied: int-date>=0.1.7 in /home/jens/dev/finance/FinRL/venv/lib/python3.9/site-packages (from stockstats->finrl==0.3.1) (0.1.8)\r\n",
      "Requirement already satisfied: toolz in /home/jens/dev/finance/FinRL/venv/lib/python3.9/site-packages (from trading_calendars->finrl==0.3.1) (0.11.1)\r\n",
      "Requirement already satisfied: psycopg2-binary in /home/jens/dev/finance/FinRL/venv/lib/python3.9/site-packages (from wrds->finrl==0.3.1) (2.9.1)\r\n",
      "Requirement already satisfied: mock in /home/jens/dev/finance/FinRL/venv/lib/python3.9/site-packages (from wrds->finrl==0.3.1) (4.0.3)\r\n",
      "Requirement already satisfied: multitasking>=0.0.7 in /home/jens/dev/finance/FinRL/venv/lib/python3.9/site-packages (from yfinance->finrl==0.3.1) (0.0.9)\r\n"
     ]
    }
   ],
   "source": [
    "!pip install --upgrade ray\n",
    "!pip install dm-tree\n",
    "!pip install git+https://github.com/AI4Finance-LLC/FinRL-Library.git"
   ],
   "metadata": {
    "collapsed": false,
    "pycharm": {
     "name": "#%%\n"
    }
   }
  },
  {
   "cell_type": "markdown",
   "metadata": {
    "id": "sApkDlD9LIZv"
   },
   "source": [
    "<a id='0'></a>\n",
    "# Part 1. Problem Definition"
   ]
  },
  {
   "cell_type": "markdown",
   "metadata": {
    "id": "HjLD2TZSLKZ-"
   },
   "source": [
    "This problem is to design an automated trading solution for single stock trading. We model the stock trading process as a Markov Decision Process (MDP). We then formulate our trading goal as a maximization problem.\n",
    "\n",
    "The algorithm is trained using Deep Reinforcement Learning (DRL) algorithms and the components of the reinforcement learning environment are:\n",
    "\n",
    "\n",
    "* Action: The action space describes the allowed actions that the agent interacts with the\n",
    "environment. Normally, a ∈ A includes three actions: a ∈ {−1, 0, 1}, where −1, 0, 1 represent\n",
    "selling, holding, and buying one stock. Also, an action can be carried upon multiple shares. We use\n",
    "an action space {−k, ..., −1, 0, 1, ..., k}, where k denotes the number of shares. For example, \"Buy\n",
    "10 shares of AAPL\" or \"Sell 10 shares of AAPL\" are 10 or −10, respectively\n",
    "\n",
    "* Reward function: r(s, a, s′) is the incentive mechanism for an agent to learn a better action. The change of the portfolio value when action a is taken at state s and arriving at new state s',  i.e., r(s, a, s′) = v′ − v, where v′ and v represent the portfolio\n",
    "values at state s′ and s, respectively\n",
    "\n",
    "* State: The state space describes the observations that the agent receives from the environment. Just as a human trader needs to analyze various information before executing a trade, so\n",
    "our trading agent observes many different features to better learn in an interactive environment.\n",
    "\n",
    "* Environment: Dow 30 consituents\n",
    "\n",
    "\n",
    "The data of the single stock that we will be using for this case study is obtained from Yahoo Finance API. The data contains Open-High-Low-Close price and volume.\n"
   ]
  },
  {
   "cell_type": "markdown",
   "metadata": {
    "id": "Ffsre789LY08"
   },
   "source": [
    "<a id='1'></a>\n",
    "# Part 2. Getting Started- ASSUMES USING DOCKER, see readme for instructions"
   ]
  },
  {
   "cell_type": "markdown",
   "metadata": {
    "id": "Uy5_PTmOh1hj"
   },
   "source": [
    "<a id='1.1'></a>\n",
    "## 2.1. Add FinRL to your path. You can of course install it as a pipy package, but this is for development purposes.\n"
   ]
  },
  {
   "cell_type": "code",
   "execution_count": 9,
   "metadata": {
    "id": "mPT0ipYE28wL"
   },
   "outputs": [],
   "source": [
    "import sys\n",
    "\n",
    "sys.path.append(\"..\")"
   ]
  },
  {
   "cell_type": "code",
   "execution_count": 10,
   "metadata": {
    "colab": {
     "base_uri": "https://localhost:8080/"
    },
    "id": "yH-5pui07W74",
    "outputId": "fd0091d8-3c87-4e99-fc32-67a480a1bdcb"
   },
   "outputs": [
    {
     "name": "stdout",
     "output_type": "stream",
     "text": [
      "1.3.3\n"
     ]
    }
   ],
   "source": [
    "import pandas as pd\n",
    "print(pd.__version__)"
   ]
  },
  {
   "cell_type": "markdown",
   "metadata": {
    "id": "osBHhVysOEzi"
   },
   "source": [
    "\n",
    "<a id='1.2'></a>\n",
    "## 2.2. Check if the additional packages needed are present, if not install them. \n",
    "* Yahoo Finance API\n",
    "* pandas\n",
    "* numpy\n",
    "* matplotlib\n",
    "* stockstats\n",
    "* OpenAI gym\n",
    "* stable-baselines\n",
    "* tensorflow\n",
    "* pyfolio"
   ]
  },
  {
   "cell_type": "markdown",
   "metadata": {
    "id": "nGv01K8Sh1hn"
   },
   "source": [
    "<a id='1.3'></a>\n",
    "## 2.3. Import Packages"
   ]
  },
  {
   "cell_type": "code",
   "execution_count": 11,
   "metadata": {
    "colab": {
     "base_uri": "https://localhost:8080/"
    },
    "id": "lPqeTTwoh1hn",
    "outputId": "66f4fc56-9169-413b-afaf-943af24e405d"
   },
   "outputs": [
    {
     "ename": "TypeError",
     "evalue": "int() argument must be a string, a bytes-like object or a number, not 'NaTType'",
     "output_type": "error",
     "traceback": [
      "\u001B[0;31m---------------------------------------------------------------------------\u001B[0m",
      "\u001B[0;31mTypeError\u001B[0m                                 Traceback (most recent call last)",
      "\u001B[0;32m/tmp/ipykernel_2414179/4136722126.py\u001B[0m in \u001B[0;36m<module>\u001B[0;34m\u001B[0m\n\u001B[1;32m     14\u001B[0m \u001B[0;32mfrom\u001B[0m \u001B[0mfinrl\u001B[0m\u001B[0;34m.\u001B[0m\u001B[0mdrl_agents\u001B[0m\u001B[0;34m.\u001B[0m\u001B[0mstablebaselines3\u001B[0m\u001B[0;34m.\u001B[0m\u001B[0mmodels\u001B[0m \u001B[0;32mimport\u001B[0m \u001B[0mDRLAgent\u001B[0m\u001B[0;34m\u001B[0m\u001B[0;34m\u001B[0m\u001B[0m\n\u001B[1;32m     15\u001B[0m \u001B[0;32mfrom\u001B[0m \u001B[0mfinrl\u001B[0m\u001B[0;34m.\u001B[0m\u001B[0mdrl_agents\u001B[0m\u001B[0;34m.\u001B[0m\u001B[0mrllib\u001B[0m\u001B[0;34m.\u001B[0m\u001B[0mmodels\u001B[0m \u001B[0;32mimport\u001B[0m \u001B[0mDRLAgent\u001B[0m \u001B[0;32mas\u001B[0m \u001B[0mDRLAgent_rllib\u001B[0m\u001B[0;34m\u001B[0m\u001B[0;34m\u001B[0m\u001B[0m\n\u001B[0;32m---> 16\u001B[0;31m \u001B[0;32mfrom\u001B[0m \u001B[0mfinrl\u001B[0m\u001B[0;34m.\u001B[0m\u001B[0mneo_finrl\u001B[0m\u001B[0;34m.\u001B[0m\u001B[0mdata_processor\u001B[0m \u001B[0;32mimport\u001B[0m \u001B[0mDataProcessor\u001B[0m\u001B[0;34m\u001B[0m\u001B[0;34m\u001B[0m\u001B[0m\n\u001B[0m\u001B[1;32m     17\u001B[0m \u001B[0;34m\u001B[0m\u001B[0m\n\u001B[1;32m     18\u001B[0m \u001B[0;34m\u001B[0m\u001B[0m\n",
      "\u001B[0;32m~/dev/finance/FinRL/finrl/neo_finrl/data_processor.py\u001B[0m in \u001B[0;36m<module>\u001B[0;34m\u001B[0m\n\u001B[0;32m----> 1\u001B[0;31m \u001B[0;32mfrom\u001B[0m \u001B[0mfinrl\u001B[0m\u001B[0;34m.\u001B[0m\u001B[0mneo_finrl\u001B[0m\u001B[0;34m.\u001B[0m\u001B[0mdata_processors\u001B[0m\u001B[0;34m.\u001B[0m\u001B[0mprocessor_alpaca\u001B[0m \u001B[0;32mimport\u001B[0m \u001B[0mAlpacaProcessor\u001B[0m \u001B[0;32mas\u001B[0m \u001B[0mAlpaca\u001B[0m\u001B[0;34m\u001B[0m\u001B[0;34m\u001B[0m\u001B[0m\n\u001B[0m\u001B[1;32m      2\u001B[0m \u001B[0;32mfrom\u001B[0m \u001B[0mfinrl\u001B[0m\u001B[0;34m.\u001B[0m\u001B[0mneo_finrl\u001B[0m\u001B[0;34m.\u001B[0m\u001B[0mdata_processors\u001B[0m\u001B[0;34m.\u001B[0m\u001B[0mprocessor_wrds\u001B[0m \u001B[0;32mimport\u001B[0m \u001B[0mWrdsProcessor\u001B[0m \u001B[0;32mas\u001B[0m \u001B[0mWrds\u001B[0m\u001B[0;34m\u001B[0m\u001B[0;34m\u001B[0m\u001B[0m\n\u001B[1;32m      3\u001B[0m \u001B[0;32mfrom\u001B[0m \u001B[0mfinrl\u001B[0m\u001B[0;34m.\u001B[0m\u001B[0mneo_finrl\u001B[0m\u001B[0;34m.\u001B[0m\u001B[0mdata_processors\u001B[0m\u001B[0;34m.\u001B[0m\u001B[0mprocessor_yahoofinance\u001B[0m \u001B[0;32mimport\u001B[0m \u001B[0mYahooFinanceProcessor\u001B[0m \u001B[0;32mas\u001B[0m \u001B[0mYahooFinance\u001B[0m\u001B[0;34m\u001B[0m\u001B[0;34m\u001B[0m\u001B[0m\n\u001B[1;32m      4\u001B[0m \u001B[0;32mimport\u001B[0m \u001B[0mpandas\u001B[0m \u001B[0;32mas\u001B[0m \u001B[0mpd\u001B[0m\u001B[0;34m\u001B[0m\u001B[0;34m\u001B[0m\u001B[0m\n\u001B[1;32m      5\u001B[0m \u001B[0;32mimport\u001B[0m \u001B[0mnumpy\u001B[0m \u001B[0;32mas\u001B[0m \u001B[0mnp\u001B[0m\u001B[0;34m\u001B[0m\u001B[0;34m\u001B[0m\u001B[0m\n",
      "\u001B[0;32m~/dev/finance/FinRL/finrl/neo_finrl/data_processors/processor_alpaca.py\u001B[0m in \u001B[0;36m<module>\u001B[0;34m\u001B[0m\n\u001B[1;32m      3\u001B[0m \u001B[0;32mimport\u001B[0m \u001B[0mnumpy\u001B[0m \u001B[0;32mas\u001B[0m \u001B[0mnp\u001B[0m\u001B[0;34m\u001B[0m\u001B[0;34m\u001B[0m\u001B[0m\n\u001B[1;32m      4\u001B[0m \u001B[0;32mfrom\u001B[0m \u001B[0mstockstats\u001B[0m \u001B[0;32mimport\u001B[0m \u001B[0mStockDataFrame\u001B[0m \u001B[0;32mas\u001B[0m \u001B[0mSdf\u001B[0m\u001B[0;34m\u001B[0m\u001B[0;34m\u001B[0m\u001B[0m\n\u001B[0;32m----> 5\u001B[0;31m \u001B[0;32mimport\u001B[0m \u001B[0mtrading_calendars\u001B[0m \u001B[0;32mas\u001B[0m \u001B[0mtc\u001B[0m\u001B[0;34m\u001B[0m\u001B[0;34m\u001B[0m\u001B[0m\n\u001B[0m\u001B[1;32m      6\u001B[0m \u001B[0;32mimport\u001B[0m \u001B[0mpytz\u001B[0m\u001B[0;34m\u001B[0m\u001B[0;34m\u001B[0m\u001B[0m\n\u001B[1;32m      7\u001B[0m \u001B[0;34m\u001B[0m\u001B[0m\n",
      "\u001B[0;32m~/dev/finance/FinRL/venv/lib/python3.9/site-packages/trading_calendars/__init__.py\u001B[0m in \u001B[0;36m<module>\u001B[0;34m\u001B[0m\n\u001B[1;32m     14\u001B[0m \u001B[0;31m# limitations under the License.\u001B[0m\u001B[0;34m\u001B[0m\u001B[0;34m\u001B[0m\u001B[0;34m\u001B[0m\u001B[0m\n\u001B[1;32m     15\u001B[0m \u001B[0;34m\u001B[0m\u001B[0m\n\u001B[0;32m---> 16\u001B[0;31m \u001B[0;32mfrom\u001B[0m \u001B[0;34m.\u001B[0m\u001B[0mtrading_calendar\u001B[0m \u001B[0;32mimport\u001B[0m \u001B[0mTradingCalendar\u001B[0m\u001B[0;34m\u001B[0m\u001B[0;34m\u001B[0m\u001B[0m\n\u001B[0m\u001B[1;32m     17\u001B[0m from .calendar_utils import (\n\u001B[1;32m     18\u001B[0m     \u001B[0mclear_calendars\u001B[0m\u001B[0;34m,\u001B[0m\u001B[0;34m\u001B[0m\u001B[0;34m\u001B[0m\u001B[0m\n",
      "\u001B[0;32m~/dev/finance/FinRL/venv/lib/python3.9/site-packages/trading_calendars/trading_calendar.py\u001B[0m in \u001B[0;36m<module>\u001B[0;34m\u001B[0m\n\u001B[1;32m     31\u001B[0m \u001B[0;32mimport\u001B[0m \u001B[0mtoolz\u001B[0m\u001B[0;34m\u001B[0m\u001B[0;34m\u001B[0m\u001B[0m\n\u001B[1;32m     32\u001B[0m \u001B[0;34m\u001B[0m\u001B[0m\n\u001B[0;32m---> 33\u001B[0;31m from .calendar_helpers import (\n\u001B[0m\u001B[1;32m     34\u001B[0m     \u001B[0mNP_NAT\u001B[0m\u001B[0;34m,\u001B[0m\u001B[0;34m\u001B[0m\u001B[0;34m\u001B[0m\u001B[0m\n\u001B[1;32m     35\u001B[0m     \u001B[0mcompute_all_minutes\u001B[0m\u001B[0;34m,\u001B[0m\u001B[0;34m\u001B[0m\u001B[0;34m\u001B[0m\u001B[0m\n",
      "\u001B[0;32m~/dev/finance/FinRL/venv/lib/python3.9/site-packages/trading_calendars/calendar_helpers.py\u001B[0m in \u001B[0;36m<module>\u001B[0;34m\u001B[0m\n\u001B[1;32m      4\u001B[0m \u001B[0mNANOSECONDS_PER_MINUTE\u001B[0m \u001B[0;34m=\u001B[0m \u001B[0mint\u001B[0m\u001B[0;34m(\u001B[0m\u001B[0;36m6e10\u001B[0m\u001B[0;34m)\u001B[0m\u001B[0;34m\u001B[0m\u001B[0;34m\u001B[0m\u001B[0m\n\u001B[1;32m      5\u001B[0m \u001B[0;34m\u001B[0m\u001B[0m\n\u001B[0;32m----> 6\u001B[0;31m \u001B[0mNP_NAT\u001B[0m \u001B[0;34m=\u001B[0m \u001B[0mnp\u001B[0m\u001B[0;34m.\u001B[0m\u001B[0marray\u001B[0m\u001B[0;34m(\u001B[0m\u001B[0;34m[\u001B[0m\u001B[0mpd\u001B[0m\u001B[0;34m.\u001B[0m\u001B[0mNaT\u001B[0m\u001B[0;34m]\u001B[0m\u001B[0;34m,\u001B[0m \u001B[0mdtype\u001B[0m\u001B[0;34m=\u001B[0m\u001B[0mnp\u001B[0m\u001B[0;34m.\u001B[0m\u001B[0mint64\u001B[0m\u001B[0;34m)\u001B[0m\u001B[0;34m[\u001B[0m\u001B[0;36m0\u001B[0m\u001B[0;34m]\u001B[0m\u001B[0;34m\u001B[0m\u001B[0;34m\u001B[0m\u001B[0m\n\u001B[0m\u001B[1;32m      7\u001B[0m \u001B[0;34m\u001B[0m\u001B[0m\n\u001B[1;32m      8\u001B[0m \u001B[0;34m\u001B[0m\u001B[0m\n",
      "\u001B[0;31mTypeError\u001B[0m: int() argument must be a string, a bytes-like object or a number, not 'NaTType'"
     ]
    }
   ],
   "source": [
    "import pandas as pd\n",
    "import numpy as np\n",
    "import matplotlib\n",
    "import matplotlib.pyplot as plt\n",
    "# matplotlib.use('Agg')\n",
    "import datetime\n",
    "\n",
    "%matplotlib inline\n",
    "from finrl.apps import config\n",
    "from finrl.neo_finrl.preprocessor.yahoodownloader import YahooDownloader\n",
    "from finrl.neo_finrl.preprocessor.preprocessors import FeatureEngineer, data_split\n",
    "from finrl.neo_finrl.env_stock_trading.env_stocktrading import StockTradingEnv\n",
    "from finrl.neo_finrl.env_stock_trading.env_stocktrading_np import StockTradingEnv as StockTradingEnv_numpy\n",
    "from finrl.drl_agents.stablebaselines3.models import DRLAgent\n",
    "from finrl.drl_agents.rllib.models import DRLAgent as DRLAgent_rllib\n",
    "from finrl.neo_finrl.data_processor import DataProcessor\n",
    "\n",
    "\n",
    "from finrl.plot import backtest_stats, backtest_plot, get_daily_return, get_baseline\n",
    "\n",
    "\n"
   ]
  },
  {
   "cell_type": "markdown",
   "metadata": {
    "id": "T2owTj985RW4"
   },
   "source": [
    "<a id='1.4'></a>\n",
    "## 2.4. Create Folders"
   ]
  },
  {
   "cell_type": "code",
   "execution_count": null,
   "metadata": {
    "id": "w9A8CN5R5PuZ"
   },
   "outputs": [],
   "source": [
    "import os\n",
    "if not os.path.exists(\"./\" + config.DATA_SAVE_DIR):\n",
    "    os.makedirs(\"./\" + config.DATA_SAVE_DIR)\n",
    "if not os.path.exists(\"./\" + config.TRAINED_MODEL_DIR):\n",
    "    os.makedirs(\"./\" + config.TRAINED_MODEL_DIR)\n",
    "if not os.path.exists(\"./\" + config.TENSORBOARD_LOG_DIR):\n",
    "    os.makedirs(\"./\" + config.TENSORBOARD_LOG_DIR)\n",
    "if not os.path.exists(\"./\" + config.RESULTS_DIR):\n",
    "    os.makedirs(\"./\" + config.RESULTS_DIR)"
   ]
  },
  {
   "cell_type": "markdown",
   "metadata": {
    "id": "A289rQWMh1hq"
   },
   "source": [
    "<a id='2'></a>\n",
    "# Part 3. Download Data\n",
    "Yahoo Finance is a website that provides stock data, financial news, financial reports, etc. All the data provided by Yahoo Finance is free.\n",
    "* FinRL uses a class **YahooDownloader** to fetch data from Yahoo Finance API\n",
    "* Call Limit: Using the Public API (without authentication), you are limited to 2,000 requests per hour per IP (or up to a total of 48,000 requests a day).\n"
   ]
  },
  {
   "cell_type": "markdown",
   "metadata": {
    "id": "NPeQ7iS-LoMm"
   },
   "source": [
    "\n",
    "\n",
    "-----\n",
    "class YahooDownloader:\n",
    "    Provides methods for retrieving daily stock data from\n",
    "    Yahoo Finance API\n",
    "\n",
    "    Attributes\n",
    "    ----------\n",
    "        start_date : str\n",
    "            start date of the data (modified from config.py)\n",
    "        end_date : str\n",
    "            end date of the data (modified from config.py)\n",
    "        ticker_list : list\n",
    "            a list of stock tickers (modified from config.py)\n",
    "\n",
    "    Methods\n",
    "    -------\n",
    "    fetch_data()\n",
    "        Fetches data from yahoo API\n"
   ]
  },
  {
   "cell_type": "code",
   "execution_count": null,
   "metadata": {
    "colab": {
     "base_uri": "https://localhost:8080/",
     "height": 35
    },
    "id": "h3XJnvrbLp-C",
    "outputId": "f4ced262-1040-409c-fef9-b24fabce0677"
   },
   "outputs": [],
   "source": [
    "# from config.py start_date is a string\n",
    "config.START_DATE"
   ]
  },
  {
   "cell_type": "code",
   "execution_count": null,
   "metadata": {
    "colab": {
     "base_uri": "https://localhost:8080/",
     "height": 35
    },
    "id": "FUnY8WEfLq3C",
    "outputId": "92ef5b70-f693-4311-8e28-504ed92036f2"
   },
   "outputs": [],
   "source": [
    "# from config.py end_date is a string\n",
    "config.END_DATE"
   ]
  },
  {
   "cell_type": "code",
   "execution_count": null,
   "metadata": {
    "colab": {
     "base_uri": "https://localhost:8080/"
    },
    "id": "JzqRRTOX6aFu",
    "outputId": "b69b9fbe-c834-4b00-c2c4-14ab25c247c0"
   },
   "outputs": [],
   "source": [
    "print(config.DOW_30_TICKER)"
   ]
  },
  {
   "cell_type": "code",
   "execution_count": null,
   "metadata": {
    "colab": {
     "base_uri": "https://localhost:8080/"
    },
    "id": "yCKm4om-s9kE",
    "outputId": "d1437148-bed1-4717-99c3-0d3a16629d21"
   },
   "outputs": [],
   "source": [
    "df = YahooDownloader(start_date = '2009-01-01',\n",
    "                     end_date = '2021-01-01',\n",
    "                     ticker_list = config.DOW_30_TICKER).fetch_data()"
   ]
  },
  {
   "cell_type": "code",
   "execution_count": null,
   "metadata": {
    "colab": {
     "base_uri": "https://localhost:8080/"
    },
    "id": "CV3HrZHLh1hy",
    "outputId": "537e0177-d6e3-4faa-d218-e2ca0c7ad2eb"
   },
   "outputs": [],
   "source": [
    "df.shape"
   ]
  },
  {
   "cell_type": "code",
   "execution_count": null,
   "metadata": {
    "colab": {
     "base_uri": "https://localhost:8080/",
     "height": 204
    },
    "id": "4hYkeaPiICHS",
    "outputId": "eae33bae-79ad-4c88-fc93-0533e6f30dcc"
   },
   "outputs": [],
   "source": [
    "df.sort_values(['date','tic'],ignore_index=True).head()"
   ]
  },
  {
   "cell_type": "markdown",
   "metadata": {
    "id": "uqC6c40Zh1iH"
   },
   "source": [
    "# Part 4: Preprocess Data\n",
    "Data preprocessing is a crucial step for training a high quality machine learning model. We need to check for missing data and do feature engineering in order to convert the data into a model-ready state.\n",
    "* Add technical indicators. In practical trading, various information needs to be taken into account, for example the historical stock prices, current holding shares, technical indicators, etc. In this article, we demonstrate two trend-following technical indicators: MACD and RSI.\n",
    "* Add turbulence index. Risk-aversion reflects whether an investor will choose to preserve the capital. It also influences one's trading strategy when facing different market volatility level. To control the risk in a worst-case scenario, such as financial crisis of 2007–2008, FinRL employs the financial turbulence index that measures extreme asset price fluctuation."
   ]
  },
  {
   "cell_type": "code",
   "execution_count": null,
   "metadata": {
    "colab": {
     "base_uri": "https://localhost:8080/"
    },
    "collapsed": false,
    "id": "ri1OkRF-7W7-",
    "jupyter": {
     "outputs_hidden": false
    },
    "outputId": "f80830ef-8f46-4cf6-fc37-8dad69422668",
    "pycharm": {
     "name": "#%%\n"
    }
   },
   "outputs": [],
   "source": [
    "fe = FeatureEngineer(\n",
    "                    use_technical_indicator=True,\n",
    "                    tech_indicator_list = config.TECHNICAL_INDICATORS_LIST,\n",
    "                    use_turbulence=True,\n",
    "                    user_defined_feature = False)\n",
    "\n",
    "processed = fe.preprocess_data(df)"
   ]
  },
  {
   "cell_type": "code",
   "execution_count": null,
   "metadata": {
    "colab": {
     "base_uri": "https://localhost:8080/",
     "height": 532
    },
    "id": "grvhGJJII3Xn",
    "outputId": "abc946cd-f470-4e00-c952-e66cd8322bb0"
   },
   "outputs": [],
   "source": [
    "processed.sort_values(['date','tic'],ignore_index=True).head(10)"
   ]
  },
  {
   "cell_type": "markdown",
   "metadata": {
    "id": "-QsYaY0Dh1iw"
   },
   "source": [
    "<a id='4'></a>\n",
    "# Part 5. Design Environment\n",
    "Considering the stochastic and interactive nature of the automated stock trading tasks, a financial task is modeled as a **Markov Decision Process (MDP)** problem. The training process involves observing stock price change, taking an action and reward's calculation to have the agent adjusting its strategy accordingly. By interacting with the environment, the trading agent will derive a trading strategy with the maximized rewards as time proceeds.\n",
    "\n",
    "Our trading environments, based on OpenAI Gym framework, simulate live stock markets with real market data according to the principle of time-driven simulation.\n",
    "\n",
    "The action space describes the allowed actions that the agent interacts with the environment. Normally, action a includes three actions: {-1, 0, 1}, where -1, 0, 1 represent selling, holding, and buying one share. Also, an action can be carried upon multiple shares. We use an action space {-k,…,-1, 0, 1, …, k}, where k denotes the number of shares to buy and -k denotes the number of shares to sell. For example, \"Buy 10 shares of AAPL\" or \"Sell 10 shares of AAPL\" are 10 or -10, respectively. The continuous action space needs to be normalized to [-1, 1], since the policy is defined on a Gaussian distribution, which needs to be normalized and symmetric."
   ]
  },
  {
   "cell_type": "markdown",
   "metadata": {
    "id": "5TOhcryx44bb"
   },
   "source": [
    "## Training data split: 2009-01-01 to 2018-12-31\n",
    "## Trade data split: 2019-01-01 to 2020-09-30"
   ]
  },
  {
   "cell_type": "code",
   "execution_count": null,
   "metadata": {
    "colab": {
     "base_uri": "https://localhost:8080/"
    },
    "id": "W0qaVGjLtgbI",
    "outputId": "6d0b9f69-fc8d-47b2-c6f5-9f53f4d403eb"
   },
   "outputs": [],
   "source": [
    "train = data_split(processed, '2009-01-01','2019-01-01')\n",
    "trade = data_split(processed, '2019-01-01','2021-01-01')\n",
    "print(len(train))\n",
    "print(len(trade))"
   ]
  },
  {
   "cell_type": "code",
   "execution_count": null,
   "metadata": {
    "colab": {
     "base_uri": "https://localhost:8080/",
     "height": 290
    },
    "id": "p52zNCOhTtLR",
    "outputId": "62da34f9-3c83-4f30-bd3c-0ada060c1248"
   },
   "outputs": [],
   "source": [
    "train.head()"
   ]
  },
  {
   "cell_type": "code",
   "execution_count": null,
   "metadata": {
    "colab": {
     "base_uri": "https://localhost:8080/",
     "height": 310
    },
    "id": "k9zU9YaTTvFq",
    "outputId": "e2b20e70-f29b-4035-8fcc-08aa41098f79"
   },
   "outputs": [],
   "source": [
    "trade.head()"
   ]
  },
  {
   "cell_type": "code",
   "execution_count": null,
   "metadata": {
    "colab": {
     "base_uri": "https://localhost:8080/"
    },
    "id": "zYN573SOHhxG",
    "outputId": "4c06c43b-e25a-48e6-b7d2-4d59201a0775"
   },
   "outputs": [],
   "source": [
    "config.TECHNICAL_INDICATORS_LIST"
   ]
  },
  {
   "cell_type": "code",
   "execution_count": null,
   "metadata": {
    "id": "hy_T5IzD7W8A"
   },
   "outputs": [],
   "source": [
    "import numpy as np\n",
    "import pandas as pd\n",
    "from gym.utils import seeding\n",
    "import gym\n",
    "from gym import spaces\n",
    "import matplotlib\n",
    "from copy import deepcopy\n",
    "\n",
    "matplotlib.use(\"Agg\")\n",
    "import matplotlib.pyplot as plt\n",
    "import pickle\n",
    "from stable_baselines3.common.vec_env import DummyVecEnv\n",
    "import numpy as np\n",
    "import pandas as pd\n",
    "from gym.utils import seeding\n",
    "import gym\n",
    "from gym import spaces\n",
    "import matplotlib\n",
    "\n",
    "matplotlib.use(\"Agg\")\n",
    "import matplotlib.pyplot as plt\n",
    "import pickle\n",
    "from stable_baselines3.common.vec_env import DummyVecEnv, SubprocVecEnv\n",
    "from stable_baselines3.common import logger\n",
    "\n",
    "class StockTradingEnvV2(gym.Env):\n",
    "    \n",
    "    \"\"\"\n",
    "    A stock trading environment for OpenAI gym\n",
    "    Parameters:\n",
    "    state space: {start_cash, <owned_shares>, for s in stocks{<stock.values>}, }\n",
    "        df (pandas.DataFrame): Dataframe containing data\n",
    "        transaction_cost (float): cost for buying or selling shares\n",
    "        hmax (int): max number of share purchases allowed per asset\n",
    "        turbulence_threshold (float): Maximum turbulence allowed in market for purchases to occur. If exceeded, positions are liquidated\n",
    "        print_verbosity(int): When iterating (step), how often to print stats about state of env\n",
    "        reward_scaling (float): Scaling value to multiply reward by at each step. \n",
    "        initial_amount: (int, float): Amount of cash initially available\n",
    "        daily_information_columns (list(str)): Columns to use when building state space from the dataframe. \n",
    "        out_of_cash_penalty (int, float): Penalty to apply if the algorithm runs out of cash\n",
    "    \n",
    "\n",
    "\n",
    "    tests:\n",
    "        after reset, static strategy should result in same metrics\n",
    "\n",
    "        buy zero should result in no costs, no assets purchased\n",
    "        given no change in prices, no change in asset values\n",
    "    \"\"\"\n",
    "    metadata = {\"render.modes\": [\"human\"]}\n",
    "\n",
    "    def __init__(\n",
    "        self,\n",
    "        df,\n",
    "        transaction_cost_pct=3e-3,\n",
    "        date_col_name=\"date\",\n",
    "        hmax=10,\n",
    "        turbulence_threshold=None,\n",
    "        print_verbosity=10,\n",
    "        reward_scaling=1e-4,\n",
    "        initial_amount=1e6,\n",
    "        daily_information_cols=[\"open\", \"close\", \"high\", \"low\", \"volume\"],\n",
    "        out_of_cash_penalty=None,\n",
    "        cache_indicator_data = True\n",
    "    ):\n",
    "        self.df = df\n",
    "        self.stock_col = \"tic\"\n",
    "        self.assets = df[self.stock_col].unique()\n",
    "        self.dates = df[date_col_name].sort_values().unique()\n",
    "        self.df = self.df.set_index(date_col_name)\n",
    "        self.hmax = hmax\n",
    "        self.initial_amount = initial_amount\n",
    "        if out_of_cash_penalty is None:\n",
    "            out_of_cash_penalty=-initial_amount*0.5\n",
    "        self.out_of_cash_penalty = out_of_cash_penalty\n",
    "        self.print_verbosity = print_verbosity\n",
    "        self.transaction_cost_pct = transaction_cost_pct\n",
    "        self.reward_scaling = reward_scaling\n",
    "        self.daily_information_cols = daily_information_cols\n",
    "        self.close_index = self.daily_information_cols.index(\"close\")\n",
    "        self.state_space = (\n",
    "            1 + len(self.assets) + len(self.assets) * len(self.daily_information_cols)\n",
    "        )\n",
    "        self.action_space = spaces.Box(low=-1, high=1, shape=(len(self.assets),))\n",
    "        self.observation_space = spaces.Box(\n",
    "            low=-np.inf, high=np.inf, shape=(self.state_space,)\n",
    "        )\n",
    "        self.episode = -1  # initialize so we can call reset\n",
    "        self.seed()\n",
    "        self.episode_history = []\n",
    "        self.printed_header = False\n",
    "        self.cache_indicator_data = cache_indicator_data\n",
    "        self.cached_data = None\n",
    "        if self.cache_indicator_data:\n",
    "            print(\"caching data\")\n",
    "            self.cached_data = [self.get_date_vector(i) for i, _ in enumerate(self.dates)]\n",
    "            print(\"data cached!\")\n",
    "        \n",
    "\n",
    "    def seed(self):\n",
    "        pass\n",
    "\n",
    "\n",
    "    def reset(self):\n",
    "        self.sum_trades = 0\n",
    "        self.date_index = 0\n",
    "        self.episode += 1\n",
    "        self.actions_memory = []\n",
    "        self.state_memory = []\n",
    "        self.account_information = {\n",
    "            \"cash\": [],\n",
    "            \"asset_value\": [],\n",
    "            \"total_assets\": [],\n",
    "            'reward': []\n",
    "        }\n",
    "        self.state_memory.append(\n",
    "            np.array(\n",
    "                [self.initial_amount]\n",
    "                + [0] * len(self.assets)\n",
    "                + self.get_date_vector(self.date_index)\n",
    "            )\n",
    "        )\n",
    "        return [0 for _ in range(self.state_space)]\n",
    "\n",
    "    def get_date_vector(self, date, cols=None):\n",
    "        if (cols is None) and (self.cached_data is not None):\n",
    "            return self.cached_data[date]\n",
    "        else:\n",
    "            date = self.dates[date]\n",
    "            if cols is None:\n",
    "                cols = self.daily_information_cols\n",
    "            trunc_df = self.df.loc[date]\n",
    "            v = []\n",
    "            for a in self.assets:\n",
    "                subset = trunc_df[trunc_df[self.stock_col] == a]\n",
    "                v += subset.loc[date, cols].tolist()\n",
    "            assert len(v) == len(self.assets) * len(cols)\n",
    "            return v\n",
    "    \n",
    "    def log_step(self, reason, terminal_reward=None):\n",
    "        if terminal_reward is None:\n",
    "            terminal_reward = self.account_information['reward'][-1]\n",
    "        cash_pct = self.account_information['cash'][-1]/self.account_information['total_assets'][-1]\n",
    "        rec = [self.episode, self.date_index, reason, f\"${int(self.account_information['total_assets'][-1])}\",f\"${terminal_reward:0.2f}\", f\"{cash_pct*100:0.2f}%\"]\n",
    "\n",
    "        self.episode_history.append(rec)\n",
    "        print(self.template.format(*rec))\n",
    "\n",
    "    def step(self, actions):\n",
    "        #print header only first time\n",
    "        if self.printed_header is False:\n",
    "            self.template = \"{0:8}|{1:10}|{2:15}|{3:7}|{4:10}|{5:10}\" # column widths: 8, 10, 15, 7, 10\n",
    "            print(self.template.format(\"EPISODE\", \"STEPS\", \"TERMINAL_REASON\", \"TOT_ASSETS\", \"TERMINAL_REWARD_unsc\", \"CASH_PCT\"))\n",
    "            self.printed_header = True\n",
    "\n",
    "        # define terminal function in scope so we can do something about the cycle being over\n",
    "        def return_terminal(reason='Last Date', extra_reward=0):\n",
    "\n",
    "            state = self.state_memory[-1]\n",
    "            reward = 0\n",
    "            reward += extra_reward\n",
    "            self.log_step(reason = reason, terminal_reward= reward)\n",
    "            reward = reward*self.reward_scaling\n",
    "            # Add outputs to logger interface\n",
    "            reward_pct = self.account_information['total_assets'][-1]/self.initial_amount\n",
    "            '''logger.record(\"environment/total_reward_pct\", (reward_pct-1)*100)\n",
    "            logger.record(\"environment/daily_trades\", self.sum_trades/self.date_index)\n",
    "            logger.record(\"environment/completed_steps\", self.date_index)\n",
    "            logger.record(\"environment/sum_rewards\", np.sum(self.account_information['reward']))'''\n",
    "            return state, reward, True, {}\n",
    "\n",
    "        # print if it's time.\n",
    "        if (self.date_index + 1) % self.print_verbosity == 0:\n",
    "            self.log_step(reason = 'update')\n",
    "\n",
    "        #if we're at the end\n",
    "        if self.date_index == len(self.dates) - 1:\n",
    "            #if we hit the end, set reward to total gains (or losses)\n",
    "            terminal_reward = self.account_information['total_assets'][-1]-self.initial_amount\n",
    "            return return_terminal(extra_reward = terminal_reward)\n",
    "        else:\n",
    "            begin_cash = self.state_memory[-1][0]\n",
    "            holdings = self.state_memory[-1][1 : len(self.assets) + 1]\n",
    "            assert (min(holdings)>=0)\n",
    "            closings = np.array(self.get_date_vector(self.date_index, cols=[\"close\"]))\n",
    "\n",
    "            # compute current value of holdings\n",
    "            asset_value = np.dot(holdings, closings)\n",
    "\n",
    "            # reward is (cash + assets) - (cash_last_step + assets_last_step)\n",
    "            if self.date_index==0:\n",
    "                reward = 0\n",
    "            else:\n",
    "                reward = (\n",
    "                    begin_cash + asset_value - self.account_information[\"total_assets\"][-1]\n",
    "                )\n",
    "\n",
    "            # log the values of cash, assets, and total assets\n",
    "            self.account_information[\"cash\"].append(begin_cash)\n",
    "            self.account_information[\"asset_value\"].append(asset_value)\n",
    "            self.account_information[\"total_assets\"].append(begin_cash + asset_value)\n",
    "            self.account_information['reward'].append(reward)\n",
    "\n",
    "            # multiply action values by our scalar multiplier and save\n",
    "            actions = actions * self.hmax\n",
    "            self.actions_memory.append(actions)\n",
    "\n",
    "            # clip actions so we can't sell more assets than we hold\n",
    "            actions = np.maximum(actions, -np.array(holdings))\n",
    "            self.sum_trades += np.sum(np.abs(actions))\n",
    "\n",
    "            # compute our proceeds from sales, and add to cash\n",
    "            sells = -np.clip(actions, -np.inf, 0)\n",
    "            proceeds = np.dot(sells, closings)\n",
    "            costs = proceeds * self.transaction_cost_pct\n",
    "            coh = begin_cash + proceeds\n",
    "\n",
    "            # compute the cost of our buys\n",
    "            buys = np.clip(actions, 0, np.inf)\n",
    "            spend = np.dot(buys, closings)\n",
    "            costs += spend * self.transaction_cost_pct\n",
    "\n",
    "            # if we run out of cash, end the cycle and penalize\n",
    "            if (spend + costs) > coh:\n",
    "                return return_terminal(reason = 'CASH SHORTAGE',\n",
    "                    extra_reward=self.out_of_cash_penalty,\n",
    "                )\n",
    "\n",
    "            # verify we didn't do anything impossible here\n",
    "            assert (spend + costs) <= coh\n",
    "\n",
    "            # update our holdings\n",
    "            coh = coh - spend - costs\n",
    "            holdings_updated = holdings + actions\n",
    "            self.date_index += 1\n",
    "            state = (\n",
    "                [coh] + list(holdings_updated) + self.get_date_vector(self.date_index)\n",
    "            )\n",
    "            self.state_memory.append(state)\n",
    "            reward = reward * self.reward_scaling\n",
    "            return state, reward, False, {}\n",
    "\n",
    "    def get_sb_env(self):\n",
    "        e = DummyVecEnv([lambda: self])\n",
    "        obs = e.reset()\n",
    "        return e, obs\n",
    "    \n",
    "    def get_multiproc_env(self, n = 10):\n",
    "        def get_self():\n",
    "            return deepcopy(self)\n",
    "        e = SubprocVecEnv([get_self for _ in range(n)], start_method = 'fork')\n",
    "        obs = e.reset()\n",
    "        return e, obs\n",
    "\n",
    "    def save_asset_memory(self):\n",
    "        self.account_information[\"date\"] = self.dates[: len(self.account_information['cash'])]\n",
    "        return pd.DataFrame(self.account_information)\n",
    "\n",
    "    def save_action_memory(self):\n",
    "        return pd.DataFrame(\n",
    "            {\"date\": self.dates[: self.date_index], \"actions\": self.actions_memory}\n",
    "        )\n",
    "\n"
   ]
  },
  {
   "cell_type": "code",
   "execution_count": null,
   "metadata": {
    "colab": {
     "base_uri": "https://localhost:8080/"
    },
    "id": "dzCOhnBM7W8E",
    "outputId": "fefdf653-10f8-4046-93c7-a64d951c74df"
   },
   "outputs": [],
   "source": [
    "print(StockTradingEnvV2.__doc__)"
   ]
  },
  {
   "cell_type": "markdown",
   "metadata": {
    "id": "Q2zqII8rMIqn",
    "outputId": "8a2c943b-1be4-4b8d-b64f-666e0852b7e6"
   },
   "source": [
    "#### state space\n",
    "The state space of the observation is as follows \n",
    "\n",
    "`start_cash, <owned_shares_of_n_assets>, <<indicator_i_for_asset_j> for j in assets>`\n",
    "\n",
    "indicators are any daily measurement you can achieve. Common ones are 'volume', 'open' 'close' 'high', 'low'.\n",
    "However, you can add these as needed, \n",
    "The feature engineer adds indicators, and you can add your own as well. \n"
   ]
  },
  {
   "cell_type": "code",
   "execution_count": null,
   "metadata": {
    "colab": {
     "base_uri": "https://localhost:8080/"
    },
    "id": "AWyp84Ltto19",
    "outputId": "d3062963-ac6a-45e5-e08f-d8bf848b160b"
   },
   "outputs": [],
   "source": [
    "information_cols = ['open', 'high', 'low', 'close', 'volume', 'day', 'macd', 'rsi_30', 'cci_30', 'dx_30', 'turbulence']\n",
    "\n",
    "e_train_gym = StockTradingEnvV2(df = train, \n",
    "                              hmax = 100, \n",
    "                              out_of_cash_penalty=-1e6,\n",
    "                              daily_information_cols = information_cols,\n",
    "                              print_verbosity = 500)"
   ]
  },
  {
   "cell_type": "markdown",
   "metadata": {
    "id": "64EoqOrQjiVf"
   },
   "source": [
    "## Environment for Training\n",
    "There are two available environments. The multiprocessing and the single processing env. \n",
    "Some models won't work with multiprocessing. \n",
    "\n",
    "```python\n",
    "# single processing\n",
    "env_train, _ = e_train_gym.get_sb_env()\n",
    "\n",
    "\n",
    "#multiprocessing\n",
    "env_train, _ = e_train_gym.get_multiproc_env(n = <n_cores>)\n",
    "```\n"
   ]
  },
  {
   "cell_type": "code",
   "execution_count": null,
   "metadata": {
    "colab": {
     "base_uri": "https://localhost:8080/"
    },
    "id": "xwSvvPjutpqS",
    "outputId": "42a86c00-9f5d-4962-c1fe-7d52dbf5eba6"
   },
   "outputs": [],
   "source": [
    "# for this example, let's do multiprocessing with n_cores-2\n",
    "\n",
    "import multiprocessing\n",
    "\n",
    "n_cores = multiprocessing.cpu_count() - 2\n",
    "n_cores = 12\n",
    "print(f\"using {n_cores} cores\")\n",
    "\n",
    "\n",
    "# env_train, _ = e_train_gym.get_multiproc_env(n = n_cores)\n",
    "env_train, _ = e_train_gym.get_sb_env()\n"
   ]
  },
  {
   "cell_type": "markdown",
   "metadata": {
    "id": "HMNR5nHjh1iz"
   },
   "source": [
    "<a id='5'></a>\n",
    "# Part 6: Implement DRL Algorithms\n",
    "* The implementation of the DRL algorithms are based on **OpenAI Baselines** and **Stable Baselines**. Stable Baselines is a fork of OpenAI Baselines, with a major structural refactoring, and code cleanups.\n",
    "* FinRL library includes fine-tuned standard DRL algorithms, such as DQN, DDPG,\n",
    "Multi-Agent DDPG, PPO, SAC, A2C and TD3. We also allow users to\n",
    "design their own DRL algorithms by adapting these DRL algorithms."
   ]
  },
  {
   "cell_type": "code",
   "execution_count": null,
   "metadata": {
    "id": "364PsqckttcQ"
   },
   "outputs": [],
   "source": [
    "agent = DRLAgent(env = env_train)"
   ]
  },
  {
   "cell_type": "code",
   "execution_count": null,
   "metadata": {
    "colab": {
     "base_uri": "https://localhost:8080/"
    },
    "id": "nuYiLFma7W8H",
    "outputId": "013db8cc-9f0e-41a0-f51f-f08d99e4c4db"
   },
   "outputs": [],
   "source": [
    "print(config.PPO_PARAMS)"
   ]
  },
  {
   "cell_type": "markdown",
   "metadata": {
    "id": "YDmqOyF9h1iz"
   },
   "source": [
    "### Model Training: 5 models, A2C DDPG, PPO, TD3, SAC\n"
   ]
  },
  {
   "cell_type": "markdown",
   "metadata": {
    "id": "uijiWgkuh1jB"
   },
   "source": [
    "### Model 1: A2C\n"
   ]
  },
  {
   "cell_type": "code",
   "execution_count": null,
   "metadata": {
    "id": "GUCnkn-HIbmj"
   },
   "outputs": [],
   "source": [
    "# from torch.nn import Softsign\n",
    "# a2c_params = {\n",
    "#     \"ent_coef\": 0.01, \n",
    "#     \"learning_rate\": 9e-4,\n",
    "#     \"n_steps\": 10, \n",
    "#     \"gamma\": 0.98\n",
    "# }\n",
    "\n",
    "# policy_kwargs = {\n",
    "#     \"activation_fn\": Softsign\n",
    "# }\n",
    "\n",
    "# model = agent.get_model(\"a2c\",  model_kwargs = a2c_params, policy_kwargs = policy_kwargs)\n",
    "\n",
    "# model.load(\"quicksave_a2c_dow.model\")"
   ]
  },
  {
   "cell_type": "code",
   "execution_count": null,
   "metadata": {
    "colab": {
     "base_uri": "https://localhost:8080/"
    },
    "id": "U2UlXxVk7W8I",
    "outputId": "5c9108f3-6bd6-4479-859e-131837eb61af"
   },
   "outputs": [],
   "source": [
    "from torch.nn import Softsign, ReLU\n",
    "ppo_params ={'n_steps': 128, \n",
    "             'ent_coef': 0.01, \n",
    "             'learning_rate': 0.00025, \n",
    "             'batch_size': 256, \n",
    "            'gamma': 0.99}\n",
    "\n",
    "policy_kwargs = {\n",
    "#     \"activation_fn\": ReLU,\n",
    "    \"net_arch\": [1024, 1024, 1024], \n",
    "#     \"squash_output\": True\n",
    "}\n",
    "\n",
    "model = agent.get_model(\"ppo\",  model_kwargs = ppo_params, policy_kwargs = policy_kwargs, verbose = 0)\n",
    "# model.load(\"quicksave_ppo_dow.model\")\n"
   ]
  },
  {
   "cell_type": "code",
   "execution_count": null,
   "metadata": {
    "colab": {
     "base_uri": "https://localhost:8080/",
     "height": 1000
    },
    "id": "r-iVv5N-7W8I",
    "outputId": "0dbcaf9c-f32e-4f1c-98e0-fe168c5bf179"
   },
   "outputs": [],
   "source": [
    "model.learn(total_timesteps = 400000, \n",
    "            log_interval = 1, tb_log_name = 'ppo_1024_5_more_ooc_penalty',\n",
    "            reset_num_timesteps = True)"
   ]
  },
  {
   "cell_type": "code",
   "execution_count": null,
   "metadata": {
    "colab": {
     "base_uri": "https://localhost:8080/"
    },
    "id": "F143_mQW7W8I",
    "outputId": "695fb886-9c82-46f6-ef80-6101e703f544"
   },
   "outputs": [],
   "source": [
    "print(e_train_gym.actions_memory[:2])"
   ]
  },
  {
   "cell_type": "code",
   "execution_count": null,
   "metadata": {
    "id": "xkriHOXa7W8J"
   },
   "outputs": [],
   "source": [
    "model.save(\"quicksave_ppo_dow.model\")"
   ]
  },
  {
   "cell_type": "code",
   "execution_count": null,
   "metadata": {
    "id": "efwBi84ch1jE"
   },
   "outputs": [],
   "source": [
    "data_turbulence = processed[(processed.date<'2019-01-01') & (processed.date>='2009-01-01')]\n",
    "insample_turbulence = data_turbulence.drop_duplicates(subset=['date'])"
   ]
  },
  {
   "cell_type": "code",
   "execution_count": null,
   "metadata": {
    "colab": {
     "base_uri": "https://localhost:8080/"
    },
    "id": "VHZMBpSqh1jG",
    "outputId": "33f19973-75eb-4d74-b6c7-7084bfd6c5f9"
   },
   "outputs": [],
   "source": [
    "insample_turbulence.turbulence.describe()"
   ]
  },
  {
   "cell_type": "code",
   "execution_count": null,
   "metadata": {
    "id": "yuwDPkV9h1jL"
   },
   "outputs": [],
   "source": [
    "turbulence_threshold = np.quantile(insample_turbulence.turbulence.values,1)"
   ]
  },
  {
   "cell_type": "code",
   "execution_count": null,
   "metadata": {
    "colab": {
     "base_uri": "https://localhost:8080/"
    },
    "id": "wwoz_7VSh1jO",
    "outputId": "770adce1-c05f-49ef-8d89-c7b760c72b4b"
   },
   "outputs": [],
   "source": [
    "turbulence_threshold"
   ]
  },
  {
   "cell_type": "markdown",
   "metadata": {
    "id": "U5mmgQF_h1jQ"
   },
   "source": [
    "### Trade\n",
    "\n",
    "DRL model needs to update periodically in order to take full advantage of the data, ideally we need to retrain our model yearly, quarterly, or monthly. We also need to tune the parameters along the way, in this notebook I only use the in-sample data from 2009-01 to 2018-12 to tune the parameters once, so there is some alpha decay here as the length of trade date extends. \n",
    "\n",
    "Numerous hyperparameters – e.g. the learning rate, the total number of samples to train on – influence the learning process and are usually determined by testing some variations."
   ]
  },
  {
   "cell_type": "code",
   "execution_count": null,
   "metadata": {
    "colab": {
     "base_uri": "https://localhost:8080/"
    },
    "id": "eLOnL5eYh1jR",
    "outputId": "2858d6d3-d708-47b9-bd46-15dda8142b79"
   },
   "outputs": [],
   "source": [
    "def DRL_prediction(model, environment):\n",
    "    test_env, test_obs = environment.get_sb_env()\n",
    "    \"\"\"make a prediction\"\"\"\n",
    "    account_memory = []\n",
    "    actions_memory = []\n",
    "    test_env.reset()\n",
    "    for i in range(len(environment.df.index.unique())):\n",
    "        action, _states = model.predict(test_obs)\n",
    "        #account_memory = test_env.env_method(method_name=\"save_asset_memory\")\n",
    "        #actions_memory = test_env.env_method(method_name=\"save_action_memory\")\n",
    "        test_obs, rewards, dones, info = test_env.step(action)\n",
    "        if not dones[0]:\n",
    "          account_memory = test_env.env_method(method_name=\"save_asset_memory\")\n",
    "          actions_memory = test_env.env_method(method_name=\"save_action_memory\")\n",
    "        if dones[0]:\n",
    "            print(\"hit end!\")\n",
    "            break\n",
    "    return account_memory[0], actions_memory[0]\n",
    "\n",
    "trade = data_split(processed, '2019-01-01','2021-01-01')\n",
    "e_trade_gym = StockTradingEnvV2(df = trade,hmax = 10, \n",
    "                              daily_information_cols = information_cols,\n",
    "                              print_verbosity = 500)\n",
    "\n",
    "df_account_value, df_actions = DRL_prediction(model=model,\n",
    "                        environment = e_trade_gym,)"
   ]
  },
  {
   "cell_type": "code",
   "execution_count": null,
   "metadata": {
    "colab": {
     "base_uri": "https://localhost:8080/"
    },
    "id": "ERxw3KqLkcP4",
    "outputId": "498919e3-52ea-4efc-d1f4-f8af351c271c"
   },
   "outputs": [],
   "source": [
    "df_account_value.shape"
   ]
  },
  {
   "cell_type": "code",
   "execution_count": null,
   "metadata": {
    "colab": {
     "base_uri": "https://localhost:8080/",
     "height": 1000
    },
    "id": "2yRkNguY5yvp",
    "outputId": "34beda57-b0b7-44eb-ee16-d8a985392509"
   },
   "outputs": [],
   "source": [
    "df_account_value.head(50)"
   ]
  },
  {
   "cell_type": "code",
   "execution_count": null,
   "metadata": {
    "colab": {
     "base_uri": "https://localhost:8080/"
    },
    "id": "nFlK5hNbWVFk",
    "outputId": "2d84a4d6-2713-4e63-fc50-b41285ae5a6a"
   },
   "outputs": [],
   "source": [
    "df_actions.to_dict(orient = 'rows')[:3]"
   ]
  },
  {
   "cell_type": "markdown",
   "metadata": {
    "id": "W6vvNSC6h1jZ"
   },
   "source": [
    "<a id='6'></a>\n",
    "# Part 7: Backtest Our Strategy\n",
    "Backtesting plays a key role in evaluating the performance of a trading strategy. Automated backtesting tool is preferred because it reduces the human error. We usually use the Quantopian pyfolio package to backtest our trading strategies. It is easy to use and consists of various individual plots that provide a comprehensive image of the performance of a trading strategy."
   ]
  },
  {
   "cell_type": "markdown",
   "metadata": {
    "id": "Lr2zX7ZxNyFQ"
   },
   "source": [
    "<a id='6.1'></a>\n",
    "## 7.1 BackTestStats\n",
    "pass in df_account_value, this information is stored in env class\n"
   ]
  },
  {
   "cell_type": "code",
   "execution_count": null,
   "metadata": {
    "colab": {
     "base_uri": "https://localhost:8080/"
    },
    "id": "Nzkr9yv-AdV_",
    "outputId": "2f2fb484-f7f5-4349-bcfe-f4102349ed85"
   },
   "outputs": [],
   "source": [
    "print(\"==============Get Backtest Results===========\")\n",
    "now = datetime.datetime.now().strftime('%Y%m%d-%Hh%M')\n",
    "\n",
    "perf_stats_all = backtest_stats(account_value=df_account_value, value_col_name = 'total_assets')\n",
    "perf_stats_all = pd.DataFrame(perf_stats_all)\n",
    "perf_stats_all.to_csv(\"./\"+config.RESULTS_DIR+\"/perf_stats_all_\"+now+'.csv')"
   ]
  },
  {
   "cell_type": "markdown",
   "metadata": {
    "id": "9U6Suru3h1jc"
   },
   "source": [
    "<a id='6.2'></a>\n",
    "## 7.2 BackTestPlot"
   ]
  },
  {
   "cell_type": "code",
   "execution_count": null,
   "metadata": {
    "colab": {
     "base_uri": "https://localhost:8080/",
     "height": 1000
    },
    "id": "lKRGftSS7pNM",
    "outputId": "f6b889d6-242e-4f0f-eb0e-954d8a0cc459"
   },
   "outputs": [],
   "source": [
    "print(\"==============Compare to DJIA===========\")\n",
    "%matplotlib inline\n",
    "# S&P 500: ^GSPC\n",
    "# Dow Jones Index: ^DJI\n",
    "# NASDAQ 100: ^NDX\n",
    "backtest_plot(df_account_value, \n",
    "             baseline_ticker = '^DJI', \n",
    "             baseline_start = df_account_value.date.values[0],\n",
    "             baseline_end = df_account_value.date.values[-1], value_col_name = 'total_assets')"
   ]
  },
  {
   "cell_type": "markdown",
   "metadata": {
    "id": "SlLT9_5WN478"
   },
   "source": [
    "<a id='6.3'></a>\n",
    "## 7.3 Baseline Stats"
   ]
  },
  {
   "cell_type": "code",
   "execution_count": null,
   "metadata": {
    "colab": {
     "base_uri": "https://localhost:8080/"
    },
    "id": "YktexHcqh1jc",
    "outputId": "56f1bbee-7ff2-4be2-da0a-d8ef77c43f5b"
   },
   "outputs": [],
   "source": [
    "#baseline stats\n",
    "print(\"==============Get Baseline Stats===========\")\n",
    "baseline_df = get_baseline(\n",
    "        ticker=\"^DJI\", \n",
    "        start = df_account_value.loc[0,'date'],\n",
    "        end = df_account_value.loc[len(df_account_value)-1,'date'])\n",
    "\n",
    "stats = backtest_stats(baseline_df, value_col_name = 'close')"
   ]
  }
 ],
 "metadata": {
  "colab": {
   "collapsed_sections": [
    "uijiWgkuh1jB",
    "MRiOtrywfAo1",
    "_gDkU-j-fCmZ",
    "3Zpv4S0-fDBv"
   ],
   "name": "FinRL_demo_docker.ipynb",
   "provenance": [],
   "toc_visible": true
  },
  "kernelspec": {
   "display_name": "Python 3",
   "language": "python",
   "name": "python3"
  },
  "language_info": {
   "codemirror_mode": {
    "name": "ipython",
    "version": 3
   },
   "file_extension": ".py",
   "mimetype": "text/x-python",
   "name": "python",
   "nbconvert_exporter": "python",
   "pygments_lexer": "ipython3",
   "version": "3.6.12"
  }
 },
 "nbformat": 4,
 "nbformat_minor": 4
}